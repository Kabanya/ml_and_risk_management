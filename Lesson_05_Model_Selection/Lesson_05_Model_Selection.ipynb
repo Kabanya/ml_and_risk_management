{
 "cells": [
  {
   "cell_type": "markdown",
   "metadata": {
    "id": "0MHiEpgf4pj8"
   },
   "source": [
    "# Фильтрационный отбор признаков\n",
    "\n",
    "---\n",
    "\n"
   ]
  },
  {
   "cell_type": "code",
   "execution_count": null,
   "metadata": {
    "ExecuteTime": {
     "end_time": "2025-05-20T21:12:14.927896Z",
     "start_time": "2025-05-20T21:12:14.924518Z"
    },
    "colab": {
     "base_uri": "https://localhost:8080/"
    },
    "id": "MYpmFLdakOcM",
    "outputId": "3f2c7112-af47-4360-ad3e-4bbdef141f5a"
   },
   "outputs": [],
   "source": [
    "# !pip install ucimlrepo"
   ]
  },
  {
   "cell_type": "code",
   "execution_count": null,
   "metadata": {
    "ExecuteTime": {
     "end_time": "2025-05-20T21:12:15.108029Z",
     "start_time": "2025-05-20T21:12:14.965941Z"
    },
    "id": "Kcz7imrXIr4R"
   },
   "outputs": [],
   "source": [
    "from tqdm import tqdm\n",
    "import numpy as np\n",
    "import pandas as pd\n",
    "\n",
    "import matplotlib.pyplot as plt\n",
    "import seaborn as sns\n",
    "\n",
    "from sklearn.feature_selection import mutual_info_classif, mutual_info_regression\n",
    "from sklearn.model_selection import train_test_split\n",
    "from sklearn.metrics import roc_auc_score\n",
    "\n",
    "from sklearn.linear_model import LogisticRegression"
   ]
  },
  {
   "cell_type": "markdown",
   "metadata": {
    "id": "VIMtGpd5kdUa"
   },
   "source": [
    "[UCI: Taiwanese Bankruptcy Prediction](https://archive.ics.uci.edu/dataset/572/taiwanese+bankruptcy+prediction)"
   ]
  },
  {
   "cell_type": "markdown",
   "metadata": {
    "id": "NCdxceD5lT4A"
   },
   "source": [
    "## Импортируем наш игрушечный набор данных"
   ]
  },
  {
   "cell_type": "code",
   "execution_count": null,
   "metadata": {
    "ExecuteTime": {
     "end_time": "2025-05-20T21:12:22.364464Z",
     "start_time": "2025-05-20T21:12:15.482497Z"
    },
    "id": "oAgeqId7TSc3"
   },
   "outputs": [],
   "source": [
    "from ucimlrepo import fetch_ucirepo\n",
    "\n",
    "# fetch dataset\n",
    "taiwanese_bankruptcy_prediction = fetch_ucirepo(id=572)\n",
    "\n",
    "# data (as pandas dataframes)\n",
    "X = taiwanese_bankruptcy_prediction.data.features\n",
    "y = taiwanese_bankruptcy_prediction.data.targets"
   ]
  },
  {
   "cell_type": "code",
   "execution_count": null,
   "metadata": {
    "ExecuteTime": {
     "end_time": "2025-05-20T21:12:22.403669Z",
     "start_time": "2025-05-20T21:12:22.399641Z"
    },
    "id": "BsF14OSlndH7"
   },
   "outputs": [],
   "source": [
    "X = X.drop([' Net Income Flag'], axis=1)"
   ]
  },
  {
   "cell_type": "code",
   "execution_count": null,
   "metadata": {
    "ExecuteTime": {
     "end_time": "2025-05-20T21:12:22.452412Z",
     "start_time": "2025-05-20T21:12:22.449773Z"
    },
    "id": "p10DOn2P2yKP"
   },
   "outputs": [],
   "source": [
    "features_names = X.columns"
   ]
  },
  {
   "cell_type": "code",
   "execution_count": null,
   "metadata": {
    "ExecuteTime": {
     "end_time": "2025-05-20T21:12:22.496708Z",
     "start_time": "2025-05-20T21:12:22.492834Z"
    },
    "id": "TmFxj3zCmD96"
   },
   "outputs": [],
   "source": [
    "df = X.copy()\n",
    "df['target'] = y.iloc[:, 0]"
   ]
  },
  {
   "cell_type": "code",
   "execution_count": null,
   "metadata": {
    "ExecuteTime": {
     "end_time": "2025-05-20T21:12:22.520631Z",
     "start_time": "2025-05-20T21:12:22.518068Z"
    },
    "id": "3qEO_AuDqlfu"
   },
   "outputs": [],
   "source": [
    "SEED = 42"
   ]
  },
  {
   "cell_type": "code",
   "execution_count": null,
   "metadata": {
    "ExecuteTime": {
     "end_time": "2025-05-20T21:12:22.546575Z",
     "start_time": "2025-05-20T21:12:22.541909Z"
    },
    "id": "PwY1d89BqSxX"
   },
   "outputs": [],
   "source": [
    "df_train, df_test = train_test_split(df, test_size=0.2, random_state=SEED)"
   ]
  },
  {
   "cell_type": "code",
   "execution_count": null,
   "metadata": {
    "ExecuteTime": {
     "end_time": "2025-05-20T21:12:22.580637Z",
     "start_time": "2025-05-20T21:12:22.576375Z"
    },
    "colab": {
     "base_uri": "https://localhost:8080/"
    },
    "id": "HHgg9-R7qusq",
    "outputId": "0568e64b-51b5-4bae-d442-2c0f0dff9f01"
   },
   "outputs": [],
   "source": [
    "df_train.shape, df_test.shape"
   ]
  },
  {
   "cell_type": "code",
   "execution_count": null,
   "metadata": {
    "ExecuteTime": {
     "end_time": "2025-05-20T21:12:22.635104Z",
     "start_time": "2025-05-20T21:12:22.632531Z"
    },
    "id": "KWfzK6QjrnT4"
   },
   "outputs": [],
   "source": [
    "y_train, y_test = df_train.target, df_test.target"
   ]
  },
  {
   "cell_type": "code",
   "execution_count": null,
   "metadata": {
    "ExecuteTime": {
     "end_time": "2025-05-20T21:12:22.670998Z",
     "start_time": "2025-05-20T21:12:22.668223Z"
    },
    "id": "BFohoWorr7ig"
   },
   "outputs": [],
   "source": [
    "model = LogisticRegression(random_state=SEED)"
   ]
  },
  {
   "cell_type": "markdown",
   "metadata": {
    "id": "jwX-6anvlMM_"
   },
   "source": [
    "## Используем несколько фильтрационных методов отбора признаков"
   ]
  },
  {
   "cell_type": "markdown",
   "metadata": {
    "id": "KeKs_InXlzXN"
   },
   "source": [
    "### Ранговая корреляция Спирмана"
   ]
  },
  {
   "cell_type": "code",
   "execution_count": null,
   "metadata": {
    "ExecuteTime": {
     "end_time": "2025-05-20T21:12:22.748152Z",
     "start_time": "2025-05-20T21:12:22.701445Z"
    },
    "id": "0mIsYYoOmBcB"
   },
   "outputs": [],
   "source": [
    "spearman_cormat = df_train.corr(method='spearman')\n",
    "spearman_corvec = spearman_cormat.iloc[:-1, -1]"
   ]
  },
  {
   "cell_type": "code",
   "execution_count": null,
   "metadata": {
    "ExecuteTime": {
     "end_time": "2025-05-20T21:12:22.788715Z",
     "start_time": "2025-05-20T21:12:22.784809Z"
    },
    "colab": {
     "base_uri": "https://localhost:8080/",
     "height": 458
    },
    "id": "A5utt-5bFp6h",
    "outputId": "8d3cc9eb-6e80-4dc8-c885-2057428e5939"
   },
   "outputs": [],
   "source": [
    "spearman_corvec"
   ]
  },
  {
   "cell_type": "code",
   "execution_count": null,
   "metadata": {
    "ExecuteTime": {
     "end_time": "2025-05-20T21:12:22.866890Z",
     "start_time": "2025-05-20T21:12:22.864219Z"
    },
    "id": "CiIUSwa_sr1D"
   },
   "outputs": [],
   "source": [
    "# absolute_correlations"
   ]
  },
  {
   "cell_type": "code",
   "execution_count": null,
   "metadata": {
    "ExecuteTime": {
     "end_time": "2025-05-20T21:12:23.261642Z",
     "start_time": "2025-05-20T21:12:23.258707Z"
    },
    "id": "vi0QkxVAphwK"
   },
   "outputs": [],
   "source": [
    "def FilterFitValidate(correlations, n_select):\n",
    "    \"\"\"\n",
    "    Вспомогательная функция для фильтрации признаков по вектору корреляций\n",
    "    с таргетом, обучения и валидации модели\n",
    "    \"\"\"\n",
    "    best_filtered = correlations.abs().nlargest(n_select).index\n",
    "    X_train = df_train[best_filtered]\n",
    "    X_test = df_test[best_filtered]\n",
    "    model_filtered = model.fit(X_train, y_train)\n",
    "    y_pred = model_filtered.predict_proba(X_test)[:, 1]\n",
    "\n",
    "    roc_auc_value = roc_auc_score(y_test, y_pred)\n",
    "\n",
    "    return round(roc_auc_value, 2), best_filtered"
   ]
  },
  {
   "cell_type": "code",
   "execution_count": null,
   "metadata": {
    "ExecuteTime": {
     "end_time": "2025-05-20T21:12:23.578881Z",
     "start_time": "2025-05-20T21:12:23.535224Z"
    },
    "colab": {
     "base_uri": "https://localhost:8080/"
    },
    "id": "r5Wt-qpptCQJ",
    "outputId": "915393c3-7ac7-44d0-ae3e-c3ad7a208463"
   },
   "outputs": [],
   "source": [
    "roc_auc_value, selected_features = FilterFitValidate(spearman_corvec, 10)\n",
    "print(roc_auc_value, selected_features)"
   ]
  },
  {
   "cell_type": "markdown",
   "metadata": {
    "id": "6o687Eu2ofUZ"
   },
   "source": [
    "### Взаимная информация"
   ]
  },
  {
   "cell_type": "code",
   "execution_count": null,
   "metadata": {
    "ExecuteTime": {
     "end_time": "2025-05-20T21:15:05.368953Z",
     "start_time": "2025-05-20T21:12:23.701182Z"
    },
    "colab": {
     "base_uri": "https://localhost:8080/"
    },
    "id": "Ws9ktbSsoz0a",
    "outputId": "2640b6fb-d04a-4045-bab6-f2ab8fe850be"
   },
   "outputs": [],
   "source": [
    "# При желании можно поиграть с матрицей взаимной информации\n",
    "\n",
    "mi_vectors = []\n",
    "for i in tqdm(df_train.columns):\n",
    "  try:\n",
    "    mi_vectors.append(mutual_info_classif(df_train, y=df_train[i]))\n",
    "  except:\n",
    "    mi_vectors.append(mutual_info_regression(df_train, y=df_train[i]))"
   ]
  },
  {
   "cell_type": "code",
   "execution_count": null,
   "metadata": {
    "ExecuteTime": {
     "end_time": "2025-05-20T21:15:05.449095Z",
     "start_time": "2025-05-20T21:15:05.444202Z"
    },
    "id": "-8mMQqELu_F4"
   },
   "outputs": [],
   "source": [
    "mi_cormat = pd.DataFrame(mi_vectors, columns=df_train.columns, index=df_train.columns)\n",
    "mi_corvec = mi_cormat.iloc[:-1, -1]"
   ]
  },
  {
   "cell_type": "code",
   "execution_count": null,
   "metadata": {
    "ExecuteTime": {
     "end_time": "2025-05-20T21:15:06.478518Z",
     "start_time": "2025-05-20T21:15:05.481507Z"
    },
    "id": "uoJ2Atdo4cQA"
   },
   "outputs": [],
   "source": [
    "mi_corvec = pd.Series(mutual_info_classif(df_train, y=y_train)[:-1], index=features_names)"
   ]
  },
  {
   "cell_type": "code",
   "execution_count": null,
   "metadata": {
    "ExecuteTime": {
     "end_time": "2025-05-20T21:15:06.528502Z",
     "start_time": "2025-05-20T21:15:06.513168Z"
    },
    "colab": {
     "base_uri": "https://localhost:8080/"
    },
    "id": "XR23Cn2BxVxS",
    "outputId": "86a6de88-ae5b-4b67-8d3a-4cc3edb1c58c"
   },
   "outputs": [],
   "source": [
    "roc_auc_value, selected_features = FilterFitValidate(mi_corvec, 10)\n",
    "print(roc_auc_value, selected_features)"
   ]
  },
  {
   "cell_type": "markdown",
   "metadata": {
    "id": "L2FVAnK91sjQ"
   },
   "source": [
    "### ROC AUC"
   ]
  },
  {
   "cell_type": "code",
   "execution_count": null,
   "metadata": {
    "ExecuteTime": {
     "end_time": "2025-05-20T21:15:06.708357Z",
     "start_time": "2025-05-20T21:15:06.579230Z"
    },
    "id": "kS5lbFhL11hx"
   },
   "outputs": [],
   "source": [
    "auc_corvec = pd.Series({i: roc_auc_score(y_train, df_train.loc[:, i]) for i in features_names})"
   ]
  },
  {
   "cell_type": "code",
   "execution_count": null,
   "metadata": {
    "ExecuteTime": {
     "end_time": "2025-05-20T21:15:06.776363Z",
     "start_time": "2025-05-20T21:15:06.758501Z"
    },
    "colab": {
     "base_uri": "https://localhost:8080/"
    },
    "id": "M7TNvapI3blN",
    "outputId": "9bb54a08-87d6-4e60-9226-7c8830877bfd"
   },
   "outputs": [],
   "source": [
    "roc_auc_value, selected_features = FilterFitValidate(auc_corvec, 10)\n",
    "print(roc_auc_value, selected_features)"
   ]
  },
  {
   "cell_type": "markdown",
   "metadata": {
    "id": "RgNP8PVZ5Jwh"
   },
   "source": [
    "## Немного фантазии на тему избыточности информации"
   ]
  },
  {
   "cell_type": "markdown",
   "metadata": {
    "id": "pOO_7XeH_dV-"
   },
   "source": [
    "[немного про аггломерацию признаков](https://scikit-learn.org/stable/auto_examples/cluster/plot_feature_agglomeration_vs_univariate_selection.html#sphx-glr-auto-examples-cluster-plot-feature-agglomeration-vs-univariate-selection-py)"
   ]
  },
  {
   "cell_type": "code",
   "execution_count": null,
   "metadata": {
    "ExecuteTime": {
     "end_time": "2025-05-20T21:15:06.850641Z",
     "start_time": "2025-05-20T21:15:06.818701Z"
    },
    "id": "_WkFuGaD5WyO"
   },
   "outputs": [],
   "source": [
    "from sklearn.cluster import AgglomerativeClustering"
   ]
  },
  {
   "cell_type": "code",
   "execution_count": null,
   "metadata": {
    "ExecuteTime": {
     "end_time": "2025-05-20T21:15:06.900482Z",
     "start_time": "2025-05-20T21:15:06.898037Z"
    },
    "id": "AbOEvT01CkFP"
   },
   "outputs": [],
   "source": [
    "n_select = 10"
   ]
  },
  {
   "cell_type": "code",
   "execution_count": null,
   "metadata": {
    "ExecuteTime": {
     "end_time": "2025-05-20T21:15:06.953798Z",
     "start_time": "2025-05-20T21:15:06.948169Z"
    },
    "colab": {
     "base_uri": "https://localhost:8080/",
     "height": 79
    },
    "id": "FUkkUlOf7k2v",
    "outputId": "a266ed9d-a94b-4c73-9758-a60b5805b21c"
   },
   "outputs": [],
   "source": [
    "# clustering = AgglomerativeClustering(n_select).fit(spearman_cormat)\n",
    "clustering = AgglomerativeClustering(n_select).fit(mi_cormat)\n",
    "clustering"
   ]
  },
  {
   "cell_type": "code",
   "execution_count": null,
   "metadata": {
    "ExecuteTime": {
     "end_time": "2025-05-20T21:15:07.018599Z",
     "start_time": "2025-05-20T21:15:07.015576Z"
    },
    "id": "ynpdva847yj-"
   },
   "outputs": [],
   "source": [
    "# spearman_cormat_ = spearman_cormat.copy()\n",
    "spearman_cormat_ = mi_cormat.copy()\n",
    "spearman_cormat_['label'] = clustering.labels_\n",
    "spearman_cormat_ = spearman_cormat_.iloc[:-1, ]"
   ]
  },
  {
   "cell_type": "code",
   "execution_count": null,
   "metadata": {
    "ExecuteTime": {
     "end_time": "2025-05-20T21:15:07.751672Z",
     "start_time": "2025-05-20T21:15:07.070609Z"
    },
    "colab": {
     "base_uri": "https://localhost:8080/",
     "height": 1000
    },
    "id": "pcGYbKGa8QrC",
    "outputId": "d4c4baee-089a-44f9-c73e-a68ff03f9d29"
   },
   "outputs": [],
   "source": [
    "plt.figure(figsize=(20, 20))\n",
    "sns.heatmap(spearman_cormat_.sort_values(by='label').drop('label', axis=1))\n",
    "plt.show()"
   ]
  },
  {
   "cell_type": "code",
   "execution_count": null,
   "metadata": {
    "ExecuteTime": {
     "end_time": "2025-05-20T21:15:07.852766Z",
     "start_time": "2025-05-20T21:15:07.847978Z"
    },
    "id": "pxOQ6PHH81_8"
   },
   "outputs": [],
   "source": [
    "filtration_with_clustering = [\n",
    "    spearman_cormat_.loc[spearman_cormat_.label.eq(i), :].target.abs().idxmax() for i in range(n_select)\n",
    "    ]"
   ]
  },
  {
   "cell_type": "code",
   "execution_count": null,
   "metadata": {
    "ExecuteTime": {
     "end_time": "2025-05-20T21:15:07.907210Z",
     "start_time": "2025-05-20T21:15:07.904667Z"
    },
    "colab": {
     "base_uri": "https://localhost:8080/"
    },
    "id": "oTaulvJBB_da",
    "outputId": "ce59edfe-def5-46b5-cd4d-ec8a9c7d5f26"
   },
   "outputs": [],
   "source": [
    "filtration_with_clustering"
   ]
  },
  {
   "cell_type": "code",
   "execution_count": null,
   "metadata": {
    "ExecuteTime": {
     "end_time": "2025-05-20T21:15:07.966865Z",
     "start_time": "2025-05-20T21:15:07.955230Z"
    },
    "id": "mUATNjp1BRiV"
   },
   "outputs": [],
   "source": [
    "X_train_clust = df_train[filtration_with_clustering]\n",
    "X_test_clust = df_test[filtration_with_clustering]\n",
    "model_filtered = model.fit(X_train_clust, y_train)\n",
    "y_pred = model_filtered.predict_proba(X_test_clust)[:, 1]\n",
    "\n",
    "roc_auc_value = roc_auc_score(y_test, y_pred)"
   ]
  },
  {
   "cell_type": "code",
   "execution_count": null,
   "metadata": {
    "ExecuteTime": {
     "end_time": "2025-05-20T21:15:08.022810Z",
     "start_time": "2025-05-20T21:15:08.019517Z"
    },
    "colab": {
     "base_uri": "https://localhost:8080/"
    },
    "id": "8dm8uoMKBkMi",
    "outputId": "2a64b629-9db2-471d-c93a-9032e69ac0ea"
   },
   "outputs": [],
   "source": [
    "round(roc_auc_value, 2)"
   ]
  },
  {
   "cell_type": "markdown",
   "metadata": {
    "id": "f_JI97PMByr9"
   },
   "source": [
    "# Обёрточный отбор признаков"
   ]
  },
  {
   "cell_type": "markdown",
   "metadata": {
    "id": "DATI_QzAJvwO"
   },
   "source": [
    "## Жадный прямой отбор"
   ]
  },
  {
   "cell_type": "code",
   "execution_count": null,
   "metadata": {
    "ExecuteTime": {
     "end_time": "2025-05-20T21:15:08.091168Z",
     "start_time": "2025-05-20T21:15:08.088661Z"
    },
    "id": "QXxVo1I1LVjo"
   },
   "outputs": [],
   "source": [
    "from sklearn.feature_selection import SequentialFeatureSelector, RFECV"
   ]
  },
  {
   "cell_type": "code",
   "execution_count": null,
   "metadata": {
    "ExecuteTime": {
     "end_time": "2025-05-20T21:15:08.150272Z",
     "start_time": "2025-05-20T21:15:08.147888Z"
    },
    "id": "Qb4dw1RKOLTK"
   },
   "outputs": [],
   "source": [
    "n_select = 10"
   ]
  },
  {
   "cell_type": "code",
   "execution_count": null,
   "metadata": {
    "ExecuteTime": {
     "end_time": "2025-05-20T21:15:08.208585Z",
     "start_time": "2025-05-20T21:15:08.205018Z"
    },
    "id": "2ci70W7DLfVz"
   },
   "outputs": [],
   "source": [
    "def forward_feature_selection(learner, X_train_, y_train, X_test_, y_test, n_features_to_select=2):\n",
    "    n=n_features_to_select\n",
    "\n",
    "    best_features = []\n",
    "    best_scores = []\n",
    "\n",
    "    for i in range(1, n+1):\n",
    "        scores = []\n",
    "        for feature in X_train_.columns:\n",
    "            selected_features = best_features.copy()\n",
    "            selected_features.append(feature)\n",
    "            model = learner.fit(X_train_[selected_features], y_train)\n",
    "            score = roc_auc_score(y_test, model.predict_proba(X_test_[selected_features])[:, 1])\n",
    "            scores.append(score)\n",
    "        selected_feature = X_train_.columns[np.argmax(scores)]\n",
    "        best_features.append(selected_feature)\n",
    "        best_model = learner.fit(X_train_[best_features], y_train)\n",
    "        best_score_ = roc_auc_score(y_test, best_model.predict_proba(X_test_[best_features])[:, 1])\n",
    "        best_scores.append(best_score_)\n",
    "\n",
    "    return best_score_, best_features"
   ]
  },
  {
   "cell_type": "code",
   "execution_count": null,
   "metadata": {
    "ExecuteTime": {
     "end_time": "2025-05-20T21:16:32.344400Z",
     "start_time": "2025-05-20T21:15:08.264440Z"
    },
    "colab": {
     "base_uri": "https://localhost:8080/"
    },
    "id": "J3IING3FMaQy",
    "outputId": "67c49fea-2504-4c21-a98a-e595c278804f"
   },
   "outputs": [],
   "source": [
    "scores_trace = []\n",
    "for i in tqdm(range(1, n_select)):\n",
    "    best_score, best_features = forward_feature_selection(\n",
    "        model,\n",
    "        df_train.iloc[:, :-1],\n",
    "        y_train,\n",
    "        df_test.iloc[:, :-1],\n",
    "        y_test,\n",
    "        i\n",
    "    )\n",
    "    scores_trace.append(best_score)"
   ]
  },
  {
   "cell_type": "code",
   "execution_count": null,
   "metadata": {
    "ExecuteTime": {
     "end_time": "2025-05-20T21:16:44.780729Z",
     "start_time": "2025-05-20T21:16:44.777541Z"
    },
    "colab": {
     "base_uri": "https://localhost:8080/"
    },
    "id": "ZajRpbvrNEm6",
    "outputId": "e5898f40-b3a7-4d33-8d2a-9c7881587d23"
   },
   "outputs": [],
   "source": [
    "best_score, best_features"
   ]
  },
  {
   "cell_type": "code",
   "execution_count": null,
   "metadata": {
    "ExecuteTime": {
     "end_time": "2025-05-20T21:16:44.907504Z",
     "start_time": "2025-05-20T21:16:44.829710Z"
    },
    "colab": {
     "base_uri": "https://localhost:8080/",
     "height": 448
    },
    "id": "Hhw4pP6kWNCE",
    "outputId": "ad17910b-2091-4b24-f17c-a741b60b6072"
   },
   "outputs": [],
   "source": [
    "plt.plot(np.arange(9), scores_trace, label='Test ROC AUC')"
   ]
  },
  {
   "cell_type": "markdown",
   "metadata": {
    "id": "IHL6FKYRWjE-"
   },
   "source": [
    "## Неградиентная оптимизация для отбора признаков"
   ]
  },
  {
   "cell_type": "code",
   "execution_count": null,
   "metadata": {
    "ExecuteTime": {
     "end_time": "2025-05-20T21:16:44.957165Z",
     "start_time": "2025-05-20T21:16:44.954994Z"
    },
    "colab": {
     "base_uri": "https://localhost:8080/"
    },
    "id": "mf30Vo_NKwhz",
    "outputId": "e4171bb6-0fc0-453c-cb42-311ef7ad03c3"
   },
   "outputs": [],
   "source": [
    "# !pip install optuna"
   ]
  },
  {
   "cell_type": "code",
   "execution_count": null,
   "metadata": {
    "ExecuteTime": {
     "end_time": "2025-05-20T21:16:45.057196Z",
     "start_time": "2025-05-20T21:16:45.001505Z"
    },
    "id": "vXhsUUKnKYZX"
   },
   "outputs": [],
   "source": [
    "import optuna\n",
    "from optuna.samplers import TPESampler\n",
    "import warnings\n",
    "# from sklearn.model_selection import RepeatedStratifiedKFold"
   ]
  },
  {
   "cell_type": "code",
   "execution_count": null,
   "metadata": {
    "ExecuteTime": {
     "end_time": "2025-05-20T21:16:45.110461Z",
     "start_time": "2025-05-20T21:16:45.106852Z"
    },
    "id": "KBxtSLfKKusC"
   },
   "outputs": [],
   "source": [
    "def FeatureSelector(trial, df_train, df_test, random_state):\n",
    "\n",
    "    features_series = pd.Series(\n",
    "        {\n",
    "            i: trial.suggest_categorical(i, [0, 1])\n",
    "            for i in df_train.iloc[:, :-1].columns\n",
    "        }\n",
    "    )\n",
    "    best_features = features_series[features_series.eq(1)].index.to_list()\n",
    "    X_train, y_train = df_train[best_features], df_train.target\n",
    "    X_test, y_test = df_test[best_features], df_test.target\n",
    "\n",
    "    model = LogisticRegression(random_state=random_state)\n",
    "    model.fit(X_train, y_train)\n",
    "    y_pred = model.predict_proba(X_test)[:, 1]\n",
    "\n",
    "    roc_auc_value = roc_auc_score(y_test, y_pred)\n",
    "\n",
    "    return round(roc_auc_value, 2)"
   ]
  },
  {
   "cell_type": "code",
   "execution_count": null,
   "metadata": {
    "ExecuteTime": {
     "end_time": "2025-05-20T21:16:45.161665Z",
     "start_time": "2025-05-20T21:16:45.158877Z"
    },
    "id": "aB4-xujGPeF1"
   },
   "outputs": [],
   "source": [
    "optuna.logging.set_verbosity(optuna.logging.ERROR)"
   ]
  },
  {
   "cell_type": "code",
   "execution_count": null,
   "metadata": {
    "ExecuteTime": {
     "end_time": "2025-05-20T21:16:45.218038Z",
     "start_time": "2025-05-20T21:16:45.215885Z"
    },
    "id": "top5itVkPgZ8"
   },
   "outputs": [],
   "source": [
    "random_state = SEED"
   ]
  },
  {
   "cell_type": "markdown",
   "metadata": {
    "id": "6gELeZlaVhUo"
   },
   "source": [
    "### Для начала в лоб"
   ]
  },
  {
   "cell_type": "code",
   "execution_count": null,
   "metadata": {
    "ExecuteTime": {
     "end_time": "2025-05-20T21:17:02.515248Z",
     "start_time": "2025-05-20T21:16:45.278468Z"
    },
    "colab": {
     "base_uri": "https://localhost:8080/",
     "height": 49,
     "referenced_widgets": [
      "d391f2d47009477c82bd057ac258840c",
      "cc025563f6f344fa96356d7805b6a753",
      "a2dc9cf6b9d24729906e02453483c0cc",
      "e03c9666183148448598f6e8bfbc1f4b",
      "9d5999ab25c245edab361f8fa59bd245",
      "287e971d739a4fad98045df36edb4312",
      "0556c6beb9e9405c92304e562a22a201",
      "f943f6a57b1246f39b3483cd8e8ccdd1",
      "8d8b4b33b736479581be974a77c33f41",
      "ed3fe7e38fdb4e2288287ea7f0d4c6fa",
      "ebff48e0321f42b78f8726cf6b55551a"
     ]
    },
    "id": "BurXSOLBPmmZ",
    "outputId": "0c8423fa-0bb0-4c77-9568-6e0883b66e75"
   },
   "outputs": [],
   "source": [
    "sampler = TPESampler(seed=SEED)\n",
    "warnings.filterwarnings(\"ignore\")\n",
    "study = optuna.create_study(direction='maximize', sampler=sampler)\n",
    "study.optimize(\n",
    "    lambda trial: FeatureSelector(\n",
    "        trial,\n",
    "        df_train=df_train,\n",
    "        df_test=df_test,\n",
    "        random_state=SEED\n",
    "    ),\n",
    "    n_trials=200, timeout=600, show_progress_bar=True, n_jobs=-1,\n",
    "    gc_after_trial=False\n",
    ")"
   ]
  },
  {
   "cell_type": "code",
   "execution_count": null,
   "metadata": {
    "ExecuteTime": {
     "end_time": "2025-05-20T21:17:02.575157Z",
     "start_time": "2025-05-20T21:17:02.571621Z"
    },
    "colab": {
     "base_uri": "https://localhost:8080/"
    },
    "id": "4ue1AhSkP8-b",
    "outputId": "7e2a2d96-c50d-43fa-9532-db1fbfb575a6"
   },
   "outputs": [],
   "source": [
    "study.best_trial.value"
   ]
  },
  {
   "cell_type": "markdown",
   "metadata": {
    "id": "aXU_XKF-Vxdg"
   },
   "source": [
    "### Попробуем переписать целевую функцию\n"
   ]
  },
  {
   "cell_type": "code",
   "execution_count": null,
   "metadata": {
    "ExecuteTime": {
     "end_time": "2025-05-20T21:17:02.639537Z",
     "start_time": "2025-05-20T21:17:02.636052Z"
    },
    "id": "lNjXQDyOX67Z"
   },
   "outputs": [],
   "source": [
    "def FeatureSelector(trial, df_train, df_test, n_select, random_state):\n",
    "\n",
    "    best_features = [\n",
    "        trial.suggest_categorical(\n",
    "            f\"X{i}\",\n",
    "            df_train.iloc[:, :-1].columns\n",
    "        ) for i in range(1, n_select+1)\n",
    "    ]\n",
    "    best_features = list(set(best_features))\n",
    "\n",
    "    X_train, y_train = df_train[best_features], df_train.target\n",
    "    X_test, y_test = df_test[best_features], df_test.target\n",
    "\n",
    "    model = LogisticRegression(random_state=random_state)\n",
    "    model.fit(X_train, y_train)\n",
    "    y_pred = model.predict_proba(X_test)[:, 1]\n",
    "\n",
    "    roc_auc_value = roc_auc_score(y_test, y_pred)\n",
    "\n",
    "    return round(roc_auc_value, 2)"
   ]
  },
  {
   "cell_type": "code",
   "execution_count": null,
   "metadata": {
    "ExecuteTime": {
     "end_time": "2025-05-20T21:17:09.649210Z",
     "start_time": "2025-05-20T21:17:02.698333Z"
    },
    "colab": {
     "base_uri": "https://localhost:8080/",
     "height": 49,
     "referenced_widgets": [
      "260f12aceb2e413abb2bd83011297d84",
      "5fc3edaa564c44daad086533a74061b6",
      "d0fb283b80844c898a3fd0ba91237653",
      "f5d2b0194ecd404e81003e5dc4bde444",
      "534d011d6b8348c8be9f77d50daaab0c",
      "5f83f8195911492ab7c4cdb62faf4bea",
      "24a026d6494b437e881ba0b85db5ad9a",
      "4abf3f9956324205a6f052fad4da58e1",
      "0a36d1d102d24c08844b986b33bcd64d",
      "b23941a264444693a747427e4897139d",
      "f4b5007cdee14057919fa119d0c79017"
     ]
    },
    "id": "Y243VlCxVLHt",
    "outputId": "612382b7-2d83-4116-8e02-fd26aedda3dc"
   },
   "outputs": [],
   "source": [
    "sampler = TPESampler(seed=SEED)\n",
    "warnings.filterwarnings(\"ignore\")\n",
    "study_two = optuna.create_study(direction='maximize', sampler=sampler)\n",
    "study_two.optimize(\n",
    "    lambda trial: FeatureSelector(\n",
    "        trial,\n",
    "        df_train=df_train,\n",
    "        df_test=df_test,\n",
    "        n_select=n_select,\n",
    "        random_state=SEED\n",
    "    ),\n",
    "    n_trials=200, timeout=600, show_progress_bar=True, n_jobs=-1,\n",
    "    gc_after_trial=False\n",
    ")"
   ]
  },
  {
   "cell_type": "code",
   "execution_count": null,
   "metadata": {
    "ExecuteTime": {
     "end_time": "2025-05-20T21:17:09.752464Z",
     "start_time": "2025-05-20T21:17:09.748955Z"
    },
    "colab": {
     "base_uri": "https://localhost:8080/"
    },
    "id": "bIVvtJP_WyBn",
    "outputId": "3da8c213-7d1a-43d7-a8c9-c28482b6f9b6"
   },
   "outputs": [],
   "source": [
    "best_features_opt = list(study_two.best_params.values())\n",
    "best_features_opt"
   ]
  },
  {
   "cell_type": "markdown",
   "metadata": {
    "id": "YVHgSRyqd8H0"
   },
   "source": [
    "# Настройка Гиперпараметров"
   ]
  },
  {
   "cell_type": "markdown",
   "metadata": {
    "id": "kIt-9TEQzo5G"
   },
   "source": [
    "### Пример с частичным обучением"
   ]
  },
  {
   "cell_type": "code",
   "execution_count": null,
   "metadata": {
    "ExecuteTime": {
     "end_time": "2025-05-20T21:17:09.828035Z",
     "start_time": "2025-05-20T21:17:09.824224Z"
    },
    "colab": {
     "background_save": true
    },
    "id": "fzV05oydeAh0"
   },
   "outputs": [],
   "source": [
    "from sklearn.linear_model import SGDClassifier\n",
    "\n",
    "def objective(trial, df_train, df_test, random_state):\n",
    "\n",
    "    X_train, y_train = df_train.iloc[:, :-1], df_train.target\n",
    "    X_test, y_test = df_test.iloc[:, :-1], df_test.target\n",
    "    classes = np.unique(y_train)\n",
    "\n",
    "    alpha = trial.suggest_float(\"alpha\", 1e-5, 1e-1, log=True)\n",
    "    clf = SGDClassifier(alpha=alpha, loss='log_loss', random_state=random_state)\n",
    "\n",
    "    for step in range(100):\n",
    "        clf.partial_fit(X_train, y_train, classes=classes)\n",
    "\n",
    "        # Report intermediate objective value.\n",
    "        intermediate_value = roc_auc_score(y_test, clf.predict_proba(X_test)[:, 1])\n",
    "        trial.report(intermediate_value, step)\n",
    "\n",
    "        # Handle pruning based on the intermediate value.\n",
    "        if trial.should_prune():\n",
    "            raise optuna.TrialPruned()\n",
    "\n",
    "\n",
    "    return roc_auc_score(y_test, clf.predict_proba(X_test)[:, 1])"
   ]
  },
  {
   "cell_type": "code",
   "execution_count": null,
   "metadata": {
    "ExecuteTime": {
     "end_time": "2025-05-20T21:17:25.027220Z",
     "start_time": "2025-05-20T21:17:09.878593Z"
    },
    "colab": {
     "background_save": true,
     "referenced_widgets": [
      "5bad4878dfee45548af05adc83fac43b"
     ]
    },
    "id": "Yn4LIA1PqhE4",
    "outputId": "76dc6555-fb99-47df-c1a6-d5d3f5a2b13c"
   },
   "outputs": [],
   "source": [
    "warnings.filterwarnings(\"ignore\")\n",
    "study_three = optuna.create_study(\n",
    "    pruner=optuna.pruners.MedianPruner(),\n",
    "    direction='maximize',\n",
    "    sampler=sampler\n",
    ")\n",
    "study_three.optimize(\n",
    "    lambda trial: objective(\n",
    "        trial,\n",
    "        df_train=df_train[best_features_opt+['target']],\n",
    "        df_test=df_test[best_features_opt+['target']],\n",
    "        random_state=SEED\n",
    "    ),\n",
    "    n_trials=100,\n",
    "    timeout=600, show_progress_bar=True, n_jobs=-1,\n",
    "    gc_after_trial=False\n",
    ")"
   ]
  },
  {
   "cell_type": "code",
   "execution_count": null,
   "metadata": {
    "ExecuteTime": {
     "end_time": "2025-05-20T21:17:25.083029Z",
     "start_time": "2025-05-20T21:17:25.079406Z"
    },
    "colab": {
     "background_save": true
    },
    "id": "XLLl1W5byN-k",
    "outputId": "f9cb2daa-f401-491c-f523-91d5d04ade1d"
   },
   "outputs": [],
   "source": [
    "study_three.best_params"
   ]
  },
  {
   "cell_type": "markdown",
   "metadata": {
    "id": "MCKBfRRh6bRm"
   },
   "source": [
    "# Differential Evolution"
   ]
  },
  {
   "cell_type": "code",
   "execution_count": null,
   "metadata": {
    "ExecuteTime": {
     "end_time": "2025-05-20T21:17:28.056948Z",
     "start_time": "2025-05-20T21:17:25.145735Z"
    },
    "colab": {
     "base_uri": "https://localhost:8080/",
     "height": 1000
    },
    "id": "h6QJHgVq6aGv",
    "outputId": "59677e2a-bfd3-46f2-caa1-1616f4262f15"
   },
   "outputs": [],
   "source": [
    "from tqdm import tqdm\n",
    "import numpy as np\n",
    "import matplotlib.pyplot as plt\n",
    "from scipy.optimize import differential_evolution\n",
    "from matplotlib.animation import FuncAnimation\n",
    "from mpl_toolkits.mplot3d import Axes3D\n",
    "from IPython.display import HTML\n",
    "\n",
    "# Define the Rastrigin function\n",
    "def rastrigin(x):\n",
    "    return 20 + (x[0]**2 - 10 * np.cos(2 * np.pi * x[0])) + (x[1]**2 - 10 * np.cos(2 * np.pi * x[1]))\n",
    "\n",
    "# Bounds for x and y\n",
    "bounds = [(-5, 5), (-5, 5)]\n",
    "\n",
    "# Create a meshgrid for visualization\n",
    "x = np.linspace(-5, 5, 100)\n",
    "y = np.linspace(-5, 5, 100)\n",
    "X, Y = np.meshgrid(x, y)\n",
    "Z = rastrigin([X, Y])\n",
    "\n",
    "# Set up the figure\n",
    "fig = plt.figure(figsize=(12, 8))\n",
    "ax = fig.add_subplot(111, projection='3d')\n",
    "ax.plot_surface(X, Y, Z, cmap='viridis', alpha=0.6)\n",
    "ax.set_xlabel('x')\n",
    "ax.set_ylabel('y')\n",
    "ax.set_zlabel('f(x, y)')\n",
    "ax.set_title('Differential Evolution Optimization on Rastrigin Function')\n",
    "\n",
    "\n",
    "# Implement our own simple DE algorithm (better for teaching)\n",
    "\n",
    "\n",
    "def simple_de(func, bounds, popsize=7, maxiter=10, F=0.7, CR=0.3):\n",
    "    dim = len(bounds)\n",
    "    pop = np.random.rand(popsize, dim)\n",
    "    for i in range(popsize):\n",
    "        for j in range(dim):\n",
    "            pop[i,j] = bounds[j][0] + pop[i,j]*(bounds[j][1]-bounds[j][0])\n",
    "\n",
    "    history = [pop.copy()]\n",
    "    fitness = np.array([func(ind) for ind in pop])\n",
    "\n",
    "    for gen in range(maxiter):\n",
    "        for i in range(popsize):\n",
    "            # Mutation\n",
    "            candidates = [c for c in range(popsize) if c != i]\n",
    "            a, b, c = pop[np.random.choice(candidates, 3, replace=False)]\n",
    "            mutant = a + F * (b - c)\n",
    "\n",
    "            # Crossover\n",
    "            cross_points = np.random.rand(dim) < CR\n",
    "            trial = np.where(cross_points, mutant, pop[i])\n",
    "\n",
    "            # Clip to bounds\n",
    "            trial = np.clip(trial, [b[0] for b in bounds], [b[1] for b in bounds])\n",
    "\n",
    "            # Selection\n",
    "            f = func(trial)\n",
    "            if f < fitness[i]:\n",
    "                pop[i] = trial\n",
    "                fitness[i] = f\n",
    "\n",
    "        history.append(pop.copy())\n",
    "        print(f\"Generation {gen+1}, best fitness: {min(fitness):.4f}\")\n",
    "\n",
    "    best_idx = np.argmin(fitness)\n",
    "    return pop[best_idx], fitness[best_idx], history\n",
    "\n",
    "# Run our simple DE\n",
    "best_solution, best_fitness, population_history = simple_de(rastrigin, bounds)\n",
    "\n",
    "print(f\"Best solution: x={best_solution[0]:.4f}, y={best_solution[1]:.4f}\")\n",
    "print(f\"Best fitness: {best_fitness:.4f}\")\n",
    "\n",
    "# Animation function\n",
    "def update(frame):\n",
    "    ax.clear()\n",
    "    ax.plot_surface(X, Y, Z, cmap='viridis', alpha=0.6)\n",
    "    ax.set_xlabel('x')\n",
    "    ax.set_ylabel('y')\n",
    "    ax.set_zlabel('f(x, y)')\n",
    "    ax.set_title(f'Generation {frame}')\n",
    "\n",
    "    # Plot current population\n",
    "    population = population_history[frame]\n",
    "    for individual in population:\n",
    "        ax.scatter(individual[0], individual[1], rastrigin(individual), color='red', s=50)\n",
    "\n",
    "    # Plot best individual so far\n",
    "    current_fitness = [rastrigin(ind) for ind in population]\n",
    "    best_in_gen = population[np.argmin(current_fitness)]\n",
    "    ax.scatter(best_in_gen[0], best_in_gen[1], rastrigin(best_in_gen),\n",
    "               color='blue', s=100, marker='*')\n",
    "\n",
    "# Create animation\n",
    "ani = FuncAnimation(fig, update, frames=len(population_history), interval=500)\n",
    "plt.close()\n",
    "\n",
    "# Display animation\n",
    "HTML(ani.to_jshtml())"
   ]
  },
  {
   "cell_type": "code",
   "execution_count": null,
   "metadata": {
    "ExecuteTime": {
     "end_time": "2025-05-20T21:17:32.746561Z",
     "start_time": "2025-05-20T21:17:28.233726Z"
    },
    "colab": {
     "base_uri": "https://localhost:8080/",
     "height": 1000
    },
    "id": "SGK0l1NH9ExN",
    "outputId": "a8b24090-e4c1-4d1a-db47-9401c441e712"
   },
   "outputs": [],
   "source": [
    "import numpy as np\n",
    "import matplotlib.pyplot as plt\n",
    "from matplotlib.animation import FuncAnimation\n",
    "from IPython.display import HTML\n",
    "\n",
    "# Rastrigin function\n",
    "def rastrigin(x):\n",
    "    return 20 + (x[0]**2 - 10*np.cos(2*np.pi*x[0])) + (x[1]**2 - 10*np.cos(2*np.pi*x[1]))\n",
    "\n",
    "# Setup\n",
    "bounds = [(-5, 5), (-5, 5)]\n",
    "x = np.linspace(-5, 5, 100)\n",
    "y = np.linspace(-5, 5, 100)\n",
    "X, Y = np.meshgrid(x, y)\n",
    "Z = rastrigin([X, Y])\n",
    "\n",
    "# Figure setup\n",
    "fig, ax = plt.subplots(figsize=(10, 8))\n",
    "contour = ax.contourf(X, Y, Z, levels=20, cmap='viridis')\n",
    "plt.colorbar(contour, label='f(x,y)')\n",
    "ax.set_xlabel('x')\n",
    "ax.set_ylabel('y')\n",
    "ax.set_title('Differential Evolution with Convergence Path')\n",
    "\n",
    "\n",
    "def differential_evolution_2d(func, bounds, popsize=15, maxiter=30, F=0.7, CR=0.3):\n",
    "    global best_history\n",
    "    dim = len(bounds)\n",
    "    pop = np.random.rand(popsize, dim)\n",
    "    for i in range(popsize):\n",
    "        for j in range(dim):\n",
    "            pop[i,j] = bounds[j][0] + pop[i,j]*(bounds[j][1]-bounds[j][0])\n",
    "\n",
    "    history = [pop.copy()]\n",
    "    fitness = np.array([func(ind) for ind in pop])\n",
    "    best_history = [pop[np.argmin(fitness)]]\n",
    "\n",
    "    for gen in range(maxiter):\n",
    "        new_pop = pop.copy()\n",
    "        for i in range(popsize):\n",
    "            candidates = [c for c in range(popsize) if c != i]\n",
    "            a, b, c = pop[np.random.choice(candidates, 3, replace=False)]\n",
    "            mutant = a + F * (b - c)\n",
    "            trial = np.where(np.random.rand(dim) < CR, mutant, pop[i])\n",
    "            trial = np.clip(trial, [b[0] for b in bounds], [b[1] for b in bounds])\n",
    "\n",
    "            if func(trial) < fitness[i]:\n",
    "                new_pop[i] = trial\n",
    "                fitness[i] = func(trial)\n",
    "\n",
    "        pop = new_pop\n",
    "        history.append(pop.copy())\n",
    "        best_history.append(pop[np.argmin(fitness)])\n",
    "        print(f\"Gen {gen+1}, Best: {min(fitness):.4f} at {best_history[-1]}\")\n",
    "\n",
    "    best_idx = np.argmin(fitness)\n",
    "    return pop[best_idx], fitness[best_idx], history\n",
    "\n",
    "# Run optimization\n",
    "best_solution, best_fitness, population_history = differential_evolution_2d(rastrigin, bounds)\n",
    "\n",
    "# Animation function\n",
    "def update(frame):\n",
    "    ax.clear()\n",
    "    ax.contourf(X, Y, Z, levels=20, cmap='viridis', alpha=0.7)\n",
    "\n",
    "    # Current population\n",
    "    pop = population_history[frame]\n",
    "    ax.scatter(pop[:,0], pop[:,1], color='red', s=30, alpha=0.7, label='Population')\n",
    "\n",
    "    # Current best\n",
    "    current_best = best_history[frame]\n",
    "    ax.scatter(current_best[0], current_best[1], color='yellow', s=100,\n",
    "               marker='*', edgecolor='black', label='Current Best')\n",
    "\n",
    "    # Convergence path (up to current frame)\n",
    "    if frame > 0:\n",
    "        path = np.array(best_history[:frame+1])\n",
    "        ax.plot(path[:,0], path[:,1], 'w-', linewidth=2, alpha=0.7, label='Convergence Path')\n",
    "        ax.scatter(path[1:,0], path[1:,1], color='white', s=15, alpha=0.5)\n",
    "\n",
    "    # Global optimum\n",
    "    ax.scatter(0, 0, color='white', s=100, marker='P', edgecolor='black', label='Global Optimum')\n",
    "\n",
    "    ax.set_xlabel('x')\n",
    "    ax.set_ylabel('y')\n",
    "    ax.set_title(f'Generation {frame}')\n",
    "    ax.legend(loc='upper right')\n",
    "\n",
    "# Create and display animation\n",
    "ani = FuncAnimation(fig, update, frames=len(population_history), interval=500)\n",
    "# Save as GIF (using Pillow writer)\n",
    "# ani.save('de_optimization.gif', writer='pillow', fps=4, dpi=100)  # Adjust fps for speed\n",
    "\n",
    "# print(\"GIF saved as 'de_optimization.gif'\")\n",
    "# plt.close()\n",
    "plt.close()\n",
    "HTML(ani.to_jshtml())"
   ]
  }
 ],
 "metadata": {
  "colab": {
   "provenance": [],
   "toc_visible": true
  },
  "kernelspec": {
   "display_name": "base",
   "language": "python",
   "name": "python3"
  },
  "language_info": {
   "codemirror_mode": {
    "name": "ipython",
    "version": 3
   },
   "file_extension": ".py",
   "mimetype": "text/x-python",
   "name": "python",
   "nbconvert_exporter": "python",
   "pygments_lexer": "ipython3",
   "version": "3.12.7"
  },
  "widgets": {
   "application/vnd.jupyter.widget-state+json": {
    "0556c6beb9e9405c92304e562a22a201": {
     "model_module": "@jupyter-widgets/controls",
     "model_module_version": "1.5.0",
     "model_name": "DescriptionStyleModel",
     "state": {
      "_model_module": "@jupyter-widgets/controls",
      "_model_module_version": "1.5.0",
      "_model_name": "DescriptionStyleModel",
      "_view_count": null,
      "_view_module": "@jupyter-widgets/base",
      "_view_module_version": "1.2.0",
      "_view_name": "StyleView",
      "description_width": ""
     }
    },
    "0a36d1d102d24c08844b986b33bcd64d": {
     "model_module": "@jupyter-widgets/controls",
     "model_module_version": "1.5.0",
     "model_name": "ProgressStyleModel",
     "state": {
      "_model_module": "@jupyter-widgets/controls",
      "_model_module_version": "1.5.0",
      "_model_name": "ProgressStyleModel",
      "_view_count": null,
      "_view_module": "@jupyter-widgets/base",
      "_view_module_version": "1.2.0",
      "_view_name": "StyleView",
      "bar_color": null,
      "description_width": ""
     }
    },
    "24a026d6494b437e881ba0b85db5ad9a": {
     "model_module": "@jupyter-widgets/controls",
     "model_module_version": "1.5.0",
     "model_name": "DescriptionStyleModel",
     "state": {
      "_model_module": "@jupyter-widgets/controls",
      "_model_module_version": "1.5.0",
      "_model_name": "DescriptionStyleModel",
      "_view_count": null,
      "_view_module": "@jupyter-widgets/base",
      "_view_module_version": "1.2.0",
      "_view_name": "StyleView",
      "description_width": ""
     }
    },
    "260f12aceb2e413abb2bd83011297d84": {
     "model_module": "@jupyter-widgets/controls",
     "model_module_version": "1.5.0",
     "model_name": "HBoxModel",
     "state": {
      "_dom_classes": [],
      "_model_module": "@jupyter-widgets/controls",
      "_model_module_version": "1.5.0",
      "_model_name": "HBoxModel",
      "_view_count": null,
      "_view_module": "@jupyter-widgets/controls",
      "_view_module_version": "1.5.0",
      "_view_name": "HBoxView",
      "box_style": "",
      "children": [
       "IPY_MODEL_5fc3edaa564c44daad086533a74061b6",
       "IPY_MODEL_d0fb283b80844c898a3fd0ba91237653",
       "IPY_MODEL_f5d2b0194ecd404e81003e5dc4bde444"
      ],
      "layout": "IPY_MODEL_534d011d6b8348c8be9f77d50daaab0c"
     }
    },
    "287e971d739a4fad98045df36edb4312": {
     "model_module": "@jupyter-widgets/base",
     "model_module_version": "1.2.0",
     "model_name": "LayoutModel",
     "state": {
      "_model_module": "@jupyter-widgets/base",
      "_model_module_version": "1.2.0",
      "_model_name": "LayoutModel",
      "_view_count": null,
      "_view_module": "@jupyter-widgets/base",
      "_view_module_version": "1.2.0",
      "_view_name": "LayoutView",
      "align_content": null,
      "align_items": null,
      "align_self": null,
      "border": null,
      "bottom": null,
      "display": null,
      "flex": null,
      "flex_flow": null,
      "grid_area": null,
      "grid_auto_columns": null,
      "grid_auto_flow": null,
      "grid_auto_rows": null,
      "grid_column": null,
      "grid_gap": null,
      "grid_row": null,
      "grid_template_areas": null,
      "grid_template_columns": null,
      "grid_template_rows": null,
      "height": null,
      "justify_content": null,
      "justify_items": null,
      "left": null,
      "margin": null,
      "max_height": null,
      "max_width": null,
      "min_height": null,
      "min_width": null,
      "object_fit": null,
      "object_position": null,
      "order": null,
      "overflow": null,
      "overflow_x": null,
      "overflow_y": null,
      "padding": null,
      "right": null,
      "top": null,
      "visibility": null,
      "width": null
     }
    },
    "4abf3f9956324205a6f052fad4da58e1": {
     "model_module": "@jupyter-widgets/base",
     "model_module_version": "1.2.0",
     "model_name": "LayoutModel",
     "state": {
      "_model_module": "@jupyter-widgets/base",
      "_model_module_version": "1.2.0",
      "_model_name": "LayoutModel",
      "_view_count": null,
      "_view_module": "@jupyter-widgets/base",
      "_view_module_version": "1.2.0",
      "_view_name": "LayoutView",
      "align_content": null,
      "align_items": null,
      "align_self": null,
      "border": null,
      "bottom": null,
      "display": null,
      "flex": null,
      "flex_flow": null,
      "grid_area": null,
      "grid_auto_columns": null,
      "grid_auto_flow": null,
      "grid_auto_rows": null,
      "grid_column": null,
      "grid_gap": null,
      "grid_row": null,
      "grid_template_areas": null,
      "grid_template_columns": null,
      "grid_template_rows": null,
      "height": null,
      "justify_content": null,
      "justify_items": null,
      "left": null,
      "margin": null,
      "max_height": null,
      "max_width": null,
      "min_height": null,
      "min_width": null,
      "object_fit": null,
      "object_position": null,
      "order": null,
      "overflow": null,
      "overflow_x": null,
      "overflow_y": null,
      "padding": null,
      "right": null,
      "top": null,
      "visibility": null,
      "width": null
     }
    },
    "534d011d6b8348c8be9f77d50daaab0c": {
     "model_module": "@jupyter-widgets/base",
     "model_module_version": "1.2.0",
     "model_name": "LayoutModel",
     "state": {
      "_model_module": "@jupyter-widgets/base",
      "_model_module_version": "1.2.0",
      "_model_name": "LayoutModel",
      "_view_count": null,
      "_view_module": "@jupyter-widgets/base",
      "_view_module_version": "1.2.0",
      "_view_name": "LayoutView",
      "align_content": null,
      "align_items": null,
      "align_self": null,
      "border": null,
      "bottom": null,
      "display": null,
      "flex": null,
      "flex_flow": null,
      "grid_area": null,
      "grid_auto_columns": null,
      "grid_auto_flow": null,
      "grid_auto_rows": null,
      "grid_column": null,
      "grid_gap": null,
      "grid_row": null,
      "grid_template_areas": null,
      "grid_template_columns": null,
      "grid_template_rows": null,
      "height": null,
      "justify_content": null,
      "justify_items": null,
      "left": null,
      "margin": null,
      "max_height": null,
      "max_width": null,
      "min_height": null,
      "min_width": null,
      "object_fit": null,
      "object_position": null,
      "order": null,
      "overflow": null,
      "overflow_x": null,
      "overflow_y": null,
      "padding": null,
      "right": null,
      "top": null,
      "visibility": null,
      "width": null
     }
    },
    "5f83f8195911492ab7c4cdb62faf4bea": {
     "model_module": "@jupyter-widgets/base",
     "model_module_version": "1.2.0",
     "model_name": "LayoutModel",
     "state": {
      "_model_module": "@jupyter-widgets/base",
      "_model_module_version": "1.2.0",
      "_model_name": "LayoutModel",
      "_view_count": null,
      "_view_module": "@jupyter-widgets/base",
      "_view_module_version": "1.2.0",
      "_view_name": "LayoutView",
      "align_content": null,
      "align_items": null,
      "align_self": null,
      "border": null,
      "bottom": null,
      "display": null,
      "flex": null,
      "flex_flow": null,
      "grid_area": null,
      "grid_auto_columns": null,
      "grid_auto_flow": null,
      "grid_auto_rows": null,
      "grid_column": null,
      "grid_gap": null,
      "grid_row": null,
      "grid_template_areas": null,
      "grid_template_columns": null,
      "grid_template_rows": null,
      "height": null,
      "justify_content": null,
      "justify_items": null,
      "left": null,
      "margin": null,
      "max_height": null,
      "max_width": null,
      "min_height": null,
      "min_width": null,
      "object_fit": null,
      "object_position": null,
      "order": null,
      "overflow": null,
      "overflow_x": null,
      "overflow_y": null,
      "padding": null,
      "right": null,
      "top": null,
      "visibility": null,
      "width": null
     }
    },
    "5fc3edaa564c44daad086533a74061b6": {
     "model_module": "@jupyter-widgets/controls",
     "model_module_version": "1.5.0",
     "model_name": "HTMLModel",
     "state": {
      "_dom_classes": [],
      "_model_module": "@jupyter-widgets/controls",
      "_model_module_version": "1.5.0",
      "_model_name": "HTMLModel",
      "_view_count": null,
      "_view_module": "@jupyter-widgets/controls",
      "_view_module_version": "1.5.0",
      "_view_name": "HTMLView",
      "description": "",
      "description_tooltip": null,
      "layout": "IPY_MODEL_5f83f8195911492ab7c4cdb62faf4bea",
      "placeholder": "​",
      "style": "IPY_MODEL_24a026d6494b437e881ba0b85db5ad9a",
      "value": "Best trial: 189. Best value: 0.95: 100%"
     }
    },
    "8d8b4b33b736479581be974a77c33f41": {
     "model_module": "@jupyter-widgets/controls",
     "model_module_version": "1.5.0",
     "model_name": "ProgressStyleModel",
     "state": {
      "_model_module": "@jupyter-widgets/controls",
      "_model_module_version": "1.5.0",
      "_model_name": "ProgressStyleModel",
      "_view_count": null,
      "_view_module": "@jupyter-widgets/base",
      "_view_module_version": "1.2.0",
      "_view_name": "StyleView",
      "bar_color": null,
      "description_width": ""
     }
    },
    "9d5999ab25c245edab361f8fa59bd245": {
     "model_module": "@jupyter-widgets/base",
     "model_module_version": "1.2.0",
     "model_name": "LayoutModel",
     "state": {
      "_model_module": "@jupyter-widgets/base",
      "_model_module_version": "1.2.0",
      "_model_name": "LayoutModel",
      "_view_count": null,
      "_view_module": "@jupyter-widgets/base",
      "_view_module_version": "1.2.0",
      "_view_name": "LayoutView",
      "align_content": null,
      "align_items": null,
      "align_self": null,
      "border": null,
      "bottom": null,
      "display": null,
      "flex": null,
      "flex_flow": null,
      "grid_area": null,
      "grid_auto_columns": null,
      "grid_auto_flow": null,
      "grid_auto_rows": null,
      "grid_column": null,
      "grid_gap": null,
      "grid_row": null,
      "grid_template_areas": null,
      "grid_template_columns": null,
      "grid_template_rows": null,
      "height": null,
      "justify_content": null,
      "justify_items": null,
      "left": null,
      "margin": null,
      "max_height": null,
      "max_width": null,
      "min_height": null,
      "min_width": null,
      "object_fit": null,
      "object_position": null,
      "order": null,
      "overflow": null,
      "overflow_x": null,
      "overflow_y": null,
      "padding": null,
      "right": null,
      "top": null,
      "visibility": null,
      "width": null
     }
    },
    "a2dc9cf6b9d24729906e02453483c0cc": {
     "model_module": "@jupyter-widgets/controls",
     "model_module_version": "1.5.0",
     "model_name": "FloatProgressModel",
     "state": {
      "_dom_classes": [],
      "_model_module": "@jupyter-widgets/controls",
      "_model_module_version": "1.5.0",
      "_model_name": "FloatProgressModel",
      "_view_count": null,
      "_view_module": "@jupyter-widgets/controls",
      "_view_module_version": "1.5.0",
      "_view_name": "ProgressView",
      "bar_style": "success",
      "description": "",
      "description_tooltip": null,
      "layout": "IPY_MODEL_f943f6a57b1246f39b3483cd8e8ccdd1",
      "max": 200,
      "min": 0,
      "orientation": "horizontal",
      "style": "IPY_MODEL_8d8b4b33b736479581be974a77c33f41",
      "value": 200
     }
    },
    "b23941a264444693a747427e4897139d": {
     "model_module": "@jupyter-widgets/base",
     "model_module_version": "1.2.0",
     "model_name": "LayoutModel",
     "state": {
      "_model_module": "@jupyter-widgets/base",
      "_model_module_version": "1.2.0",
      "_model_name": "LayoutModel",
      "_view_count": null,
      "_view_module": "@jupyter-widgets/base",
      "_view_module_version": "1.2.0",
      "_view_name": "LayoutView",
      "align_content": null,
      "align_items": null,
      "align_self": null,
      "border": null,
      "bottom": null,
      "display": null,
      "flex": null,
      "flex_flow": null,
      "grid_area": null,
      "grid_auto_columns": null,
      "grid_auto_flow": null,
      "grid_auto_rows": null,
      "grid_column": null,
      "grid_gap": null,
      "grid_row": null,
      "grid_template_areas": null,
      "grid_template_columns": null,
      "grid_template_rows": null,
      "height": null,
      "justify_content": null,
      "justify_items": null,
      "left": null,
      "margin": null,
      "max_height": null,
      "max_width": null,
      "min_height": null,
      "min_width": null,
      "object_fit": null,
      "object_position": null,
      "order": null,
      "overflow": null,
      "overflow_x": null,
      "overflow_y": null,
      "padding": null,
      "right": null,
      "top": null,
      "visibility": null,
      "width": null
     }
    },
    "cc025563f6f344fa96356d7805b6a753": {
     "model_module": "@jupyter-widgets/controls",
     "model_module_version": "1.5.0",
     "model_name": "HTMLModel",
     "state": {
      "_dom_classes": [],
      "_model_module": "@jupyter-widgets/controls",
      "_model_module_version": "1.5.0",
      "_model_name": "HTMLModel",
      "_view_count": null,
      "_view_module": "@jupyter-widgets/controls",
      "_view_module_version": "1.5.0",
      "_view_name": "HTMLView",
      "description": "",
      "description_tooltip": null,
      "layout": "IPY_MODEL_287e971d739a4fad98045df36edb4312",
      "placeholder": "​",
      "style": "IPY_MODEL_0556c6beb9e9405c92304e562a22a201",
      "value": "Best trial: 158. Best value: 0.63: 100%"
     }
    },
    "d0fb283b80844c898a3fd0ba91237653": {
     "model_module": "@jupyter-widgets/controls",
     "model_module_version": "1.5.0",
     "model_name": "FloatProgressModel",
     "state": {
      "_dom_classes": [],
      "_model_module": "@jupyter-widgets/controls",
      "_model_module_version": "1.5.0",
      "_model_name": "FloatProgressModel",
      "_view_count": null,
      "_view_module": "@jupyter-widgets/controls",
      "_view_module_version": "1.5.0",
      "_view_name": "ProgressView",
      "bar_style": "success",
      "description": "",
      "description_tooltip": null,
      "layout": "IPY_MODEL_4abf3f9956324205a6f052fad4da58e1",
      "max": 200,
      "min": 0,
      "orientation": "horizontal",
      "style": "IPY_MODEL_0a36d1d102d24c08844b986b33bcd64d",
      "value": 200
     }
    },
    "d391f2d47009477c82bd057ac258840c": {
     "model_module": "@jupyter-widgets/controls",
     "model_module_version": "1.5.0",
     "model_name": "HBoxModel",
     "state": {
      "_dom_classes": [],
      "_model_module": "@jupyter-widgets/controls",
      "_model_module_version": "1.5.0",
      "_model_name": "HBoxModel",
      "_view_count": null,
      "_view_module": "@jupyter-widgets/controls",
      "_view_module_version": "1.5.0",
      "_view_name": "HBoxView",
      "box_style": "",
      "children": [
       "IPY_MODEL_cc025563f6f344fa96356d7805b6a753",
       "IPY_MODEL_a2dc9cf6b9d24729906e02453483c0cc",
       "IPY_MODEL_e03c9666183148448598f6e8bfbc1f4b"
      ],
      "layout": "IPY_MODEL_9d5999ab25c245edab361f8fa59bd245"
     }
    },
    "e03c9666183148448598f6e8bfbc1f4b": {
     "model_module": "@jupyter-widgets/controls",
     "model_module_version": "1.5.0",
     "model_name": "HTMLModel",
     "state": {
      "_dom_classes": [],
      "_model_module": "@jupyter-widgets/controls",
      "_model_module_version": "1.5.0",
      "_model_name": "HTMLModel",
      "_view_count": null,
      "_view_module": "@jupyter-widgets/controls",
      "_view_module_version": "1.5.0",
      "_view_name": "HTMLView",
      "description": "",
      "description_tooltip": null,
      "layout": "IPY_MODEL_ed3fe7e38fdb4e2288287ea7f0d4c6fa",
      "placeholder": "​",
      "style": "IPY_MODEL_ebff48e0321f42b78f8726cf6b55551a",
      "value": " 200/200 [00:57&lt;00:00,  3.60it/s, 57.83/600 seconds]"
     }
    },
    "ebff48e0321f42b78f8726cf6b55551a": {
     "model_module": "@jupyter-widgets/controls",
     "model_module_version": "1.5.0",
     "model_name": "DescriptionStyleModel",
     "state": {
      "_model_module": "@jupyter-widgets/controls",
      "_model_module_version": "1.5.0",
      "_model_name": "DescriptionStyleModel",
      "_view_count": null,
      "_view_module": "@jupyter-widgets/base",
      "_view_module_version": "1.2.0",
      "_view_name": "StyleView",
      "description_width": ""
     }
    },
    "ed3fe7e38fdb4e2288287ea7f0d4c6fa": {
     "model_module": "@jupyter-widgets/base",
     "model_module_version": "1.2.0",
     "model_name": "LayoutModel",
     "state": {
      "_model_module": "@jupyter-widgets/base",
      "_model_module_version": "1.2.0",
      "_model_name": "LayoutModel",
      "_view_count": null,
      "_view_module": "@jupyter-widgets/base",
      "_view_module_version": "1.2.0",
      "_view_name": "LayoutView",
      "align_content": null,
      "align_items": null,
      "align_self": null,
      "border": null,
      "bottom": null,
      "display": null,
      "flex": null,
      "flex_flow": null,
      "grid_area": null,
      "grid_auto_columns": null,
      "grid_auto_flow": null,
      "grid_auto_rows": null,
      "grid_column": null,
      "grid_gap": null,
      "grid_row": null,
      "grid_template_areas": null,
      "grid_template_columns": null,
      "grid_template_rows": null,
      "height": null,
      "justify_content": null,
      "justify_items": null,
      "left": null,
      "margin": null,
      "max_height": null,
      "max_width": null,
      "min_height": null,
      "min_width": null,
      "object_fit": null,
      "object_position": null,
      "order": null,
      "overflow": null,
      "overflow_x": null,
      "overflow_y": null,
      "padding": null,
      "right": null,
      "top": null,
      "visibility": null,
      "width": null
     }
    },
    "f4b5007cdee14057919fa119d0c79017": {
     "model_module": "@jupyter-widgets/controls",
     "model_module_version": "1.5.0",
     "model_name": "DescriptionStyleModel",
     "state": {
      "_model_module": "@jupyter-widgets/controls",
      "_model_module_version": "1.5.0",
      "_model_name": "DescriptionStyleModel",
      "_view_count": null,
      "_view_module": "@jupyter-widgets/base",
      "_view_module_version": "1.2.0",
      "_view_name": "StyleView",
      "description_width": ""
     }
    },
    "f5d2b0194ecd404e81003e5dc4bde444": {
     "model_module": "@jupyter-widgets/controls",
     "model_module_version": "1.5.0",
     "model_name": "HTMLModel",
     "state": {
      "_dom_classes": [],
      "_model_module": "@jupyter-widgets/controls",
      "_model_module_version": "1.5.0",
      "_model_name": "HTMLModel",
      "_view_count": null,
      "_view_module": "@jupyter-widgets/controls",
      "_view_module_version": "1.5.0",
      "_view_name": "HTMLView",
      "description": "",
      "description_tooltip": null,
      "layout": "IPY_MODEL_b23941a264444693a747427e4897139d",
      "placeholder": "​",
      "style": "IPY_MODEL_f4b5007cdee14057919fa119d0c79017",
      "value": " 200/200 [00:17&lt;00:00, 10.13it/s, 17.85/600 seconds]"
     }
    },
    "f943f6a57b1246f39b3483cd8e8ccdd1": {
     "model_module": "@jupyter-widgets/base",
     "model_module_version": "1.2.0",
     "model_name": "LayoutModel",
     "state": {
      "_model_module": "@jupyter-widgets/base",
      "_model_module_version": "1.2.0",
      "_model_name": "LayoutModel",
      "_view_count": null,
      "_view_module": "@jupyter-widgets/base",
      "_view_module_version": "1.2.0",
      "_view_name": "LayoutView",
      "align_content": null,
      "align_items": null,
      "align_self": null,
      "border": null,
      "bottom": null,
      "display": null,
      "flex": null,
      "flex_flow": null,
      "grid_area": null,
      "grid_auto_columns": null,
      "grid_auto_flow": null,
      "grid_auto_rows": null,
      "grid_column": null,
      "grid_gap": null,
      "grid_row": null,
      "grid_template_areas": null,
      "grid_template_columns": null,
      "grid_template_rows": null,
      "height": null,
      "justify_content": null,
      "justify_items": null,
      "left": null,
      "margin": null,
      "max_height": null,
      "max_width": null,
      "min_height": null,
      "min_width": null,
      "object_fit": null,
      "object_position": null,
      "order": null,
      "overflow": null,
      "overflow_x": null,
      "overflow_y": null,
      "padding": null,
      "right": null,
      "top": null,
      "visibility": null,
      "width": null
     }
    }
   }
  }
 },
 "nbformat": 4,
 "nbformat_minor": 0
}
