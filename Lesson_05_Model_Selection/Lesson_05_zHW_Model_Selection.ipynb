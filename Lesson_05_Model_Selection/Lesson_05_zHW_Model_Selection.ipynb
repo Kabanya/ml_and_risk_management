{
 "cells": [
  {
   "cell_type": "markdown",
   "metadata": {
    "id": "frLy1ZvPlrsB"
   },
   "source": [
    "## **Домашнее задание: Выбор модели для бинарной классификации**\n",
    "\n",
    "**Цель**: Провести отбор признаков и настройку гиперпараметров нескольких моделей для бинарной классификации разными методами. Сравнить результаты и выбрать лучшую модель.\n",
    "\n",
    "Задание считается выполненным успешно, если будет обучено по крайней мере три модели, среди которых выбрана лучшая по тестовым метрикам.\n",
    "\n",
    "Ноутбуки направить на почту simon.ilishaev@gmail.com. В теме письма - [ML в Рисках]\n",
    "\n",
    "\n",
    "#### **Данные и начальная настройка**  \n",
    "1. [Загрузите датасет](https://archive.ics.uci.edu/dataset/848/secondary+mushroom+dataset) (числовые и категориальные признаки, бинарная целевая переменная).  \n",
    "2. Сделайте **стратифицированное разделение на train-test** (например, 70-30). **Тестовый набор** будет использоваться **только для финальной оценки модели**.\n",
    "\n",
    "#### Подход с разделением на train-validation  \n",
    "1. Разделите ещё раз **обучающую выборку (train)** на train-validation** (например, 80-20).  \n",
    "2. Проведите **отбор признаков с помощью фильтрационных методов** на **train-подвыборке**.  \n",
    "3. Настройте гиперпараметры (например, `C` для логистической регрессии, `max_depth` для дерева решений и т. д.) на **валидационной выборке**.  \n",
    "4. **Опционально**: Используйте **Differential Evolution из Scipy** для оптимизации гиперпараметров логистической регрессии.  \n",
    "\n",
    "#### Подход с кросс-валидацией  \n",
    "1. Используйте **кросс-валидацию (CV)** для **отбора признаков и настройки гиперпараметров**.  \n",
    "2. Реализуйте **GridSearchCV** для перебора гиперпараметров.  \n",
    "3. **Опционально**: Используйте **Optuna** с **многокритериальной оптимизацией** (максимизация ROC-AUC и Precision-Recall AUC).  \n",
    "4. **Опционально**: Визуализируйте **Парето-фронт** для испытаний Optuna.  \n",
    "\n",
    "#### **Финальная оценка моделей**  \n",
    "1. Оцените все настроенные модели на **тестовом наборе** (ROC-AUC, Precision-Recall AUC, F1-score).  \n",
    "2. **Выберите лучшую модель** на основе тестовых метрик.  \n",
    "\n",
    "### **Модели для использования**  \n",
    "- Логистическая регрессия (`LogisticRegression`)  \n",
    "- Дерево решений (`DecisionTreeClassifier`)  \n",
    "- Случайный лес (`RandomForestClassifier`)\n",
    "- ...\n",
    "\n",
    "### Документация\n",
    "\n",
    "[Scikit-Learn Cross-Validation](https://scikit-learn.org/stable/modules/cross_validation.html)\n",
    "\n",
    "[Category Encoders](https://contrib.scikit-learn.org/category_encoders/)\n",
    "\n",
    "[Grid Search](https://scikit-learn.org/stable/modules/grid_search.html)\n",
    "\n",
    "[Optuna example](https://github.com/optuna/optuna-examples/blob/main/sklearn/sklearn_simple.py)\n",
    "\n",
    "[Pareto front](https://optuna.readthedocs.io/en/stable/reference/visualization/generated/optuna.visualization.plot_pareto_front.html#sphx-glr-reference-visualization-generated-optuna-visualization-plot-pareto-front-py)\n",
    "\n",
    "[Scikit-Leaern Pipeline](https://scikit-learn.org/stable/modules/compose.html)\n",
    "\n",
    "[Differential Evolution](https://docs.scipy.org/doc/scipy/reference/generated/scipy.optimize.differential_evolution.html)\n",
    "\n",
    "\n",
    "---"
   ]
  },
  {
   "cell_type": "code",
   "execution_count": 1,
   "metadata": {
    "id": "pZ7Trq2mHiys"
   },
   "outputs": [],
   "source": [
    "# %%bash\n",
    "# !pip install ucimlrepo\n",
    "# !pip install category_encoders\n",
    "# !pip install optuna"
   ]
  },
  {
   "cell_type": "code",
   "execution_count": 2,
   "metadata": {
    "id": "_1VXQTU-P4PR"
   },
   "outputs": [],
   "source": [
    "# библиотеки, которые могут понадобиться для выполнения задания\n",
    "import numpy as np\n",
    "import pandas as pd\n",
    "from sklearn.model_selection import train_test_split, RepeatedKFold, GridSearchCV\n",
    "from sklearn.feature_selection import SelectKBest, f_classif\n",
    "from sklearn.linear_model import LogisticRegression\n",
    "from sklearn.tree import DecisionTreeClassifier\n",
    "from sklearn.ensemble import RandomForestClassifier\n",
    "from sklearn.pipeline import Pipeline\n",
    "from sklearn.metrics import roc_auc_score, average_precision_score, f1_score\n",
    "from category_encoders import TargetEncoder\n",
    "from scipy.optimize import differential_evolution\n",
    "import optuna\n",
    "from optuna.visualization import plot_pareto_front\n",
    "import matplotlib.pyplot as plt"
   ]
  },
  {
   "cell_type": "code",
   "execution_count": 3,
   "metadata": {
    "ExecuteTime": {
     "end_time": "2025-05-20T21:43:49.035692Z",
     "start_time": "2025-05-20T21:43:44.912537Z"
    },
    "id": "IxePvIGLKDAd"
   },
   "outputs": [
    {
     "name": "stdout",
     "output_type": "stream",
     "text": [
      "{'uci_id': 848, 'name': 'Secondary Mushroom', 'repository_url': 'https://archive.ics.uci.edu/dataset/848/secondary+mushroom+dataset', 'data_url': 'https://archive.ics.uci.edu/static/public/848/data.csv', 'abstract': 'Dataset of simulated mushrooms for binary classification into edible and poisonous.', 'area': 'Biology', 'tasks': ['Classification'], 'characteristics': ['Tabular'], 'num_instances': 61068, 'num_features': 20, 'feature_types': ['Real'], 'demographics': [], 'target_col': ['class'], 'index_col': None, 'has_missing_values': 'yes', 'missing_values_symbol': 'NaN', 'year_of_dataset_creation': 2021, 'last_updated': 'Wed Apr 10 2024', 'dataset_doi': '10.24432/C5FP5Q', 'creators': ['Dennis Wagner', 'D. Heider', 'Georges Hattab'], 'intro_paper': {'ID': 259, 'type': 'NATIVE', 'title': 'Mushroom data creation, curation, and simulation to support classification tasks', 'authors': 'Dennis Wagner, D. Heider, Georges Hattab', 'venue': 'Scientific Reports', 'year': 2021, 'journal': None, 'DOI': None, 'URL': 'https://www.semanticscholar.org/paper/336be248b6f1c5d77c3c93e89f2e19e7344b0250', 'sha': None, 'corpus': None, 'arxiv': None, 'mag': None, 'acl': None, 'pmid': None, 'pmcid': None}, 'additional_info': {'summary': 'The given information is about the Secondary Mushroom Dataset, the Primary Mushroom Dataset used for the simulation and the respective metadata can be found in the zip.\\n\\nThis dataset includes 61069 hypothetical mushrooms with caps based on 173 species (353 mushrooms\\nper species). Each mushroom is identified as definitely edible, definitely poisonous, or of\\nunknown edibility and not recommended (the latter class was combined with the poisonous class).\\n\\nThe related Python project contains a Python module secondary_data_generation.py\\nused to generate this data based on primary_data_edited.csv also found in the repository.\\nBoth nominal and metrical variables are a result of randomization.\\nThe simulated and ordered by species version is found in secondary_data_generated.csv.\\nThe randomly shuffled version is found in secondary_data_shuffled.csv.', 'purpose': 'Inspired by the Mushroom Data Set of J. Schlimmer: url:https://archive.ics.uci.edu/ml/datasets/Mushroom.', 'funded_by': None, 'instances_represent': None, 'recommended_data_splits': None, 'sensitive_data': None, 'preprocessing_description': None, 'variable_info': 'One binary class divided in edible=e and poisonous=p (with the latter one also containing mushrooms of unknown edibility).\\nTwenty remaining variables (n: nominal, m: metrical)\\n1. cap-diameter (m): float number in cm\\n2. cap-shape (n): bell=b, conical=c, convex=x, flat=f,\\nsunken=s, spherical=p, others=o\\n3. cap-surface (n): fibrous=i, grooves=g, scaly=y, smooth=s,\\nshiny=h, leathery=l, silky=k, sticky=t,\\nwrinkled=w, fleshy=e\\n4. cap-color (n): brown=n, buff=b, gray=g, green=r, pink=p,\\npurple=u, red=e, white=w, yellow=y, blue=l,\\norange=o, black=k\\n5. does-bruise-bleed (n): bruises-or-bleeding=t,no=f\\n6. gill-attachment (n): adnate=a, adnexed=x, decurrent=d, free=e,\\nsinuate=s, pores=p, none=f, unknown=?\\n7. gill-spacing (n): close=c, distant=d, none=f\\n8. gill-color (n): see cap-color + none=f\\n9. stem-height (m): float number in cm\\n10. stem-width (m): float number in mm\\n11. stem-root (n): bulbous=b, swollen=s, club=c, cup=u, equal=e,\\nrhizomorphs=z, rooted=r\\n12. stem-surface (n): see cap-surface + none=f\\n13. stem-color (n): see cap-color + none=f\\n14. veil-type (n): partial=p, universal=u\\n15. veil-color (n): see cap-color + none=f\\n16. has-ring (n): ring=t, none=f\\n17. ring-type (n): cobwebby=c, evanescent=e, flaring=r, grooved=g,\\nlarge=l, pendant=p, sheathing=s, zone=z, scaly=y, movable=m, none=f, unknown=?\\n18. spore-print-color (n): see cap color\\n19. habitat (n): grasses=g, leaves=l, meadows=m, paths=p, heaths=h,\\nurban=u, waste=w, woods=d\\n20. season (n): spring=s, summer=u, autumn=a, winter=w', 'citation': None}}\n",
      "                    name     role         type demographic description units  \\\n",
      "0                  class   Target  Categorical        None        None  None   \n",
      "1           cap-diameter  Feature   Continuous        None        None  None   \n",
      "2              cap-shape  Feature  Categorical        None        None  None   \n",
      "3            cap-surface  Feature  Categorical        None        None  None   \n",
      "4              cap-color  Feature  Categorical        None        None  None   \n",
      "5   does-bruise-or-bleed  Feature  Categorical        None        None  None   \n",
      "6        gill-attachment  Feature  Categorical        None        None  None   \n",
      "7           gill-spacing  Feature  Categorical        None        None  None   \n",
      "8             gill-color  Feature  Categorical        None        None  None   \n",
      "9            stem-height  Feature   Continuous        None        None  None   \n",
      "10            stem-width  Feature   Continuous        None        None  None   \n",
      "11             stem-root  Feature  Categorical        None        None  None   \n",
      "12          stem-surface  Feature  Categorical        None        None  None   \n",
      "13            stem-color  Feature  Categorical        None        None  None   \n",
      "14             veil-type  Feature  Categorical        None        None  None   \n",
      "15            veil-color  Feature  Categorical        None        None  None   \n",
      "16              has-ring  Feature  Categorical        None        None  None   \n",
      "17             ring-type  Feature  Categorical        None        None  None   \n",
      "18     spore-print-color  Feature  Categorical        None        None  None   \n",
      "19               habitat  Feature  Categorical        None        None  None   \n",
      "20                season  Feature  Categorical        None        None  None   \n",
      "\n",
      "   missing_values  \n",
      "0              no  \n",
      "1              no  \n",
      "2              no  \n",
      "3             yes  \n",
      "4              no  \n",
      "5              no  \n",
      "6             yes  \n",
      "7             yes  \n",
      "8              no  \n",
      "9              no  \n",
      "10             no  \n",
      "11            yes  \n",
      "12            yes  \n",
      "13             no  \n",
      "14            yes  \n",
      "15            yes  \n",
      "16             no  \n",
      "17            yes  \n",
      "18            yes  \n",
      "19             no  \n",
      "20             no  \n"
     ]
    }
   ],
   "source": [
    "from ucimlrepo import fetch_ucirepo\n",
    "\n",
    "# fetch dataset\n",
    "secondary_mushroom = fetch_ucirepo(id=848)\n",
    "\n",
    "# data (as pandas dataframes)\n",
    "X = secondary_mushroom.data.features\n",
    "y = secondary_mushroom.data.targets\n",
    "\n",
    "# раскомментируйте, чтобы посмотреть метаданные набора данных\n",
    "# metadata\n",
    "print(secondary_mushroom.metadata)\n",
    "\n",
    "# variable information\n",
    "print(secondary_mushroom.variables)"
   ]
  },
  {
   "cell_type": "code",
   "execution_count": 4,
   "metadata": {
    "id": "nCr8IPivMQS2"
   },
   "outputs": [],
   "source": [
    "# target: p - poisonous (ядовитые), e - edible(съедобные)\n",
    "y = y['class'].map({'p': 1, 'e': 0})"
   ]
  },
  {
   "cell_type": "code",
   "execution_count": 5,
   "metadata": {
    "id": "0DK5wGeSSvXq"
   },
   "outputs": [
    {
     "name": "stdout",
     "output_type": "stream",
     "text": [
      "['cap-shape', 'cap-surface', 'cap-color', 'does-bruise-or-bleed', 'gill-attachment', 'gill-spacing', 'gill-color', 'stem-root', 'stem-surface', 'stem-color', 'veil-type', 'veil-color', 'has-ring', 'ring-type', 'spore-print-color', 'habitat', 'season']\n",
      "['cap-diameter', 'stem-height', 'stem-width']\n"
     ]
    }
   ],
   "source": [
    "# Разделение на train-test\n",
    "X_train, X_test, y_train, y_test = train_test_split(\n",
    "    X, y, test_size=0.3, stratify=y, random_state=42\n",
    ")\n",
    "\n",
    "# Категориальные признаки\n",
    "cat_cols = list(X.select_dtypes('object').columns)\n",
    "print(cat_cols)\n",
    "# Численные признаки\n",
    "num_cols = [col for col in X.columns if col not in cat_cols + [\"target\"]]\n",
    "print(num_cols)"
   ]
  },
  {
   "cell_type": "code",
   "execution_count": 6,
   "metadata": {
    "id": "GvvnNiCQTFNB"
   },
   "outputs": [
    {
     "name": "stdout",
     "output_type": "stream",
     "text": [
      "Test ROC-AUC (GridSearch): 0.861\n"
     ]
    }
   ],
   "source": [
    "# Подсказка, соберите конвейер из нескольких компонент\n",
    "pipeline = Pipeline([\n",
    "    (\"encoder\", TargetEncoder(cols=cat_cols)),\n",
    "    (\"selector\", SelectKBest(score_func=f_classif)),\n",
    "    (\"model\", LogisticRegression(max_iter=1000))\n",
    "])\n",
    "\n",
    "# Пример с логистической регрессией\n",
    "# Настройка через GridSearchCV с RepeatedKFold\n",
    "cv = RepeatedKFold(n_splits=5, n_repeats=2, random_state=42)\n",
    "param_grid = {\n",
    "    \"selector__k\": [5, 10, 15],\n",
    "    \"model__C\": [0.01, 0.1, 1, 10]\n",
    "}\n",
    "grid_search = GridSearchCV(pipeline, param_grid, cv=cv, scoring=\"roc_auc\", n_jobs=-1)\n",
    "grid_search.fit(X_train, y_train)\n",
    "best_model = grid_search.best_estimator_\n",
    "\n",
    "# Оценка на тесте\n",
    "test_roc = roc_auc_score(y_test, best_model.predict_proba(X_test)[:, 1])\n",
    "print(f\"Test ROC-AUC (GridSearch): {test_roc:.3f}\")"
   ]
  },
  {
   "cell_type": "markdown",
   "metadata": {},
   "source": [
    "---\n",
    "## Реализация домашнего задания"
   ]
  },
  {
   "cell_type": "markdown",
   "metadata": {},
   "source": [
    "\n",
    "### Данные и начальная настройка"
   ]
  },
  {
   "cell_type": "code",
   "execution_count": 7,
   "metadata": {
    "id": "1ryKq7btYmvx"
   },
   "outputs": [
    {
     "name": "stdout",
     "output_type": "stream",
     "text": [
      "Train shape: (42748, 20), Test shape: (18321, 20)\n",
      "Train target distribution:\n",
      "class\n",
      "1    0.554903\n",
      "0    0.445097\n",
      "Name: proportion, dtype: float64\n",
      "Test target distribution:\n",
      "class\n",
      "1    0.554937\n",
      "0    0.445063\n",
      "Name: proportion, dtype: float64\n"
     ]
    },
    {
     "data": {
      "application/vnd.microsoft.datawrangler.viewer.v0+json": {
       "columns": [
        {
         "name": "index",
         "rawType": "int64",
         "type": "integer"
        },
        {
         "name": "class",
         "rawType": "object",
         "type": "string"
        },
        {
         "name": "cap-diameter",
         "rawType": "float64",
         "type": "float"
        },
        {
         "name": "cap-shape",
         "rawType": "object",
         "type": "string"
        },
        {
         "name": "cap-surface",
         "rawType": "object",
         "type": "string"
        },
        {
         "name": "cap-color",
         "rawType": "object",
         "type": "string"
        },
        {
         "name": "does-bruise-or-bleed",
         "rawType": "object",
         "type": "string"
        },
        {
         "name": "gill-attachment",
         "rawType": "object",
         "type": "string"
        },
        {
         "name": "gill-spacing",
         "rawType": "object",
         "type": "unknown"
        },
        {
         "name": "gill-color",
         "rawType": "object",
         "type": "string"
        },
        {
         "name": "stem-height",
         "rawType": "float64",
         "type": "float"
        },
        {
         "name": "stem-width",
         "rawType": "float64",
         "type": "float"
        },
        {
         "name": "stem-root",
         "rawType": "object",
         "type": "string"
        },
        {
         "name": "stem-surface",
         "rawType": "object",
         "type": "string"
        },
        {
         "name": "stem-color",
         "rawType": "object",
         "type": "string"
        },
        {
         "name": "veil-type",
         "rawType": "object",
         "type": "string"
        },
        {
         "name": "veil-color",
         "rawType": "object",
         "type": "string"
        },
        {
         "name": "has-ring",
         "rawType": "object",
         "type": "string"
        },
        {
         "name": "ring-type",
         "rawType": "object",
         "type": "string"
        },
        {
         "name": "spore-print-color",
         "rawType": "object",
         "type": "unknown"
        },
        {
         "name": "habitat",
         "rawType": "object",
         "type": "string"
        },
        {
         "name": "season",
         "rawType": "object",
         "type": "string"
        }
       ],
       "ref": "f0681f0d-89d8-4cce-9c34-17a78b61150e",
       "rows": [
        [
         "0",
         "p",
         "15.26",
         "x",
         "g",
         "o",
         "f",
         "e",
         null,
         "w",
         "16.95",
         "17.09",
         "s",
         "y",
         "w",
         "u",
         "w",
         "t",
         "g",
         null,
         "d",
         "w"
        ],
        [
         "1",
         "p",
         "16.6",
         "x",
         "g",
         "o",
         "f",
         "e",
         null,
         "w",
         "17.99",
         "18.19",
         "s",
         "y",
         "w",
         "u",
         "w",
         "t",
         "g",
         null,
         "d",
         "u"
        ],
        [
         "2",
         "p",
         "14.07",
         "x",
         "g",
         "o",
         "f",
         "e",
         null,
         "w",
         "17.8",
         "17.74",
         "s",
         "y",
         "w",
         "u",
         "w",
         "t",
         "g",
         null,
         "d",
         "w"
        ],
        [
         "3",
         "p",
         "14.17",
         "f",
         "h",
         "e",
         "f",
         "e",
         null,
         "w",
         "15.77",
         "15.98",
         "s",
         "y",
         "w",
         "u",
         "w",
         "t",
         "p",
         null,
         "d",
         "w"
        ],
        [
         "4",
         "p",
         "14.64",
         "x",
         "h",
         "o",
         "f",
         "e",
         null,
         "w",
         "16.53",
         "17.2",
         "s",
         "y",
         "w",
         "u",
         "w",
         "t",
         "p",
         null,
         "d",
         "w"
        ]
       ],
       "shape": {
        "columns": 21,
        "rows": 5
       }
      },
      "text/html": [
       "<div>\n",
       "<style scoped>\n",
       "    .dataframe tbody tr th:only-of-type {\n",
       "        vertical-align: middle;\n",
       "    }\n",
       "\n",
       "    .dataframe tbody tr th {\n",
       "        vertical-align: top;\n",
       "    }\n",
       "\n",
       "    .dataframe thead th {\n",
       "        text-align: right;\n",
       "    }\n",
       "</style>\n",
       "<table border=\"1\" class=\"dataframe\">\n",
       "  <thead>\n",
       "    <tr style=\"text-align: right;\">\n",
       "      <th></th>\n",
       "      <th>class</th>\n",
       "      <th>cap-diameter</th>\n",
       "      <th>cap-shape</th>\n",
       "      <th>cap-surface</th>\n",
       "      <th>cap-color</th>\n",
       "      <th>does-bruise-or-bleed</th>\n",
       "      <th>gill-attachment</th>\n",
       "      <th>gill-spacing</th>\n",
       "      <th>gill-color</th>\n",
       "      <th>stem-height</th>\n",
       "      <th>...</th>\n",
       "      <th>stem-root</th>\n",
       "      <th>stem-surface</th>\n",
       "      <th>stem-color</th>\n",
       "      <th>veil-type</th>\n",
       "      <th>veil-color</th>\n",
       "      <th>has-ring</th>\n",
       "      <th>ring-type</th>\n",
       "      <th>spore-print-color</th>\n",
       "      <th>habitat</th>\n",
       "      <th>season</th>\n",
       "    </tr>\n",
       "  </thead>\n",
       "  <tbody>\n",
       "    <tr>\n",
       "      <th>0</th>\n",
       "      <td>p</td>\n",
       "      <td>15.26</td>\n",
       "      <td>x</td>\n",
       "      <td>g</td>\n",
       "      <td>o</td>\n",
       "      <td>f</td>\n",
       "      <td>e</td>\n",
       "      <td>NaN</td>\n",
       "      <td>w</td>\n",
       "      <td>16.95</td>\n",
       "      <td>...</td>\n",
       "      <td>s</td>\n",
       "      <td>y</td>\n",
       "      <td>w</td>\n",
       "      <td>u</td>\n",
       "      <td>w</td>\n",
       "      <td>t</td>\n",
       "      <td>g</td>\n",
       "      <td>NaN</td>\n",
       "      <td>d</td>\n",
       "      <td>w</td>\n",
       "    </tr>\n",
       "    <tr>\n",
       "      <th>1</th>\n",
       "      <td>p</td>\n",
       "      <td>16.60</td>\n",
       "      <td>x</td>\n",
       "      <td>g</td>\n",
       "      <td>o</td>\n",
       "      <td>f</td>\n",
       "      <td>e</td>\n",
       "      <td>NaN</td>\n",
       "      <td>w</td>\n",
       "      <td>17.99</td>\n",
       "      <td>...</td>\n",
       "      <td>s</td>\n",
       "      <td>y</td>\n",
       "      <td>w</td>\n",
       "      <td>u</td>\n",
       "      <td>w</td>\n",
       "      <td>t</td>\n",
       "      <td>g</td>\n",
       "      <td>NaN</td>\n",
       "      <td>d</td>\n",
       "      <td>u</td>\n",
       "    </tr>\n",
       "    <tr>\n",
       "      <th>2</th>\n",
       "      <td>p</td>\n",
       "      <td>14.07</td>\n",
       "      <td>x</td>\n",
       "      <td>g</td>\n",
       "      <td>o</td>\n",
       "      <td>f</td>\n",
       "      <td>e</td>\n",
       "      <td>NaN</td>\n",
       "      <td>w</td>\n",
       "      <td>17.80</td>\n",
       "      <td>...</td>\n",
       "      <td>s</td>\n",
       "      <td>y</td>\n",
       "      <td>w</td>\n",
       "      <td>u</td>\n",
       "      <td>w</td>\n",
       "      <td>t</td>\n",
       "      <td>g</td>\n",
       "      <td>NaN</td>\n",
       "      <td>d</td>\n",
       "      <td>w</td>\n",
       "    </tr>\n",
       "    <tr>\n",
       "      <th>3</th>\n",
       "      <td>p</td>\n",
       "      <td>14.17</td>\n",
       "      <td>f</td>\n",
       "      <td>h</td>\n",
       "      <td>e</td>\n",
       "      <td>f</td>\n",
       "      <td>e</td>\n",
       "      <td>NaN</td>\n",
       "      <td>w</td>\n",
       "      <td>15.77</td>\n",
       "      <td>...</td>\n",
       "      <td>s</td>\n",
       "      <td>y</td>\n",
       "      <td>w</td>\n",
       "      <td>u</td>\n",
       "      <td>w</td>\n",
       "      <td>t</td>\n",
       "      <td>p</td>\n",
       "      <td>NaN</td>\n",
       "      <td>d</td>\n",
       "      <td>w</td>\n",
       "    </tr>\n",
       "    <tr>\n",
       "      <th>4</th>\n",
       "      <td>p</td>\n",
       "      <td>14.64</td>\n",
       "      <td>x</td>\n",
       "      <td>h</td>\n",
       "      <td>o</td>\n",
       "      <td>f</td>\n",
       "      <td>e</td>\n",
       "      <td>NaN</td>\n",
       "      <td>w</td>\n",
       "      <td>16.53</td>\n",
       "      <td>...</td>\n",
       "      <td>s</td>\n",
       "      <td>y</td>\n",
       "      <td>w</td>\n",
       "      <td>u</td>\n",
       "      <td>w</td>\n",
       "      <td>t</td>\n",
       "      <td>p</td>\n",
       "      <td>NaN</td>\n",
       "      <td>d</td>\n",
       "      <td>w</td>\n",
       "    </tr>\n",
       "  </tbody>\n",
       "</table>\n",
       "<p>5 rows × 21 columns</p>\n",
       "</div>"
      ],
      "text/plain": [
       "  class  cap-diameter cap-shape cap-surface cap-color does-bruise-or-bleed  \\\n",
       "0     p         15.26         x           g         o                    f   \n",
       "1     p         16.60         x           g         o                    f   \n",
       "2     p         14.07         x           g         o                    f   \n",
       "3     p         14.17         f           h         e                    f   \n",
       "4     p         14.64         x           h         o                    f   \n",
       "\n",
       "  gill-attachment gill-spacing gill-color  stem-height  ...  stem-root  \\\n",
       "0               e          NaN          w        16.95  ...          s   \n",
       "1               e          NaN          w        17.99  ...          s   \n",
       "2               e          NaN          w        17.80  ...          s   \n",
       "3               e          NaN          w        15.77  ...          s   \n",
       "4               e          NaN          w        16.53  ...          s   \n",
       "\n",
       "  stem-surface stem-color veil-type veil-color has-ring ring-type  \\\n",
       "0            y          w         u          w        t         g   \n",
       "1            y          w         u          w        t         g   \n",
       "2            y          w         u          w        t         g   \n",
       "3            y          w         u          w        t         p   \n",
       "4            y          w         u          w        t         p   \n",
       "\n",
       "  spore-print-color habitat season  \n",
       "0               NaN       d      w  \n",
       "1               NaN       d      u  \n",
       "2               NaN       d      w  \n",
       "3               NaN       d      w  \n",
       "4               NaN       d      w  \n",
       "\n",
       "[5 rows x 21 columns]"
      ]
     },
     "execution_count": 7,
     "metadata": {},
     "output_type": "execute_result"
    }
   ],
   "source": [
    "df = pd.read_csv(\"secondary_data.csv\", sep=\";\")\n",
    "\n",
    "\n",
    "y = df['class'].map({'p': 1, 'e': 0})\n",
    "X = df.drop(columns=['class'])\n",
    "\n",
    "# train/validation (70/30)\n",
    "X_train, X_test, y_train, y_test = train_test_split(\n",
    "    X, y, test_size=0.3, stratify=y, random_state=42\n",
    ")\n",
    "\n",
    "print(f\"Train shape: {X_train.shape}, Test shape: {X_test.shape}\")\n",
    "print(\"Train target distribution:\")\n",
    "print(y_train.value_counts(normalize=True))\n",
    "print(\"Test target distribution:\")\n",
    "print(y_test.value_counts(normalize=True))\n",
    "\n",
    "df.head()"
   ]
  },
  {
   "cell_type": "markdown",
   "metadata": {},
   "source": [
    "### Подход с разделением на train-validation  "
   ]
  },
  {
   "cell_type": "code",
   "execution_count": 8,
   "metadata": {},
   "outputs": [
    {
     "name": "stdout",
     "output_type": "stream",
     "text": [
      "Train split shape: (34198, 20), Validation split shape: (8550, 20)\n",
      "Train split target distribution:\n",
      "class\n",
      "1    0.554915\n",
      "0    0.445085\n",
      "Name: proportion, dtype: float64\n",
      "Validation split target distribution:\n",
      "class\n",
      "1    0.554854\n",
      "0    0.445146\n",
      "Name: proportion, dtype: float64\n"
     ]
    }
   ],
   "source": [
    "X_tr, X_val, y_tr, y_val = train_test_split(\n",
    "    X_train, y_train, test_size=0.2, stratify=y_train, random_state=42\n",
    ")\n",
    "\n",
    "print(f\"Train split shape: {X_tr.shape}, Validation split shape: {X_val.shape}\")\n",
    "print(\"Train split target distribution:\")\n",
    "print(y_tr.value_counts(normalize=True))\n",
    "print(\"Validation split target distribution:\")\n",
    "print(y_val.value_counts(normalize=True))"
   ]
  },
  {
   "cell_type": "code",
   "execution_count": 9,
   "metadata": {},
   "outputs": [
    {
     "name": "stdout",
     "output_type": "stream",
     "text": [
      "Selected features: ['stem-color', 'stem-width', 'cap-color', 'stem-surface', 'cap-diameter', 'cap-surface', 'spore-print-color', 'gill-attachment']\n"
     ]
    }
   ],
   "source": [
    "# train/validation (80/20)\n",
    "X_tr, X_val, y_tr, y_val = train_test_split(\n",
    "    X_train, y_train, test_size=0.2, stratify=y_train, random_state=42\n",
    ")\n",
    "\n",
    "# корреляция Спирмана\n",
    "cat_cols = list(X_tr.select_dtypes('object').columns)\n",
    "num_cols = [col for col in X_tr.columns if col not in cat_cols]\n",
    "\n",
    "encoder = TargetEncoder(cols=cat_cols)\n",
    "X_tr_enc = encoder.fit_transform(X_tr, y_tr)\n",
    "X_val_enc = encoder.transform(X_val)\n",
    "X_test_enc = encoder.transform(X_test)\n",
    "\n",
    "correlations = X_tr_enc.corrwith(y_tr, method='spearman').abs()\n",
    "top_features = correlations.sort_values(ascending=False).head(8).index.tolist()\n",
    "print(\"Selected features:\", top_features)\n",
    "\n",
    "X_tr_sel = X_tr_enc[top_features]\n",
    "X_val_sel = X_val_enc[top_features]\n",
    "X_test_sel = X_test_enc[top_features]"
   ]
  },
  {
   "cell_type": "code",
   "execution_count": 10,
   "metadata": {},
   "outputs": [
    {
     "name": "stdout",
     "output_type": "stream",
     "text": [
      "LogReg C=0.01: ROC-AUC=0.795\n",
      "LogReg C=0.1: ROC-AUC=0.813\n",
      "LogReg C=1: ROC-AUC=0.815\n",
      "LogReg C=10: ROC-AUC=0.815\n",
      "LogReg C=100: ROC-AUC=0.815\n",
      "Tree max_depth=2: ROC-AUC=0.682\n",
      "Tree max_depth=3: ROC-AUC=0.750\n",
      "Tree max_depth=4: ROC-AUC=0.785\n",
      "Tree max_depth=5: ROC-AUC=0.830\n",
      "Tree max_depth=6: ROC-AUC=0.877\n",
      "Tree max_depth=7: ROC-AUC=0.922\n",
      "Tree max_depth=8: ROC-AUC=0.942\n",
      "RF n_estimators=10: ROC-AUC=1.000\n",
      "RF n_estimators=30: ROC-AUC=1.000\n",
      "RF n_estimators=50: ROC-AUC=1.000\n",
      "RF n_estimators=100: ROC-AUC=1.000\n"
     ]
    }
   ],
   "source": [
    "# Гиперпараметры\n",
    "best_roc = 0\n",
    "for C in [0.01, 0.1, 1, 10, 100]:\n",
    "    model = LogisticRegression(C=C, max_iter=1000)\n",
    "    model.fit(X_tr_sel, y_tr)\n",
    "    val_pred = model.predict_proba(X_val_sel)[:, 1]\n",
    "    roc = roc_auc_score(y_val, val_pred)\n",
    "    print(f\"LogReg C={C}: ROC-AUC={roc:.3f}\")\n",
    "    if roc > best_roc:\n",
    "        best_roc = roc\n",
    "        best_C = C\n",
    "logreg_best = LogisticRegression(C=best_C, max_iter=1000).fit(X_tr_sel, y_tr)\n",
    "\n",
    "best_roc = 0\n",
    "for d in [2, 3, 4, 5, 6, 7, 8]:\n",
    "    model = DecisionTreeClassifier(max_depth=d, random_state=42)\n",
    "    model.fit(X_tr_sel, y_tr)\n",
    "    val_pred = model.predict_proba(X_val_sel)[:, 1]\n",
    "    roc = roc_auc_score(y_val, val_pred)\n",
    "    print(f\"Tree max_depth={d}: ROC-AUC={roc:.3f}\")\n",
    "    if roc > best_roc:\n",
    "        best_roc = roc\n",
    "        best_d = d\n",
    "tree_best = DecisionTreeClassifier(max_depth=best_d, random_state=42).fit(X_tr_sel, y_tr)\n",
    "\n",
    "best_roc = 0\n",
    "for n in [10, 30, 50, 100]:\n",
    "    model = RandomForestClassifier(n_estimators=n, random_state=42)\n",
    "    model.fit(X_tr_sel, y_tr)\n",
    "    val_pred = model.predict_proba(X_val_sel)[:, 1]\n",
    "    roc = roc_auc_score(y_val, val_pred)\n",
    "    print(f\"RF n_estimators={n}: ROC-AUC={roc:.3f}\")\n",
    "    if roc > best_roc:\n",
    "        best_roc = roc\n",
    "        best_n = n\n",
    "rf_best = RandomForestClassifier(n_estimators=best_n, random_state=42).fit(X_tr_sel, y_tr)\n"
   ]
  },
  {
   "cell_type": "code",
   "execution_count": 11,
   "metadata": {},
   "outputs": [
    {
     "name": "stdout",
     "output_type": "stream",
     "text": [
      "DE best C: 76.0960, ROC-AUC=0.815\n"
     ]
    }
   ],
   "source": [
    "# [опционально] Differential Evolution из Scipy для оптимизации \n",
    "def de_objective(params):\n",
    "    C = params[0]\n",
    "    model = LogisticRegression(C=C, max_iter=1000)\n",
    "    model.fit(X_tr_sel, y_tr)\n",
    "    val_pred = model.predict_proba(X_val_sel)[:, 1]\n",
    "    return -roc_auc_score(y_val, val_pred)  # minimize\n",
    "\n",
    "bounds = [(0.001, 100)]\n",
    "result = differential_evolution(de_objective, bounds, disp=False)\n",
    "print(f\"DE best C: {result.x[0]:.4f}, ROC-AUC={-result.fun:.3f}\")"
   ]
  },
  {
   "cell_type": "markdown",
   "metadata": {},
   "source": [
    "### Подход с кросс-валидацией  "
   ]
  },
  {
   "cell_type": "code",
   "execution_count": 12,
   "metadata": {},
   "outputs": [
    {
     "name": "stdout",
     "output_type": "stream",
     "text": [
      "Fitting 10 folds for each of 20 candidates, totalling 200 fits\n",
      "Лучшие параметры: {'model__C': 10, 'selector__k': 16}\n",
      "Лучшая ROC-AUC на CV: 0.8670090306092192\n",
      "Test ROC-AUC: 0.868\n",
      "Test PR-AUC: 0.899\n"
     ]
    }
   ],
   "source": [
    "cat_cols = list(X_train.select_dtypes('object').columns)\n",
    "\n",
    "# Pipeline: TargetEncoder -> SelectKBest -> Модель\n",
    "pipeline = Pipeline([\n",
    "    (\"encoder\", TargetEncoder(cols=cat_cols)),\n",
    "    (\"selector\", SelectKBest(score_func=f_classif)),\n",
    "    (\"model\", LogisticRegression(max_iter=1000))\n",
    "])\n",
    "\n",
    "# params для GridSearchCV\n",
    "param_grid = {\n",
    "    \"selector__k\": [5, 8, 12, 16],\n",
    "    \"model__C\": [0.01, 0.1, 1, 10, 100]\n",
    "}\n",
    "\n",
    "cv = RepeatedKFold(n_splits=5, n_repeats=2, random_state=42)\n",
    "grid_search = GridSearchCV(\n",
    "    pipeline, param_grid, cv=cv, scoring=\"roc_auc\", n_jobs=-1, verbose=1\n",
    ")\n",
    "grid_search.fit(X_train, y_train)\n",
    "\n",
    "print(\"Лучшие параметры:\", grid_search.best_params_)\n",
    "print(\"Лучшая ROC-AUC на CV:\", grid_search.best_score_)\n",
    "\n",
    "test_pred = grid_search.best_estimator_.predict_proba(X_test)[:, 1]\n",
    "test_roc = roc_auc_score(y_test, test_pred)\n",
    "test_pr = average_precision_score(y_test, test_pred)\n",
    "print(f\"Test ROC-AUC: {test_roc:.3f}\")\n",
    "print(f\"Test PR-AUC: {test_pr:.3f}\")"
   ]
  },
  {
   "cell_type": "code",
   "execution_count": 13,
   "metadata": {},
   "outputs": [
    {
     "name": "stderr",
     "output_type": "stream",
     "text": [
      "[I 2025-05-21 15:40:49,812] A new study created in memory with name: multi_metric\n",
      "[I 2025-05-21 15:40:52,800] Trial 0 finished with values: [0.8495939621572834, 0.8882009863741007] and parameters: {'k': 10, 'C': 6.3105860823988404}.\n",
      "[I 2025-05-21 15:40:55,998] Trial 1 finished with values: [0.8527700293383186, 0.8900770640213022] and parameters: {'k': 12, 'C': 19.95628421916136}.\n",
      "[I 2025-05-21 15:40:58,571] Trial 2 finished with values: [0.8327834850984583, 0.87728188361848] and parameters: {'k': 7, 'C': 0.11075661685329231}.\n",
      "[I 2025-05-21 15:41:01,574] Trial 3 finished with values: [0.8496060918165933, 0.888197105214631] and parameters: {'k': 10, 'C': 5.111320349097709}.\n",
      "[I 2025-05-21 15:41:04,224] Trial 4 finished with values: [0.8456347885744547, 0.886929643274047] and parameters: {'k': 8, 'C': 0.6573074077755312}.\n",
      "[I 2025-05-21 15:41:07,199] Trial 5 finished with values: [0.8495694669806733, 0.8882166706507564] and parameters: {'k': 10, 'C': 90.05220680965148}.\n",
      "[I 2025-05-21 15:41:11,765] Trial 6 finished with values: [0.8611583580918444, 0.895500794144098] and parameters: {'k': 15, 'C': 29.270553103020337}.\n",
      "[I 2025-05-21 15:41:14,353] Trial 7 finished with values: [0.8211938270276807, 0.867020079612082] and parameters: {'k': 6, 'C': 13.436346804004321}.\n",
      "[I 2025-05-21 15:41:17,319] Trial 8 finished with values: [0.851422420507773, 0.8895417051005609] and parameters: {'k': 11, 'C': 7.380090890184803}.\n",
      "[I 2025-05-21 15:41:20,479] Trial 9 finished with values: [0.8527796194310968, 0.8900094040724928] and parameters: {'k': 12, 'C': 2.251605887098745}.\n",
      "[I 2025-05-21 15:41:24,604] Trial 10 finished with values: [0.8670018031739989, 0.8990184189288014] and parameters: {'k': 16, 'C': 12.592857649031602}.\n",
      "[I 2025-05-21 15:41:27,475] Trial 11 finished with values: [0.8496688337989967, 0.8880560812514359] and parameters: {'k': 10, 'C': 0.966426673403512}.\n",
      "[I 2025-05-21 15:41:30,306] Trial 12 finished with values: [0.8491079785890052, 0.8859315272098025] and parameters: {'k': 11, 'C': 0.0617122904347121}.\n",
      "[I 2025-05-21 15:41:32,971] Trial 13 finished with values: [0.8440395468811761, 0.8811462317780462] and parameters: {'k': 11, 'C': 0.02308823389097142}.\n",
      "[I 2025-05-21 15:41:35,973] Trial 14 finished with values: [0.8465953206446108, 0.8866140952121198] and parameters: {'k': 9, 'C': 65.01116191814529}.\n",
      "[I 2025-05-21 15:41:38,609] Trial 15 finished with values: [0.8211878747530784, 0.8669002056491154] and parameters: {'k': 6, 'C': 0.7359640493763783}.\n",
      "[I 2025-05-21 15:41:41,230] Trial 16 finished with values: [0.8206398274490037, 0.8660316676065072] and parameters: {'k': 6, 'C': 0.11505690336602775}.\n",
      "[I 2025-05-21 15:41:43,864] Trial 17 finished with values: [0.8325492089162028, 0.8766379365619962] and parameters: {'k': 7, 'C': 0.061789972958717646}.\n",
      "[I 2025-05-21 15:41:46,418] Trial 18 finished with values: [0.8182472877278455, 0.8624593755507547] and parameters: {'k': 6, 'C': 0.018281091184972793}.\n",
      "[I 2025-05-21 15:41:49,740] Trial 19 finished with values: [0.8589262168287217, 0.8904084289905484] and parameters: {'k': 16, 'C': 0.02718783631645426}.\n",
      "[I 2025-05-21 15:41:53,084] Trial 20 finished with values: [0.8527577188253664, 0.8900236793270476] and parameters: {'k': 12, 'C': 2.6039230003286553}.\n",
      "[I 2025-05-21 15:41:55,976] Trial 21 finished with values: [0.8440755923457026, 0.880225335087102] and parameters: {'k': 12, 'C': 0.020790935338452624}.\n",
      "[I 2025-05-21 15:41:59,174] Trial 22 finished with values: [0.8580034019541671, 0.8922495600737059] and parameters: {'k': 14, 'C': 0.13772119454664106}.\n",
      "[I 2025-05-21 15:42:01,871] Trial 23 finished with values: [0.8455791871668838, 0.8870329080700297] and parameters: {'k': 8, 'C': 1.3225462144321838}.\n",
      "[I 2025-05-21 15:42:06,590] Trial 24 finished with values: [0.8611813654224398, 0.8954841715078568] and parameters: {'k': 15, 'C': 7.925744985722981}.\n",
      "[I 2025-05-21 15:42:09,718] Trial 25 finished with values: [0.851431096222355, 0.8895200064486494] and parameters: {'k': 11, 'C': 3.661481839908409}.\n",
      "[I 2025-05-21 15:42:12,595] Trial 26 finished with values: [0.8425926405877071, 0.8789823896088638] and parameters: {'k': 12, 'C': 0.018038986441920837}.\n",
      "[I 2025-05-21 15:42:15,592] Trial 27 finished with values: [0.8496024441700845, 0.8881981058073702] and parameters: {'k': 10, 'C': 4.648785544654329}.\n",
      "[I 2025-05-21 15:42:18,457] Trial 28 finished with values: [0.8440278225449382, 0.8815949521493396] and parameters: {'k': 9, 'C': 0.05014401775750947}.\n",
      "[I 2025-05-21 15:42:21,749] Trial 29 finished with values: [0.8525510004303694, 0.8849516819669778] and parameters: {'k': 16, 'C': 0.014849132015343092}.\n"
     ]
    }
   ],
   "source": [
    "# [опционально]\n",
    "\n",
    "def objective(trial):\n",
    "    k = trial.suggest_int(\"k\", 5, min(16, X_train.shape[1]))\n",
    "    C = trial.suggest_float(\"C\", 0.01, 100, log=True)\n",
    "    pipeline = Pipeline([\n",
    "        (\"encoder\", TargetEncoder(cols=cat_cols)),\n",
    "        (\"selector\", SelectKBest(score_func=f_classif, k=k)),\n",
    "        (\"model\", LogisticRegression(C=C, max_iter=1000))\n",
    "    ])\n",
    "    scores_roc = []\n",
    "    scores_pr = []\n",
    "    for train_idx, val_idx in cv.split(X_train, y_train):\n",
    "        X_tr, X_val = X_train.iloc[train_idx], X_train.iloc[val_idx]\n",
    "        y_tr, y_val = y_train.iloc[train_idx], y_train.iloc[val_idx]\n",
    "        pipeline.fit(X_tr, y_tr)\n",
    "        pred = pipeline.predict_proba(X_val)[:, 1]\n",
    "        scores_roc.append(roc_auc_score(y_val, pred))\n",
    "        scores_pr.append(average_precision_score(y_val, pred))\n",
    "    return np.mean(scores_roc), np.mean(scores_pr)\n",
    "\n",
    "study = optuna.create_study(\n",
    "    directions=[\"maximize\", \"maximize\"],\n",
    "    study_name=\"multi_metric\"\n",
    ")\n",
    "study.optimize(objective, n_trials=30)"
   ]
  },
  {
   "cell_type": "code",
   "execution_count": 14,
   "metadata": {},
   "outputs": [
    {
     "name": "stdout",
     "output_type": "stream",
     "text": [
      "Optuna best ROC-AUC: 0.8670018031739989\n",
      "Optuna best PR-AUC: 0.8990184189288014\n",
      "Optuna best params: {'k': 16, 'C': 12.592857649031602}\n"
     ]
    }
   ],
   "source": [
    "print(\"Optuna best ROC-AUC:\", study.best_trials[0].values[0])\n",
    "print(\"Optuna best PR-AUC:\", study.best_trials[0].values[1])\n",
    "print(\"Optuna best params:\", study.best_trials[0].params)"
   ]
  },
  {
   "cell_type": "code",
   "execution_count": 15,
   "metadata": {},
   "outputs": [
    {
     "data": {
      "application/vnd.plotly.v1+json": {
       "config": {
        "plotlyServerURL": "https://plot.ly"
       },
       "data": [
        {
         "hovertemplate": "%{text}<extra>Trial</extra>",
         "marker": {
          "color": [
           0,
           1,
           2,
           3,
           4,
           5,
           6,
           7,
           8,
           9,
           11,
           12,
           13,
           14,
           15,
           16,
           17,
           18,
           19,
           20,
           21,
           22,
           23,
           24,
           25,
           26,
           27,
           28,
           29
          ],
          "colorbar": {
           "title": {
            "text": "Trial"
           }
          },
          "colorscale": [
           [
            0,
            "rgb(247,251,255)"
           ],
           [
            0.125,
            "rgb(222,235,247)"
           ],
           [
            0.25,
            "rgb(198,219,239)"
           ],
           [
            0.375,
            "rgb(158,202,225)"
           ],
           [
            0.5,
            "rgb(107,174,214)"
           ],
           [
            0.625,
            "rgb(66,146,198)"
           ],
           [
            0.75,
            "rgb(33,113,181)"
           ],
           [
            0.875,
            "rgb(8,81,156)"
           ],
           [
            1,
            "rgb(8,48,107)"
           ]
          ],
          "line": {
           "color": "Grey",
           "width": 0.5
          }
         },
         "mode": "markers",
         "showlegend": false,
         "text": [
          "{<br>  \"number\": 0,<br>  \"values\": [<br>    0.8495939621572834,<br>    0.8882009863741007<br>  ],<br>  \"params\": {<br>    \"k\": 10,<br>    \"C\": 6.3105860823988404<br>  }<br>}",
          "{<br>  \"number\": 1,<br>  \"values\": [<br>    0.8527700293383186,<br>    0.8900770640213022<br>  ],<br>  \"params\": {<br>    \"k\": 12,<br>    \"C\": 19.95628421916136<br>  }<br>}",
          "{<br>  \"number\": 2,<br>  \"values\": [<br>    0.8327834850984583,<br>    0.87728188361848<br>  ],<br>  \"params\": {<br>    \"k\": 7,<br>    \"C\": 0.11075661685329231<br>  }<br>}",
          "{<br>  \"number\": 3,<br>  \"values\": [<br>    0.8496060918165933,<br>    0.888197105214631<br>  ],<br>  \"params\": {<br>    \"k\": 10,<br>    \"C\": 5.111320349097709<br>  }<br>}",
          "{<br>  \"number\": 4,<br>  \"values\": [<br>    0.8456347885744547,<br>    0.886929643274047<br>  ],<br>  \"params\": {<br>    \"k\": 8,<br>    \"C\": 0.6573074077755312<br>  }<br>}",
          "{<br>  \"number\": 5,<br>  \"values\": [<br>    0.8495694669806733,<br>    0.8882166706507564<br>  ],<br>  \"params\": {<br>    \"k\": 10,<br>    \"C\": 90.05220680965148<br>  }<br>}",
          "{<br>  \"number\": 6,<br>  \"values\": [<br>    0.8611583580918444,<br>    0.895500794144098<br>  ],<br>  \"params\": {<br>    \"k\": 15,<br>    \"C\": 29.270553103020337<br>  }<br>}",
          "{<br>  \"number\": 7,<br>  \"values\": [<br>    0.8211938270276807,<br>    0.867020079612082<br>  ],<br>  \"params\": {<br>    \"k\": 6,<br>    \"C\": 13.436346804004321<br>  }<br>}",
          "{<br>  \"number\": 8,<br>  \"values\": [<br>    0.851422420507773,<br>    0.8895417051005609<br>  ],<br>  \"params\": {<br>    \"k\": 11,<br>    \"C\": 7.380090890184803<br>  }<br>}",
          "{<br>  \"number\": 9,<br>  \"values\": [<br>    0.8527796194310968,<br>    0.8900094040724928<br>  ],<br>  \"params\": {<br>    \"k\": 12,<br>    \"C\": 2.251605887098745<br>  }<br>}",
          "{<br>  \"number\": 11,<br>  \"values\": [<br>    0.8496688337989967,<br>    0.8880560812514359<br>  ],<br>  \"params\": {<br>    \"k\": 10,<br>    \"C\": 0.966426673403512<br>  }<br>}",
          "{<br>  \"number\": 12,<br>  \"values\": [<br>    0.8491079785890052,<br>    0.8859315272098025<br>  ],<br>  \"params\": {<br>    \"k\": 11,<br>    \"C\": 0.0617122904347121<br>  }<br>}",
          "{<br>  \"number\": 13,<br>  \"values\": [<br>    0.8440395468811761,<br>    0.8811462317780462<br>  ],<br>  \"params\": {<br>    \"k\": 11,<br>    \"C\": 0.02308823389097142<br>  }<br>}",
          "{<br>  \"number\": 14,<br>  \"values\": [<br>    0.8465953206446108,<br>    0.8866140952121198<br>  ],<br>  \"params\": {<br>    \"k\": 9,<br>    \"C\": 65.01116191814529<br>  }<br>}",
          "{<br>  \"number\": 15,<br>  \"values\": [<br>    0.8211878747530784,<br>    0.8669002056491154<br>  ],<br>  \"params\": {<br>    \"k\": 6,<br>    \"C\": 0.7359640493763783<br>  }<br>}",
          "{<br>  \"number\": 16,<br>  \"values\": [<br>    0.8206398274490037,<br>    0.8660316676065072<br>  ],<br>  \"params\": {<br>    \"k\": 6,<br>    \"C\": 0.11505690336602775<br>  }<br>}",
          "{<br>  \"number\": 17,<br>  \"values\": [<br>    0.8325492089162028,<br>    0.8766379365619962<br>  ],<br>  \"params\": {<br>    \"k\": 7,<br>    \"C\": 0.061789972958717646<br>  }<br>}",
          "{<br>  \"number\": 18,<br>  \"values\": [<br>    0.8182472877278455,<br>    0.8624593755507547<br>  ],<br>  \"params\": {<br>    \"k\": 6,<br>    \"C\": 0.018281091184972793<br>  }<br>}",
          "{<br>  \"number\": 19,<br>  \"values\": [<br>    0.8589262168287217,<br>    0.8904084289905484<br>  ],<br>  \"params\": {<br>    \"k\": 16,<br>    \"C\": 0.02718783631645426<br>  }<br>}",
          "{<br>  \"number\": 20,<br>  \"values\": [<br>    0.8527577188253664,<br>    0.8900236793270476<br>  ],<br>  \"params\": {<br>    \"k\": 12,<br>    \"C\": 2.6039230003286553<br>  }<br>}",
          "{<br>  \"number\": 21,<br>  \"values\": [<br>    0.8440755923457026,<br>    0.880225335087102<br>  ],<br>  \"params\": {<br>    \"k\": 12,<br>    \"C\": 0.020790935338452624<br>  }<br>}",
          "{<br>  \"number\": 22,<br>  \"values\": [<br>    0.8580034019541671,<br>    0.8922495600737059<br>  ],<br>  \"params\": {<br>    \"k\": 14,<br>    \"C\": 0.13772119454664106<br>  }<br>}",
          "{<br>  \"number\": 23,<br>  \"values\": [<br>    0.8455791871668838,<br>    0.8870329080700297<br>  ],<br>  \"params\": {<br>    \"k\": 8,<br>    \"C\": 1.3225462144321838<br>  }<br>}",
          "{<br>  \"number\": 24,<br>  \"values\": [<br>    0.8611813654224398,<br>    0.8954841715078568<br>  ],<br>  \"params\": {<br>    \"k\": 15,<br>    \"C\": 7.925744985722981<br>  }<br>}",
          "{<br>  \"number\": 25,<br>  \"values\": [<br>    0.851431096222355,<br>    0.8895200064486494<br>  ],<br>  \"params\": {<br>    \"k\": 11,<br>    \"C\": 3.661481839908409<br>  }<br>}",
          "{<br>  \"number\": 26,<br>  \"values\": [<br>    0.8425926405877071,<br>    0.8789823896088638<br>  ],<br>  \"params\": {<br>    \"k\": 12,<br>    \"C\": 0.018038986441920837<br>  }<br>}",
          "{<br>  \"number\": 27,<br>  \"values\": [<br>    0.8496024441700845,<br>    0.8881981058073702<br>  ],<br>  \"params\": {<br>    \"k\": 10,<br>    \"C\": 4.648785544654329<br>  }<br>}",
          "{<br>  \"number\": 28,<br>  \"values\": [<br>    0.8440278225449382,<br>    0.8815949521493396<br>  ],<br>  \"params\": {<br>    \"k\": 9,<br>    \"C\": 0.05014401775750947<br>  }<br>}",
          "{<br>  \"number\": 29,<br>  \"values\": [<br>    0.8525510004303694,<br>    0.8849516819669778<br>  ],<br>  \"params\": {<br>    \"k\": 16,<br>    \"C\": 0.014849132015343092<br>  }<br>}"
         ],
         "type": "scatter",
         "x": [
          0.8495939621572834,
          0.8527700293383186,
          0.8327834850984583,
          0.8496060918165933,
          0.8456347885744547,
          0.8495694669806733,
          0.8611583580918444,
          0.8211938270276807,
          0.851422420507773,
          0.8527796194310968,
          0.8496688337989967,
          0.8491079785890052,
          0.8440395468811761,
          0.8465953206446108,
          0.8211878747530784,
          0.8206398274490037,
          0.8325492089162028,
          0.8182472877278455,
          0.8589262168287217,
          0.8527577188253664,
          0.8440755923457026,
          0.8580034019541671,
          0.8455791871668838,
          0.8611813654224398,
          0.851431096222355,
          0.8425926405877071,
          0.8496024441700845,
          0.8440278225449382,
          0.8525510004303694
         ],
         "y": [
          0.8882009863741007,
          0.8900770640213022,
          0.87728188361848,
          0.888197105214631,
          0.886929643274047,
          0.8882166706507564,
          0.895500794144098,
          0.867020079612082,
          0.8895417051005609,
          0.8900094040724928,
          0.8880560812514359,
          0.8859315272098025,
          0.8811462317780462,
          0.8866140952121198,
          0.8669002056491154,
          0.8660316676065072,
          0.8766379365619962,
          0.8624593755507547,
          0.8904084289905484,
          0.8900236793270476,
          0.880225335087102,
          0.8922495600737059,
          0.8870329080700297,
          0.8954841715078568,
          0.8895200064486494,
          0.8789823896088638,
          0.8881981058073702,
          0.8815949521493396,
          0.8849516819669778
         ]
        },
        {
         "hovertemplate": "%{text}<extra>Best Trial</extra>",
         "marker": {
          "color": [
           10
          ],
          "colorbar": {
           "title": {
            "text": "Best Trial"
           },
           "x": 1.1,
           "xpad": 40
          },
          "colorscale": [
           [
            0,
            "rgb(255,245,240)"
           ],
           [
            0.125,
            "rgb(254,224,210)"
           ],
           [
            0.25,
            "rgb(252,187,161)"
           ],
           [
            0.375,
            "rgb(252,146,114)"
           ],
           [
            0.5,
            "rgb(251,106,74)"
           ],
           [
            0.625,
            "rgb(239,59,44)"
           ],
           [
            0.75,
            "rgb(203,24,29)"
           ],
           [
            0.875,
            "rgb(165,15,21)"
           ],
           [
            1,
            "rgb(103,0,13)"
           ]
          ],
          "line": {
           "color": "Grey",
           "width": 0.5
          }
         },
         "mode": "markers",
         "showlegend": false,
         "text": [
          "{<br>  \"number\": 10,<br>  \"values\": [<br>    0.8670018031739989,<br>    0.8990184189288014<br>  ],<br>  \"params\": {<br>    \"k\": 16,<br>    \"C\": 12.592857649031602<br>  }<br>}"
         ],
         "type": "scatter",
         "x": [
          0.8670018031739989
         ],
         "y": [
          0.8990184189288014
         ]
        }
       ],
       "layout": {
        "template": {
         "data": {
          "bar": [
           {
            "error_x": {
             "color": "#2a3f5f"
            },
            "error_y": {
             "color": "#2a3f5f"
            },
            "marker": {
             "line": {
              "color": "#E5ECF6",
              "width": 0.5
             },
             "pattern": {
              "fillmode": "overlay",
              "size": 10,
              "solidity": 0.2
             }
            },
            "type": "bar"
           }
          ],
          "barpolar": [
           {
            "marker": {
             "line": {
              "color": "#E5ECF6",
              "width": 0.5
             },
             "pattern": {
              "fillmode": "overlay",
              "size": 10,
              "solidity": 0.2
             }
            },
            "type": "barpolar"
           }
          ],
          "carpet": [
           {
            "aaxis": {
             "endlinecolor": "#2a3f5f",
             "gridcolor": "white",
             "linecolor": "white",
             "minorgridcolor": "white",
             "startlinecolor": "#2a3f5f"
            },
            "baxis": {
             "endlinecolor": "#2a3f5f",
             "gridcolor": "white",
             "linecolor": "white",
             "minorgridcolor": "white",
             "startlinecolor": "#2a3f5f"
            },
            "type": "carpet"
           }
          ],
          "choropleth": [
           {
            "colorbar": {
             "outlinewidth": 0,
             "ticks": ""
            },
            "type": "choropleth"
           }
          ],
          "contour": [
           {
            "colorbar": {
             "outlinewidth": 0,
             "ticks": ""
            },
            "colorscale": [
             [
              0,
              "#0d0887"
             ],
             [
              0.1111111111111111,
              "#46039f"
             ],
             [
              0.2222222222222222,
              "#7201a8"
             ],
             [
              0.3333333333333333,
              "#9c179e"
             ],
             [
              0.4444444444444444,
              "#bd3786"
             ],
             [
              0.5555555555555556,
              "#d8576b"
             ],
             [
              0.6666666666666666,
              "#ed7953"
             ],
             [
              0.7777777777777778,
              "#fb9f3a"
             ],
             [
              0.8888888888888888,
              "#fdca26"
             ],
             [
              1,
              "#f0f921"
             ]
            ],
            "type": "contour"
           }
          ],
          "contourcarpet": [
           {
            "colorbar": {
             "outlinewidth": 0,
             "ticks": ""
            },
            "type": "contourcarpet"
           }
          ],
          "heatmap": [
           {
            "colorbar": {
             "outlinewidth": 0,
             "ticks": ""
            },
            "colorscale": [
             [
              0,
              "#0d0887"
             ],
             [
              0.1111111111111111,
              "#46039f"
             ],
             [
              0.2222222222222222,
              "#7201a8"
             ],
             [
              0.3333333333333333,
              "#9c179e"
             ],
             [
              0.4444444444444444,
              "#bd3786"
             ],
             [
              0.5555555555555556,
              "#d8576b"
             ],
             [
              0.6666666666666666,
              "#ed7953"
             ],
             [
              0.7777777777777778,
              "#fb9f3a"
             ],
             [
              0.8888888888888888,
              "#fdca26"
             ],
             [
              1,
              "#f0f921"
             ]
            ],
            "type": "heatmap"
           }
          ],
          "histogram": [
           {
            "marker": {
             "pattern": {
              "fillmode": "overlay",
              "size": 10,
              "solidity": 0.2
             }
            },
            "type": "histogram"
           }
          ],
          "histogram2d": [
           {
            "colorbar": {
             "outlinewidth": 0,
             "ticks": ""
            },
            "colorscale": [
             [
              0,
              "#0d0887"
             ],
             [
              0.1111111111111111,
              "#46039f"
             ],
             [
              0.2222222222222222,
              "#7201a8"
             ],
             [
              0.3333333333333333,
              "#9c179e"
             ],
             [
              0.4444444444444444,
              "#bd3786"
             ],
             [
              0.5555555555555556,
              "#d8576b"
             ],
             [
              0.6666666666666666,
              "#ed7953"
             ],
             [
              0.7777777777777778,
              "#fb9f3a"
             ],
             [
              0.8888888888888888,
              "#fdca26"
             ],
             [
              1,
              "#f0f921"
             ]
            ],
            "type": "histogram2d"
           }
          ],
          "histogram2dcontour": [
           {
            "colorbar": {
             "outlinewidth": 0,
             "ticks": ""
            },
            "colorscale": [
             [
              0,
              "#0d0887"
             ],
             [
              0.1111111111111111,
              "#46039f"
             ],
             [
              0.2222222222222222,
              "#7201a8"
             ],
             [
              0.3333333333333333,
              "#9c179e"
             ],
             [
              0.4444444444444444,
              "#bd3786"
             ],
             [
              0.5555555555555556,
              "#d8576b"
             ],
             [
              0.6666666666666666,
              "#ed7953"
             ],
             [
              0.7777777777777778,
              "#fb9f3a"
             ],
             [
              0.8888888888888888,
              "#fdca26"
             ],
             [
              1,
              "#f0f921"
             ]
            ],
            "type": "histogram2dcontour"
           }
          ],
          "mesh3d": [
           {
            "colorbar": {
             "outlinewidth": 0,
             "ticks": ""
            },
            "type": "mesh3d"
           }
          ],
          "parcoords": [
           {
            "line": {
             "colorbar": {
              "outlinewidth": 0,
              "ticks": ""
             }
            },
            "type": "parcoords"
           }
          ],
          "pie": [
           {
            "automargin": true,
            "type": "pie"
           }
          ],
          "scatter": [
           {
            "fillpattern": {
             "fillmode": "overlay",
             "size": 10,
             "solidity": 0.2
            },
            "type": "scatter"
           }
          ],
          "scatter3d": [
           {
            "line": {
             "colorbar": {
              "outlinewidth": 0,
              "ticks": ""
             }
            },
            "marker": {
             "colorbar": {
              "outlinewidth": 0,
              "ticks": ""
             }
            },
            "type": "scatter3d"
           }
          ],
          "scattercarpet": [
           {
            "marker": {
             "colorbar": {
              "outlinewidth": 0,
              "ticks": ""
             }
            },
            "type": "scattercarpet"
           }
          ],
          "scattergeo": [
           {
            "marker": {
             "colorbar": {
              "outlinewidth": 0,
              "ticks": ""
             }
            },
            "type": "scattergeo"
           }
          ],
          "scattergl": [
           {
            "marker": {
             "colorbar": {
              "outlinewidth": 0,
              "ticks": ""
             }
            },
            "type": "scattergl"
           }
          ],
          "scattermap": [
           {
            "marker": {
             "colorbar": {
              "outlinewidth": 0,
              "ticks": ""
             }
            },
            "type": "scattermap"
           }
          ],
          "scattermapbox": [
           {
            "marker": {
             "colorbar": {
              "outlinewidth": 0,
              "ticks": ""
             }
            },
            "type": "scattermapbox"
           }
          ],
          "scatterpolar": [
           {
            "marker": {
             "colorbar": {
              "outlinewidth": 0,
              "ticks": ""
             }
            },
            "type": "scatterpolar"
           }
          ],
          "scatterpolargl": [
           {
            "marker": {
             "colorbar": {
              "outlinewidth": 0,
              "ticks": ""
             }
            },
            "type": "scatterpolargl"
           }
          ],
          "scatterternary": [
           {
            "marker": {
             "colorbar": {
              "outlinewidth": 0,
              "ticks": ""
             }
            },
            "type": "scatterternary"
           }
          ],
          "surface": [
           {
            "colorbar": {
             "outlinewidth": 0,
             "ticks": ""
            },
            "colorscale": [
             [
              0,
              "#0d0887"
             ],
             [
              0.1111111111111111,
              "#46039f"
             ],
             [
              0.2222222222222222,
              "#7201a8"
             ],
             [
              0.3333333333333333,
              "#9c179e"
             ],
             [
              0.4444444444444444,
              "#bd3786"
             ],
             [
              0.5555555555555556,
              "#d8576b"
             ],
             [
              0.6666666666666666,
              "#ed7953"
             ],
             [
              0.7777777777777778,
              "#fb9f3a"
             ],
             [
              0.8888888888888888,
              "#fdca26"
             ],
             [
              1,
              "#f0f921"
             ]
            ],
            "type": "surface"
           }
          ],
          "table": [
           {
            "cells": {
             "fill": {
              "color": "#EBF0F8"
             },
             "line": {
              "color": "white"
             }
            },
            "header": {
             "fill": {
              "color": "#C8D4E3"
             },
             "line": {
              "color": "white"
             }
            },
            "type": "table"
           }
          ]
         },
         "layout": {
          "annotationdefaults": {
           "arrowcolor": "#2a3f5f",
           "arrowhead": 0,
           "arrowwidth": 1
          },
          "autotypenumbers": "strict",
          "coloraxis": {
           "colorbar": {
            "outlinewidth": 0,
            "ticks": ""
           }
          },
          "colorscale": {
           "diverging": [
            [
             0,
             "#8e0152"
            ],
            [
             0.1,
             "#c51b7d"
            ],
            [
             0.2,
             "#de77ae"
            ],
            [
             0.3,
             "#f1b6da"
            ],
            [
             0.4,
             "#fde0ef"
            ],
            [
             0.5,
             "#f7f7f7"
            ],
            [
             0.6,
             "#e6f5d0"
            ],
            [
             0.7,
             "#b8e186"
            ],
            [
             0.8,
             "#7fbc41"
            ],
            [
             0.9,
             "#4d9221"
            ],
            [
             1,
             "#276419"
            ]
           ],
           "sequential": [
            [
             0,
             "#0d0887"
            ],
            [
             0.1111111111111111,
             "#46039f"
            ],
            [
             0.2222222222222222,
             "#7201a8"
            ],
            [
             0.3333333333333333,
             "#9c179e"
            ],
            [
             0.4444444444444444,
             "#bd3786"
            ],
            [
             0.5555555555555556,
             "#d8576b"
            ],
            [
             0.6666666666666666,
             "#ed7953"
            ],
            [
             0.7777777777777778,
             "#fb9f3a"
            ],
            [
             0.8888888888888888,
             "#fdca26"
            ],
            [
             1,
             "#f0f921"
            ]
           ],
           "sequentialminus": [
            [
             0,
             "#0d0887"
            ],
            [
             0.1111111111111111,
             "#46039f"
            ],
            [
             0.2222222222222222,
             "#7201a8"
            ],
            [
             0.3333333333333333,
             "#9c179e"
            ],
            [
             0.4444444444444444,
             "#bd3786"
            ],
            [
             0.5555555555555556,
             "#d8576b"
            ],
            [
             0.6666666666666666,
             "#ed7953"
            ],
            [
             0.7777777777777778,
             "#fb9f3a"
            ],
            [
             0.8888888888888888,
             "#fdca26"
            ],
            [
             1,
             "#f0f921"
            ]
           ]
          },
          "colorway": [
           "#636efa",
           "#EF553B",
           "#00cc96",
           "#ab63fa",
           "#FFA15A",
           "#19d3f3",
           "#FF6692",
           "#B6E880",
           "#FF97FF",
           "#FECB52"
          ],
          "font": {
           "color": "#2a3f5f"
          },
          "geo": {
           "bgcolor": "white",
           "lakecolor": "white",
           "landcolor": "#E5ECF6",
           "showlakes": true,
           "showland": true,
           "subunitcolor": "white"
          },
          "hoverlabel": {
           "align": "left"
          },
          "hovermode": "closest",
          "mapbox": {
           "style": "light"
          },
          "paper_bgcolor": "white",
          "plot_bgcolor": "#E5ECF6",
          "polar": {
           "angularaxis": {
            "gridcolor": "white",
            "linecolor": "white",
            "ticks": ""
           },
           "bgcolor": "#E5ECF6",
           "radialaxis": {
            "gridcolor": "white",
            "linecolor": "white",
            "ticks": ""
           }
          },
          "scene": {
           "xaxis": {
            "backgroundcolor": "#E5ECF6",
            "gridcolor": "white",
            "gridwidth": 2,
            "linecolor": "white",
            "showbackground": true,
            "ticks": "",
            "zerolinecolor": "white"
           },
           "yaxis": {
            "backgroundcolor": "#E5ECF6",
            "gridcolor": "white",
            "gridwidth": 2,
            "linecolor": "white",
            "showbackground": true,
            "ticks": "",
            "zerolinecolor": "white"
           },
           "zaxis": {
            "backgroundcolor": "#E5ECF6",
            "gridcolor": "white",
            "gridwidth": 2,
            "linecolor": "white",
            "showbackground": true,
            "ticks": "",
            "zerolinecolor": "white"
           }
          },
          "shapedefaults": {
           "line": {
            "color": "#2a3f5f"
           }
          },
          "ternary": {
           "aaxis": {
            "gridcolor": "white",
            "linecolor": "white",
            "ticks": ""
           },
           "baxis": {
            "gridcolor": "white",
            "linecolor": "white",
            "ticks": ""
           },
           "bgcolor": "#E5ECF6",
           "caxis": {
            "gridcolor": "white",
            "linecolor": "white",
            "ticks": ""
           }
          },
          "title": {
           "x": 0.05
          },
          "xaxis": {
           "automargin": true,
           "gridcolor": "white",
           "linecolor": "white",
           "ticks": "",
           "title": {
            "standoff": 15
           },
           "zerolinecolor": "white",
           "zerolinewidth": 2
          },
          "yaxis": {
           "automargin": true,
           "gridcolor": "white",
           "linecolor": "white",
           "ticks": "",
           "title": {
            "standoff": 15
           },
           "zerolinecolor": "white",
           "zerolinewidth": 2
          }
         }
        },
        "title": {
         "text": "Pareto-front Plot"
        },
        "xaxis": {
         "title": {
          "text": "Objective 0"
         }
        },
        "yaxis": {
         "title": {
          "text": "Objective 1"
         }
        }
       }
      }
     },
     "metadata": {},
     "output_type": "display_data"
    }
   ],
   "source": [
    "# [опционально]\n",
    "from optuna.visualization import plot_pareto_front\n",
    "plot_pareto_front(study)"
   ]
  },
  {
   "cell_type": "markdown",
   "metadata": {},
   "source": [
    "### Финальная оценка моделей"
   ]
  },
  {
   "cell_type": "code",
   "execution_count": 17,
   "metadata": {},
   "outputs": [],
   "source": [
    "logreg_test_pred = logreg_best.predict_proba(X_test_sel)[:, 1]\n",
    "tree_test_pred = tree_best.predict_proba(X_test_sel)[:, 1]\n",
    "rf_test_pred = rf_best.predict_proba(X_test_sel)[:, 1]\n",
    "grid_test_pred = grid_search.best_estimator_.predict_proba(X_test)[:, 1]\n",
    "de_logreg = LogisticRegression(C=result.x[0], max_iter=1000).fit(X_tr_sel, y_tr)\n",
    "de_test_pred = de_logreg.predict_proba(X_test_sel)[:, 1]\n",
    "\n",
    "best_trial = study.best_trials[0]\n",
    "k_optuna = best_trial.params['k']\n",
    "C_optuna = best_trial.params['C']\n",
    "\n",
    "optuna_pipeline = Pipeline([\n",
    "    (\"encoder\", TargetEncoder(cols=cat_cols)),\n",
    "    (\"selector\", SelectKBest(score_func=f_classif, k=k_optuna)),\n",
    "    (\"model\", LogisticRegression(C=C_optuna, max_iter=1000))\n",
    "])\n",
    "optuna_pipeline.fit(X_train, y_train)\n",
    "optuna_test_pred = optuna_pipeline.predict_proba(X_test)[:, 1]"
   ]
  },
  {
   "cell_type": "code",
   "execution_count": null,
   "metadata": {},
   "outputs": [
    {
     "data": {
      "application/vnd.microsoft.datawrangler.viewer.v0+json": {
       "columns": [
        {
         "name": "index",
         "rawType": "int64",
         "type": "integer"
        },
        {
         "name": "Модель",
         "rawType": "object",
         "type": "string"
        },
        {
         "name": "ROC-AUC",
         "rawType": "float64",
         "type": "float"
        },
        {
         "name": "PR-AUC",
         "rawType": "float64",
         "type": "float"
        },
        {
         "name": "F1-мера",
         "rawType": "float64",
         "type": "float"
        }
       ],
       "ref": "ccd6bbbe-6df3-4bd3-b06f-7f4eaa1068bd",
       "rows": [
        [
         "0",
         "Случайный лес (train/val)",
         "0.999911",
         "0.999935",
         "0.998918"
        ],
        [
         "1",
         "Дерево решений (train/val)",
         "0.942962",
         "0.948545",
         "0.878764"
        ],
        [
         "2",
         "GridSearchCV (кросс-валидация)",
         "0.86786",
         "0.899306",
         "0.822181"
        ],
        [
         "3",
         "Optuna (оптимизация)",
         "0.867859",
         "0.899221",
         "0.822279"
        ],
        [
         "4",
         "Дифференциальная эволюция",
         "0.82052",
         "0.867635",
         "0.770071"
        ],
        [
         "5",
         "Логистическая регрессия (train/val)",
         "0.82043",
         "0.867598",
         "0.77005"
        ]
       ],
       "shape": {
        "columns": 4,
        "rows": 6
       }
      },
      "text/html": [
       "<div>\n",
       "<style scoped>\n",
       "    .dataframe tbody tr th:only-of-type {\n",
       "        vertical-align: middle;\n",
       "    }\n",
       "\n",
       "    .dataframe tbody tr th {\n",
       "        vertical-align: top;\n",
       "    }\n",
       "\n",
       "    .dataframe thead th {\n",
       "        text-align: right;\n",
       "    }\n",
       "</style>\n",
       "<table border=\"1\" class=\"dataframe\">\n",
       "  <thead>\n",
       "    <tr style=\"text-align: right;\">\n",
       "      <th></th>\n",
       "      <th>Модель</th>\n",
       "      <th>ROC-AUC</th>\n",
       "      <th>PR-AUC</th>\n",
       "      <th>F1-мера</th>\n",
       "    </tr>\n",
       "  </thead>\n",
       "  <tbody>\n",
       "    <tr>\n",
       "      <th>0</th>\n",
       "      <td>Случайный лес (train/val)</td>\n",
       "      <td>0.999911</td>\n",
       "      <td>0.999935</td>\n",
       "      <td>0.998918</td>\n",
       "    </tr>\n",
       "    <tr>\n",
       "      <th>1</th>\n",
       "      <td>Дерево решений (train/val)</td>\n",
       "      <td>0.942962</td>\n",
       "      <td>0.948545</td>\n",
       "      <td>0.878764</td>\n",
       "    </tr>\n",
       "    <tr>\n",
       "      <th>2</th>\n",
       "      <td>GridSearchCV (кросс-валидация)</td>\n",
       "      <td>0.867860</td>\n",
       "      <td>0.899306</td>\n",
       "      <td>0.822181</td>\n",
       "    </tr>\n",
       "    <tr>\n",
       "      <th>3</th>\n",
       "      <td>Optuna (оптимизация)</td>\n",
       "      <td>0.867859</td>\n",
       "      <td>0.899221</td>\n",
       "      <td>0.822279</td>\n",
       "    </tr>\n",
       "    <tr>\n",
       "      <th>4</th>\n",
       "      <td>Дифференциальная эволюция</td>\n",
       "      <td>0.820520</td>\n",
       "      <td>0.867635</td>\n",
       "      <td>0.770071</td>\n",
       "    </tr>\n",
       "    <tr>\n",
       "      <th>5</th>\n",
       "      <td>Логистическая регрессия (train/val)</td>\n",
       "      <td>0.820430</td>\n",
       "      <td>0.867598</td>\n",
       "      <td>0.770050</td>\n",
       "    </tr>\n",
       "  </tbody>\n",
       "</table>\n",
       "</div>"
      ],
      "text/plain": [
       "                                Модель  ROC-AUC   PR-AUC  F1-мера\n",
       "0            Случайный лес (train/val) 0.999911 0.999935 0.998918\n",
       "1           Дерево решений (train/val) 0.942962 0.948545 0.878764\n",
       "2       GridSearchCV (кросс-валидация) 0.867860 0.899306 0.822181\n",
       "3                 Optuna (оптимизация) 0.867859 0.899221 0.822279\n",
       "4            Дифференциальная эволюция 0.820520 0.867635 0.770071\n",
       "5  Логистическая регрессия (train/val) 0.820430 0.867598 0.770050"
      ]
     },
     "metadata": {},
     "output_type": "display_data"
    },
    {
     "name": "stdout",
     "output_type": "stream",
     "text": [
      "\n",
      "Лучшая модель: Случайный лес (train/val) (ROC-AUC=0.999911)\n"
     ]
    }
   ],
   "source": [
    "results_table = pd.DataFrame(\n",
    "[\n",
    "    {\n",
    "        \"Модель\": \"Логистическая регрессия (train/val)\",\n",
    "        \"ROC-AUC\": roc_auc_score(y_test, logreg_test_pred),\n",
    "        \"PR-AUC\": average_precision_score(y_test, logreg_test_pred),\n",
    "        \"F1-мера\": f1_score(y_test, logreg_best.predict(X_test_sel))\n",
    "    },\n",
    "    {\n",
    "        \"Модель\": \"Дерево решений (train/val)\",\n",
    "        \"ROC-AUC\": roc_auc_score(y_test, tree_test_pred),\n",
    "        \"PR-AUC\": average_precision_score(y_test, tree_test_pred),\n",
    "        \"F1-мера\": f1_score(y_test, tree_best.predict(X_test_sel))\n",
    "    },\n",
    "    {\n",
    "        \"Модель\": \"Случайный лес (train/val)\",\n",
    "        \"ROC-AUC\": roc_auc_score(y_test, rf_test_pred),\n",
    "        \"PR-AUC\": average_precision_score(y_test, rf_test_pred),\n",
    "        \"F1-мера\": f1_score(y_test, rf_best.predict(X_test_sel))\n",
    "    },\n",
    "    {\n",
    "        \"Модель\": \"GridSearchCV (кросс-валидация)\",\n",
    "        \"ROC-AUC\": roc_auc_score(y_test, grid_test_pred),\n",
    "        \"PR-AUC\": average_precision_score(y_test, grid_test_pred),\n",
    "        \"F1-мера\": f1_score(y_test, grid_search.best_estimator_.predict(X_test))\n",
    "    },\n",
    "    {\n",
    "        \"Модель\": \"Дифференциальная эволюция\",\n",
    "        \"ROC-AUC\": roc_auc_score(y_test, de_test_pred),\n",
    "        \"PR-AUC\": average_precision_score(y_test, de_test_pred),\n",
    "        \"F1-мера\": f1_score(y_test, de_logreg.predict(X_test_sel))\n",
    "    },\n",
    "    {\n",
    "        \"Модель\": \"Optuna (оптимизация)\",\n",
    "        \"ROC-AUC\": roc_auc_score(y_test, optuna_test_pred),\n",
    "        \"PR-AUC\": average_precision_score(y_test, optuna_test_pred),\n",
    "        \"F1-мера\": f1_score(y_test, optuna_pipeline.predict(X_test))\n",
    "    }\n",
    "])\n",
    "\n",
    "results_table = results_table.sort_values(\"ROC-AUC\", ascending=False).reset_index(drop=True)\n",
    "\n",
    "display(results_table.round(6))\n",
    "\n",
    "best_row = results_table.iloc[0]\n",
    "print(f\"\\nЛучшая модель: {best_row['Модель']} (ROC-AUC={best_row['ROC-AUC']:.6f})\")\n",
    "\n"
   ]
  }
 ],
 "metadata": {
  "colab": {
   "provenance": []
  },
  "kernelspec": {
   "display_name": "base",
   "language": "python",
   "name": "python3"
  },
  "language_info": {
   "codemirror_mode": {
    "name": "ipython",
    "version": 3
   },
   "file_extension": ".py",
   "mimetype": "text/x-python",
   "name": "python",
   "nbconvert_exporter": "python",
   "pygments_lexer": "ipython3",
   "version": "3.12.7"
  }
 },
 "nbformat": 4,
 "nbformat_minor": 0
}
