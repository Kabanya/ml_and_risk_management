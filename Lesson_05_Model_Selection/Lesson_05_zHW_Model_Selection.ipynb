{
  "cells": [
    {
      "cell_type": "markdown",
      "metadata": {
        "id": "frLy1ZvPlrsB"
      },
      "source": [
        "### **Домашнее задание: Выбор модели для бинарной классификации**\n",
        "\n",
        "**Цель**: Провести отбор признаков и настройку гиперпараметров нескольких моделей для бинарной классификации разными методами. Сравнить результаты и выбрать лучшую модель.\n",
        "\n",
        "Задание считается выполненным успешно, если будет обучено по крайней мере три модели, среди которых выбрана лучшая по тестовым метрикам.\n",
        "\n",
        "Ноутбуки направить на почту simon.ilishaev@gmail.com. В теме письма - [ML в Рисках]\n",
        "\n",
        "\n",
        "#### **Данные и начальная настройка**  \n",
        "1. [Загрузите датасет](https://archive.ics.uci.edu/dataset/848/secondary+mushroom+dataset) (числовые и категориальные признаки, бинарная целевая переменная).  \n",
        "2. Сделайте **стратифицированное разделение на train-test** (например, 70-30). **Тестовый набор** будет использоваться **только для финальной оценки модели**.\n",
        "\n",
        "#### Подход с разделением на train-validation  \n",
        "1. Разделите ещё раз **обучающую выборку (train)** на train-validation** (например, 80-20).  \n",
        "2. Проведите **отбор признаков с помощью фильтрационных методов** на **train-подвыборке**.  \n",
        "3. Настройте гиперпараметры (например, `C` для логистической регрессии, `max_depth` для дерева решений и т. д.) на **валидационной выборке**.  \n",
        "4. **Опционально**: Используйте **Differential Evolution из Scipy** для оптимизации гиперпараметров логистической регрессии.  \n",
        "\n",
        "#### Подход с кросс-валидацией  \n",
        "1. Используйте **кросс-валидацию (CV)** для **отбора признаков и настройки гиперпараметров**.  \n",
        "2. Реализуйте **GridSearchCV** для перебора гиперпараметров.  \n",
        "3. **Опционально**: Используйте **Optuna** с **многокритериальной оптимизацией** (максимизация ROC-AUC и Precision-Recall AUC).  \n",
        "4. **Опционально**: Визуализируйте **Парето-фронт** для испытаний Optuna.  \n",
        "\n",
        "#### **Финальная оценка моделей**  \n",
        "1. Оцените все настроенные модели на **тестовом наборе** (ROC-AUC, Precision-Recall AUC, F1-score).  \n",
        "2. **Выберите лучшую модель** на основе тестовых метрик.  \n",
        "\n",
        "### **Модели для использования**  \n",
        "- Логистическая регрессия (`LogisticRegression`)  \n",
        "- Дерево решений (`DecisionTreeClassifier`)  \n",
        "- Случайный лес (`RandomForestClassifier`)\n",
        "- ...\n",
        "\n",
        "### Документация\n",
        "\n",
        "[Scikit-Learn Cross-Validation](https://scikit-learn.org/stable/modules/cross_validation.html)\n",
        "\n",
        "[Category Encoders](https://contrib.scikit-learn.org/category_encoders/)\n",
        "\n",
        "[Grid Search](https://scikit-learn.org/stable/modules/grid_search.html)\n",
        "\n",
        "[Optuna example](https://github.com/optuna/optuna-examples/blob/main/sklearn/sklearn_simple.py)\n",
        "\n",
        "[Pareto front](https://optuna.readthedocs.io/en/stable/reference/visualization/generated/optuna.visualization.plot_pareto_front.html#sphx-glr-reference-visualization-generated-optuna-visualization-plot-pareto-front-py)\n",
        "\n",
        "[Scikit-Leaern Pipeline](https://scikit-learn.org/stable/modules/compose.html)\n",
        "\n",
        "[Differential Evolution](https://docs.scipy.org/doc/scipy/reference/generated/scipy.optimize.differential_evolution.html)\n",
        "---"
      ]
    },
    {
      "cell_type": "code",
      "execution_count": null,
      "metadata": {
        "id": "pZ7Trq2mHiys"
      },
      "outputs": [],
      "source": [
        "%%bash\n",
        "pip install ucimlrepo\n",
        "pip install category_encoders\n",
        "pip install optuna"
      ]
    },
    {
      "cell_type": "code",
      "execution_count": 29,
      "metadata": {
        "id": "_1VXQTU-P4PR"
      },
      "outputs": [],
      "source": [
        "# библиотеки, которые могут понадобиться для выполнения задания\n",
        "import numpy as np\n",
        "import pandas as pd\n",
        "from sklearn.model_selection import train_test_split, RepeatedKFold, GridSearchCV\n",
        "from sklearn.feature_selection import SelectKBest, f_classif\n",
        "from sklearn.linear_model import LogisticRegression\n",
        "from sklearn.tree import DecisionTreeClassifier\n",
        "from sklearn.ensemble import RandomForestClassifier\n",
        "from sklearn.pipeline import Pipeline\n",
        "from sklearn.metrics import roc_auc_score, average_precision_score\n",
        "from category_encoders import TargetEncoder\n",
        "from scipy.optimize import differential_evolution\n",
        "import optuna\n",
        "from optuna.visualization import plot_pareto_front\n",
        "import matplotlib.pyplot as plt"
      ]
    },
    {
      "cell_type": "code",
      "execution_count": 31,
      "metadata": {
        "id": "IxePvIGLKDAd"
      },
      "outputs": [],
      "source": [
        "from ucimlrepo import fetch_ucirepo\n",
        "\n",
        "# fetch dataset\n",
        "secondary_mushroom = fetch_ucirepo(id=848)\n",
        "\n",
        "# data (as pandas dataframes)\n",
        "X = secondary_mushroom.data.features\n",
        "y = secondary_mushroom.data.targets\n",
        "\n",
        "# раскомментируйте, чтобы посмотреть метаданные набора данных\n",
        "# # metadata\n",
        "# print(secondary_mushroom.metadata)\n",
        "\n",
        "# # variable information\n",
        "# print(secondary_mushroom.variables)"
      ]
    },
    {
      "cell_type": "code",
      "execution_count": 32,
      "metadata": {
        "id": "nCr8IPivMQS2"
      },
      "outputs": [],
      "source": [
        "# target: p - poisonous (ядовитые), e - edible(съедобные)\n",
        "y = y['class'].map({'p': 1, 'e': 0})"
      ]
    },
    {
      "cell_type": "code",
      "execution_count": null,
      "metadata": {
        "id": "0DK5wGeSSvXq"
      },
      "outputs": [],
      "source": [
        "# Разделение на train-test\n",
        "X_train, X_test, y_train, y_test = train_test_split(\n",
        "    X, y, test_size=0.3, stratify=y, random_state=42\n",
        ")\n",
        "\n",
        "# Категориальные признаки\n",
        "cat_cols = list(X.select_dtypes('object').columns)\n",
        "print(cat_cols)\n",
        "# Численные признаки\n",
        "num_cols = [col for col in X.columns if col not in cat_cols + [\"target\"]]\n",
        "print(num_cols)"
      ]
    },
    {
      "cell_type": "code",
      "execution_count": null,
      "metadata": {
        "id": "GvvnNiCQTFNB"
      },
      "outputs": [],
      "source": [
        "# Подсказка, соберите конвейер из нескольких компонент\n",
        "pipeline = Pipeline([\n",
        "    (\"encoder\", TargetEncoder(cols=cat_cols)),\n",
        "    (\"selector\", SelectKBest(score_func=f_classif)),\n",
        "    (\"model\", LogisticRegression(max_iter=1000))\n",
        "])\n",
        "\n",
        "# Пример с логистической регрессией\n",
        "# Настройка через GridSearchCV с RepeatedKFold\n",
        "cv = RepeatedKFold(n_splits=5, n_repeats=2, random_state=42)\n",
        "param_grid = {\n",
        "    \"selector__k\": [5, 10, 15],\n",
        "    \"model__C\": [0.01, 0.1, 1, 10]\n",
        "}\n",
        "grid_search = GridSearchCV(pipeline, param_grid, cv=cv, scoring=\"roc_auc\", n_jobs=-1)\n",
        "grid_search.fit(X_train, y_train)\n",
        "best_model = grid_search.best_estimator_\n",
        "\n",
        "# Оценка на тесте\n",
        "test_roc = roc_auc_score(y_test, best_model.predict_proba(X_test)[:, 1])\n",
        "print(f\"Test ROC-AUC (GridSearch): {test_roc:.3f}\")"
      ]
    },
    {
      "cell_type": "code",
      "execution_count": null,
      "metadata": {
        "id": "1ryKq7btYmvx"
      },
      "outputs": [],
      "source": []
    }
  ],
  "metadata": {
    "colab": {
      "provenance": []
    },
    "kernelspec": {
      "display_name": "Python 3",
      "name": "python3"
    },
    "language_info": {
      "name": "python"
    }
  },
  "nbformat": 4,
  "nbformat_minor": 0
}
