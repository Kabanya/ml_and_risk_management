{
 "cells": [
  {
   "cell_type": "markdown",
   "metadata": {
    "id": "frLy1ZvPlrsB"
   },
   "source": [
    "## **Домашнее задание: Выбор модели для бинарной классификации**\n",
    "\n",
    "**Цель**: Провести отбор признаков и настройку гиперпараметров нескольких моделей для бинарной классификации разными методами. Сравнить результаты и выбрать лучшую модель.\n",
    "\n",
    "Задание считается выполненным успешно, если будет обучено по крайней мере три модели, среди которых выбрана лучшая по тестовым метрикам.\n",
    "\n",
    "Ноутбуки направить на почту simon.ilishaev@gmail.com. В теме письма - [ML в Рисках]\n",
    "\n",
    "\n",
    "#### **Данные и начальная настройка**  \n",
    "1. [Загрузите датасет](https://archive.ics.uci.edu/dataset/848/secondary+mushroom+dataset) (числовые и категориальные признаки, бинарная целевая переменная).  \n",
    "2. Сделайте **стратифицированное разделение на train-test** (например, 70-30). **Тестовый набор** будет использоваться **только для финальной оценки модели**.\n",
    "\n",
    "#### Подход с разделением на train-validation  \n",
    "1. Разделите ещё раз **обучающую выборку (train)** на train-validation** (например, 80-20).  \n",
    "2. Проведите **отбор признаков с помощью фильтрационных методов** на **train-подвыборке**.  \n",
    "3. Настройте гиперпараметры (например, `C` для логистической регрессии, `max_depth` для дерева решений и т. д.) на **валидационной выборке**.  \n",
    "4. **Опционально**: Используйте **Differential Evolution из Scipy** для оптимизации гиперпараметров логистической регрессии.  \n",
    "\n",
    "#### Подход с кросс-валидацией  \n",
    "1. Используйте **кросс-валидацию (CV)** для **отбора признаков и настройки гиперпараметров**.  \n",
    "2. Реализуйте **GridSearchCV** для перебора гиперпараметров.  \n",
    "3. **Опционально**: Используйте **Optuna** с **многокритериальной оптимизацией** (максимизация ROC-AUC и Precision-Recall AUC).  \n",
    "4. **Опционально**: Визуализируйте **Парето-фронт** для испытаний Optuna.  \n",
    "\n",
    "#### **Финальная оценка моделей**  \n",
    "1. Оцените все настроенные модели на **тестовом наборе** (ROC-AUC, Precision-Recall AUC, F1-score).  \n",
    "2. **Выберите лучшую модель** на основе тестовых метрик.  \n",
    "\n",
    "### **Модели для использования**  \n",
    "- Логистическая регрессия (`LogisticRegression`)  \n",
    "- Дерево решений (`DecisionTreeClassifier`)  \n",
    "- Случайный лес (`RandomForestClassifier`)\n",
    "- ...\n",
    "\n",
    "### Документация\n",
    "\n",
    "[Scikit-Learn Cross-Validation](https://scikit-learn.org/stable/modules/cross_validation.html)\n",
    "\n",
    "[Category Encoders](https://contrib.scikit-learn.org/category_encoders/)\n",
    "\n",
    "[Grid Search](https://scikit-learn.org/stable/modules/grid_search.html)\n",
    "\n",
    "[Optuna example](https://github.com/optuna/optuna-examples/blob/main/sklearn/sklearn_simple.py)\n",
    "\n",
    "[Pareto front](https://optuna.readthedocs.io/en/stable/reference/visualization/generated/optuna.visualization.plot_pareto_front.html#sphx-glr-reference-visualization-generated-optuna-visualization-plot-pareto-front-py)\n",
    "\n",
    "[Scikit-Leaern Pipeline](https://scikit-learn.org/stable/modules/compose.html)\n",
    "\n",
    "[Differential Evolution](https://docs.scipy.org/doc/scipy/reference/generated/scipy.optimize.differential_evolution.html)\n",
    "\n",
    "\n",
    "---"
   ]
  },
  {
   "cell_type": "code",
   "execution_count": null,
   "metadata": {
    "id": "pZ7Trq2mHiys"
   },
   "outputs": [],
   "source": [
    "# %%bash\n",
    "# !pip install ucimlrepo\n",
    "# !pip install category_encoders\n",
    "# !pip install optuna"
   ]
  },
  {
   "cell_type": "code",
   "execution_count": null,
   "metadata": {
    "id": "_1VXQTU-P4PR"
   },
   "outputs": [],
   "source": [
    "# библиотеки, которые могут понадобиться для выполнения задания\n",
    "import numpy as np\n",
    "import pandas as pd\n",
    "from sklearn.model_selection import train_test_split, RepeatedKFold, GridSearchCV\n",
    "from sklearn.feature_selection import SelectKBest, f_classif\n",
    "from sklearn.linear_model import LogisticRegression\n",
    "from sklearn.tree import DecisionTreeClassifier\n",
    "from sklearn.ensemble import RandomForestClassifier\n",
    "from sklearn.pipeline import Pipeline\n",
    "from sklearn.metrics import roc_auc_score, average_precision_score, f1_score\n",
    "from category_encoders import TargetEncoder\n",
    "from scipy.optimize import differential_evolution\n",
    "import optuna\n",
    "from optuna.visualization import plot_pareto_front\n",
    "import matplotlib.pyplot as plt"
   ]
  },
  {
   "cell_type": "code",
   "execution_count": null,
   "metadata": {
    "ExecuteTime": {
     "end_time": "2025-05-20T21:43:49.035692Z",
     "start_time": "2025-05-20T21:43:44.912537Z"
    },
    "id": "IxePvIGLKDAd"
   },
   "outputs": [],
   "source": [
    "from ucimlrepo import fetch_ucirepo\n",
    "\n",
    "# fetch dataset\n",
    "secondary_mushroom = fetch_ucirepo(id=848)\n",
    "\n",
    "# data (as pandas dataframes)\n",
    "X = secondary_mushroom.data.features\n",
    "y = secondary_mushroom.data.targets\n",
    "\n",
    "# раскомментируйте, чтобы посмотреть метаданные набора данных\n",
    "# metadata\n",
    "print(secondary_mushroom.metadata)\n",
    "\n",
    "# variable information\n",
    "print(secondary_mushroom.variables)"
   ]
  },
  {
   "cell_type": "code",
   "execution_count": null,
   "metadata": {
    "id": "nCr8IPivMQS2"
   },
   "outputs": [],
   "source": [
    "# target: p - poisonous (ядовитые), e - edible(съедобные)\n",
    "y = y['class'].map({'p': 1, 'e': 0})"
   ]
  },
  {
   "cell_type": "code",
   "execution_count": null,
   "metadata": {
    "id": "0DK5wGeSSvXq"
   },
   "outputs": [],
   "source": [
    "# Разделение на train-test\n",
    "X_train, X_test, y_train, y_test = train_test_split(\n",
    "    X, y, test_size=0.3, stratify=y, random_state=42\n",
    ")\n",
    "\n",
    "# Категориальные признаки\n",
    "cat_cols = list(X.select_dtypes('object').columns)\n",
    "print(cat_cols)\n",
    "# Численные признаки\n",
    "num_cols = [col for col in X.columns if col not in cat_cols + [\"target\"]]\n",
    "print(num_cols)"
   ]
  },
  {
   "cell_type": "code",
   "execution_count": null,
   "metadata": {
    "id": "GvvnNiCQTFNB"
   },
   "outputs": [],
   "source": [
    "# Подсказка, соберите конвейер из нескольких компонент\n",
    "pipeline = Pipeline([\n",
    "    (\"encoder\", TargetEncoder(cols=cat_cols)),\n",
    "    (\"selector\", SelectKBest(score_func=f_classif)),\n",
    "    (\"model\", LogisticRegression(max_iter=1000))\n",
    "])\n",
    "\n",
    "# Пример с логистической регрессией\n",
    "# Настройка через GridSearchCV с RepeatedKFold\n",
    "cv = RepeatedKFold(n_splits=5, n_repeats=2, random_state=42)\n",
    "param_grid = {\n",
    "    \"selector__k\": [5, 10, 15],\n",
    "    \"model__C\": [0.01, 0.1, 1, 10]\n",
    "}\n",
    "grid_search = GridSearchCV(pipeline, param_grid, cv=cv, scoring=\"roc_auc\", n_jobs=-1)\n",
    "grid_search.fit(X_train, y_train)\n",
    "best_model = grid_search.best_estimator_\n",
    "\n",
    "# Оценка на тесте\n",
    "test_roc = roc_auc_score(y_test, best_model.predict_proba(X_test)[:, 1])\n",
    "print(f\"Test ROC-AUC (GridSearch): {test_roc:.3f}\")"
   ]
  },
  {
   "cell_type": "markdown",
   "metadata": {},
   "source": [
    "---\n",
    "## Реализация домашнего задания"
   ]
  },
  {
   "cell_type": "markdown",
   "metadata": {},
   "source": [
    "\n",
    "### Данные и начальная настройка"
   ]
  },
  {
   "cell_type": "code",
   "execution_count": null,
   "metadata": {
    "id": "1ryKq7btYmvx"
   },
   "outputs": [],
   "source": [
    "df = pd.read_csv(\"secondary_data.csv\", sep=\";\")\n",
    "\n",
    "\n",
    "y = df['class'].map({'p': 1, 'e': 0})\n",
    "X = df.drop(columns=['class'])\n",
    "\n",
    "# train/validation (70/30)\n",
    "X_train, X_test, y_train, y_test = train_test_split(\n",
    "    X, y, test_size=0.3, stratify=y, random_state=42\n",
    ")\n",
    "\n",
    "print(f\"Train shape: {X_train.shape}, Test shape: {X_test.shape}\")\n",
    "print(\"Train target distribution:\")\n",
    "print(y_train.value_counts(normalize=True))\n",
    "print(\"Test target distribution:\")\n",
    "print(y_test.value_counts(normalize=True))\n",
    "\n",
    "df.head()"
   ]
  },
  {
   "cell_type": "markdown",
   "metadata": {},
   "source": [
    "### Подход с разделением на train-validation  "
   ]
  },
  {
   "cell_type": "code",
   "execution_count": null,
   "metadata": {},
   "outputs": [],
   "source": [
    "X_tr, X_val, y_tr, y_val = train_test_split(\n",
    "    X_train, y_train, test_size=0.2, stratify=y_train, random_state=42\n",
    ")\n",
    "\n",
    "print(f\"Train split shape: {X_tr.shape}, Validation split shape: {X_val.shape}\")\n",
    "print(\"Train split target distribution:\")\n",
    "print(y_tr.value_counts(normalize=True))\n",
    "print(\"Validation split target distribution:\")\n",
    "print(y_val.value_counts(normalize=True))"
   ]
  },
  {
   "cell_type": "code",
   "execution_count": null,
   "metadata": {},
   "outputs": [],
   "source": [
    "# train/validation (80/20)\n",
    "X_tr, X_val, y_tr, y_val = train_test_split(\n",
    "    X_train, y_train, test_size=0.2, stratify=y_train, random_state=42\n",
    ")\n",
    "\n",
    "# корреляция Спирмана\n",
    "cat_cols = list(X_tr.select_dtypes('object').columns)\n",
    "num_cols = [col for col in X_tr.columns if col not in cat_cols]\n",
    "\n",
    "encoder = TargetEncoder(cols=cat_cols)\n",
    "X_tr_enc = encoder.fit_transform(X_tr, y_tr)\n",
    "X_val_enc = encoder.transform(X_val)\n",
    "X_test_enc = encoder.transform(X_test)\n",
    "\n",
    "correlations = X_tr_enc.corrwith(y_tr, method='spearman').abs()\n",
    "top_features = correlations.sort_values(ascending=False).head(8).index.tolist()\n",
    "print(\"Selected features:\", top_features)\n",
    "\n",
    "X_tr_sel = X_tr_enc[top_features]\n",
    "X_val_sel = X_val_enc[top_features]\n",
    "X_test_sel = X_test_enc[top_features]"
   ]
  },
  {
   "cell_type": "code",
   "execution_count": null,
   "metadata": {},
   "outputs": [],
   "source": [
    "# Гиперпараметры\n",
    "best_roc = 0\n",
    "for C in [0.01, 0.1, 1, 10, 100]:\n",
    "    model = LogisticRegression(C=C, max_iter=1000)\n",
    "    model.fit(X_tr_sel, y_tr)\n",
    "    val_pred = model.predict_proba(X_val_sel)[:, 1]\n",
    "    roc = roc_auc_score(y_val, val_pred)\n",
    "    print(f\"LogReg C={C}: ROC-AUC={roc:.3f}\")\n",
    "    if roc > best_roc:\n",
    "        best_roc = roc\n",
    "        best_C = C\n",
    "logreg_best = LogisticRegression(C=best_C, max_iter=1000).fit(X_tr_sel, y_tr)\n",
    "\n",
    "best_roc = 0\n",
    "for d in [2, 3, 4, 5, 6, 7, 8]:\n",
    "    model = DecisionTreeClassifier(max_depth=d, random_state=42)\n",
    "    model.fit(X_tr_sel, y_tr)\n",
    "    val_pred = model.predict_proba(X_val_sel)[:, 1]\n",
    "    roc = roc_auc_score(y_val, val_pred)\n",
    "    print(f\"Tree max_depth={d}: ROC-AUC={roc:.3f}\")\n",
    "    if roc > best_roc:\n",
    "        best_roc = roc\n",
    "        best_d = d\n",
    "tree_best = DecisionTreeClassifier(max_depth=best_d, random_state=42).fit(X_tr_sel, y_tr)\n",
    "\n",
    "best_roc = 0\n",
    "for n in [10, 30, 50, 100]:\n",
    "    model = RandomForestClassifier(n_estimators=n, random_state=42)\n",
    "    model.fit(X_tr_sel, y_tr)\n",
    "    val_pred = model.predict_proba(X_val_sel)[:, 1]\n",
    "    roc = roc_auc_score(y_val, val_pred)\n",
    "    print(f\"RF n_estimators={n}: ROC-AUC={roc:.3f}\")\n",
    "    if roc > best_roc:\n",
    "        best_roc = roc\n",
    "        best_n = n\n",
    "rf_best = RandomForestClassifier(n_estimators=best_n, random_state=42).fit(X_tr_sel, y_tr)\n"
   ]
  },
  {
   "cell_type": "code",
   "execution_count": null,
   "metadata": {},
   "outputs": [],
   "source": [
    "# [опционально] Differential Evolution из Scipy для оптимизации \n",
    "def de_objective(params):\n",
    "    C = params[0]\n",
    "    model = LogisticRegression(C=C, max_iter=1000)\n",
    "    model.fit(X_tr_sel, y_tr)\n",
    "    val_pred = model.predict_proba(X_val_sel)[:, 1]\n",
    "    return -roc_auc_score(y_val, val_pred)  # minimize\n",
    "\n",
    "bounds = [(0.001, 100)]\n",
    "result = differential_evolution(de_objective, bounds, disp=False)\n",
    "print(f\"DE best C: {result.x[0]:.4f}, ROC-AUC={-result.fun:.3f}\")"
   ]
  },
  {
   "cell_type": "markdown",
   "metadata": {},
   "source": [
    "### Подход с кросс-валидацией  "
   ]
  },
  {
   "cell_type": "code",
   "execution_count": null,
   "metadata": {},
   "outputs": [],
   "source": [
    "cat_cols = list(X_train.select_dtypes('object').columns)\n",
    "\n",
    "# Pipeline: TargetEncoder -> SelectKBest -> Модель\n",
    "pipeline = Pipeline([\n",
    "    (\"encoder\", TargetEncoder(cols=cat_cols)),\n",
    "    (\"selector\", SelectKBest(score_func=f_classif)),\n",
    "    (\"model\", LogisticRegression(max_iter=1000))\n",
    "])\n",
    "\n",
    "# params для GridSearchCV\n",
    "param_grid = {\n",
    "    \"selector__k\": [5, 8, 12, 16],\n",
    "    \"model__C\": [0.01, 0.1, 1, 10, 100]\n",
    "}\n",
    "\n",
    "cv = RepeatedKFold(n_splits=5, n_repeats=2, random_state=42)\n",
    "grid_search = GridSearchCV(\n",
    "    pipeline, param_grid, cv=cv, scoring=\"roc_auc\", n_jobs=-1, verbose=1\n",
    ")\n",
    "grid_search.fit(X_train, y_train)\n",
    "\n",
    "print(\"Лучшие параметры:\", grid_search.best_params_)\n",
    "print(\"Лучшая ROC-AUC на CV:\", grid_search.best_score_)\n",
    "\n",
    "test_pred = grid_search.best_estimator_.predict_proba(X_test)[:, 1]\n",
    "test_roc = roc_auc_score(y_test, test_pred)\n",
    "test_pr = average_precision_score(y_test, test_pred)\n",
    "print(f\"Test ROC-AUC: {test_roc:.3f}\")\n",
    "print(f\"Test PR-AUC: {test_pr:.3f}\")"
   ]
  },
  {
   "cell_type": "code",
   "execution_count": null,
   "metadata": {},
   "outputs": [],
   "source": [
    "# [опционально]\n",
    "\n",
    "def objective(trial):\n",
    "    k = trial.suggest_int(\"k\", 5, min(16, X_train.shape[1]))\n",
    "    C = trial.suggest_float(\"C\", 0.01, 100, log=True)\n",
    "    pipeline = Pipeline([\n",
    "        (\"encoder\", TargetEncoder(cols=cat_cols)),\n",
    "        (\"selector\", SelectKBest(score_func=f_classif, k=k)),\n",
    "        (\"model\", LogisticRegression(C=C, max_iter=1000))\n",
    "    ])\n",
    "    scores_roc = []\n",
    "    scores_pr = []\n",
    "    for train_idx, val_idx in cv.split(X_train, y_train):\n",
    "        X_tr, X_val = X_train.iloc[train_idx], X_train.iloc[val_idx]\n",
    "        y_tr, y_val = y_train.iloc[train_idx], y_train.iloc[val_idx]\n",
    "        pipeline.fit(X_tr, y_tr)\n",
    "        pred = pipeline.predict_proba(X_val)[:, 1]\n",
    "        scores_roc.append(roc_auc_score(y_val, pred))\n",
    "        scores_pr.append(average_precision_score(y_val, pred))\n",
    "    return np.mean(scores_roc), np.mean(scores_pr)\n",
    "\n",
    "study = optuna.create_study(\n",
    "    directions=[\"maximize\", \"maximize\"],\n",
    "    study_name=\"multi_metric\"\n",
    ")\n",
    "study.optimize(objective, n_trials=30)"
   ]
  },
  {
   "cell_type": "code",
   "execution_count": null,
   "metadata": {},
   "outputs": [],
   "source": [
    "print(\"Optuna best ROC-AUC:\", study.best_trials[0].values[0])\n",
    "print(\"Optuna best PR-AUC:\", study.best_trials[0].values[1])\n",
    "print(\"Optuna best params:\", study.best_trials[0].params)"
   ]
  },
  {
   "cell_type": "code",
   "execution_count": null,
   "metadata": {},
   "outputs": [],
   "source": [
    "# [опционально]\n",
    "from optuna.visualization import plot_pareto_front\n",
    "plot_pareto_front(study)"
   ]
  },
  {
   "cell_type": "markdown",
   "metadata": {},
   "source": [
    "### Финальная оценка моделей"
   ]
  },
  {
   "cell_type": "code",
   "execution_count": null,
   "metadata": {},
   "outputs": [],
   "source": [
    "logreg_test_pred = logreg_best.predict_proba(X_test_sel)[:, 1]\n",
    "tree_test_pred = tree_best.predict_proba(X_test_sel)[:, 1]\n",
    "rf_test_pred = rf_best.predict_proba(X_test_sel)[:, 1]\n",
    "grid_test_pred = grid_search.best_estimator_.predict_proba(X_test)[:, 1]\n",
    "de_logreg = LogisticRegression(C=result.x[0], max_iter=1000).fit(X_tr_sel, y_tr)\n",
    "de_test_pred = de_logreg.predict_proba(X_test_sel)[:, 1]\n",
    "\n",
    "best_trial = study.best_trials[0]\n",
    "k_optuna = best_trial.params['k']\n",
    "C_optuna = best_trial.params['C']\n",
    "\n",
    "optuna_pipeline = Pipeline([\n",
    "    (\"encoder\", TargetEncoder(cols=cat_cols)),\n",
    "    (\"selector\", SelectKBest(score_func=f_classif, k=k_optuna)),\n",
    "    (\"model\", LogisticRegression(C=C_optuna, max_iter=1000))\n",
    "])\n",
    "optuna_pipeline.fit(X_train, y_train)\n",
    "optuna_test_pred = optuna_pipeline.predict_proba(X_test)[:, 1]"
   ]
  },
  {
   "cell_type": "code",
   "execution_count": null,
   "metadata": {},
   "outputs": [],
   "source": [
    "results_table = pd.DataFrame(\n",
    "[\n",
    "    {\n",
    "        \"Модель\": \"Логистическая регрессия (train/val)\",\n",
    "        \"ROC-AUC\": roc_auc_score(y_test, logreg_test_pred),\n",
    "        \"PR-AUC\": average_precision_score(y_test, logreg_test_pred),\n",
    "        \"F1-score\": f1_score(y_test, logreg_best.predict(X_test_sel))\n",
    "    },\n",
    "    {\n",
    "        \"Модель\": \"Дерево решений (train/val)\",\n",
    "        \"ROC-AUC\": roc_auc_score(y_test, tree_test_pred),\n",
    "        \"PR-AUC\": average_precision_score(y_test, tree_test_pred),\n",
    "        \"F1-score\": f1_score(y_test, tree_best.predict(X_test_sel))\n",
    "    },\n",
    "    {\n",
    "        \"Модель\": \"Случайный лес (train/val)\",\n",
    "        \"ROC-AUC\": roc_auc_score(y_test, rf_test_pred),\n",
    "        \"PR-AUC\": average_precision_score(y_test, rf_test_pred),\n",
    "        \"F1-score\": f1_score(y_test, rf_best.predict(X_test_sel))\n",
    "    },\n",
    "    {\n",
    "        \"Модель\": \"GridSearchCV (кросс-валидация)\",\n",
    "        \"ROC-AUC\": roc_auc_score(y_test, grid_test_pred),\n",
    "        \"PR-AUC\": average_precision_score(y_test, grid_test_pred),\n",
    "        \"F1-score\": f1_score(y_test, grid_search.best_estimator_.predict(X_test))\n",
    "    },\n",
    "    {\n",
    "        \"Модель\": \"Дифференциальная эволюция\",\n",
    "        \"ROC-AUC\": roc_auc_score(y_test, de_test_pred),\n",
    "        \"PR-AUC\": average_precision_score(y_test, de_test_pred),\n",
    "        \"F1-score\": f1_score(y_test, de_logreg.predict(X_test_sel))\n",
    "    },\n",
    "    {\n",
    "        \"Модель\": \"Optuna (оптимизация)\",\n",
    "        \"ROC-AUC\": roc_auc_score(y_test, optuna_test_pred),\n",
    "        \"PR-AUC\": average_precision_score(y_test, optuna_test_pred),\n",
    "        \"F1-score\": f1_score(y_test, optuna_pipeline.predict(X_test))\n",
    "    }\n",
    "])\n",
    "\n",
    "results_table = results_table.sort_values(\"ROC-AUC\", ascending=False).reset_index(drop=True)\n",
    "\n",
    "display(results_table.round(6))\n",
    "\n",
    "best_row = results_table.iloc[0]\n",
    "print(f\"\\nЛучшая модель: {best_row['Модель']} (ROC-AUC={best_row['ROC-AUC']:.6f})\")\n",
    "\n"
   ]
  }
 ],
 "metadata": {
  "colab": {
   "provenance": []
  },
  "kernelspec": {
   "display_name": "base",
   "language": "python",
   "name": "python3"
  },
  "language_info": {
   "codemirror_mode": {
    "name": "ipython",
    "version": 3
   },
   "file_extension": ".py",
   "mimetype": "text/x-python",
   "name": "python",
   "nbconvert_exporter": "python",
   "pygments_lexer": "ipython3",
   "version": "3.12.7"
  }
 },
 "nbformat": 4,
 "nbformat_minor": 0
}
