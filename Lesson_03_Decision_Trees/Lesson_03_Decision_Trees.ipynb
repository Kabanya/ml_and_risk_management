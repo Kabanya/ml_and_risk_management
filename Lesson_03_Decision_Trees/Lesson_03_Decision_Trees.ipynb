{
  "cells": [
    {
      "cell_type": "markdown",
      "id": "6DzvOcCuhkpG",
      "metadata": {
        "id": "6DzvOcCuhkpG"
      },
      "source": [
        "# Принципы работы Decision Trees"
      ]
    },
    {
      "cell_type": "code",
      "execution_count": null,
      "id": "c062a3f6-2a30-4867-aa09-422e01d4ee14",
      "metadata": {
        "id": "c062a3f6-2a30-4867-aa09-422e01d4ee14"
      },
      "outputs": [],
      "source": [
        "import pandas as pd\n",
        "import numpy as np\n",
        "\n",
        "import matplotlib.pyplot as plt\n",
        "\n",
        "from tqdm.notebook import tqdm\n",
        "from sklearn.model_selection import train_test_split"
      ]
    },
    {
      "cell_type": "code",
      "execution_count": null,
      "id": "Ua8Ruq3SLzsx",
      "metadata": {
        "id": "Ua8Ruq3SLzsx"
      },
      "outputs": [],
      "source": [
        "import seaborn as sns\n",
        "sns.set_theme(context='talk', style='whitegrid')"
      ]
    },
    {
      "cell_type": "markdown",
      "id": "EeU-kEoVI8ck",
      "metadata": {
        "id": "EeU-kEoVI8ck"
      },
      "source": [
        "Создадим игрушечные данные"
      ]
    },
    {
      "cell_type": "code",
      "execution_count": null,
      "id": "05bc6ca9-7c0e-4bd3-abda-1518c81764b0",
      "metadata": {
        "id": "05bc6ca9-7c0e-4bd3-abda-1518c81764b0"
      },
      "outputs": [],
      "source": [
        "x = np.arange(0, 10, 0.1).reshape(-1, 1)\n",
        "y = np.sin(x)"
      ]
    },
    {
      "cell_type": "code",
      "execution_count": null,
      "id": "e83bfb84-8caf-46da-82e2-e2b59e19ab32",
      "metadata": {
        "id": "e83bfb84-8caf-46da-82e2-e2b59e19ab32"
      },
      "outputs": [],
      "source": [
        "train_x, test_x = train_test_split(x, test_size=0.3, random_state=42)\n",
        "train_y, test_y = train_test_split(y, test_size=0.3, random_state=42)"
      ]
    },
    {
      "cell_type": "code",
      "execution_count": null,
      "id": "2c90e8dd-dd12-444e-b186-134bfec547b8",
      "metadata": {
        "colab": {
          "base_uri": "https://localhost:8080/",
          "height": 446
        },
        "id": "2c90e8dd-dd12-444e-b186-134bfec547b8",
        "outputId": "dc6550c2-5a8d-4426-b4c9-3d6753e90b7a"
      },
      "outputs": [],
      "source": [
        "plt.scatter(train_x, train_y, color='b', s=10, alpha=0.5, label='fact')\n",
        "plt.legend()\n",
        "plt.show()"
      ]
    },
    {
      "cell_type": "markdown",
      "id": "cDrVW55PJAHu",
      "metadata": {
        "id": "cDrVW55PJAHu"
      },
      "source": [
        "Попробуем обучить модель линейной легрессии"
      ]
    },
    {
      "cell_type": "code",
      "execution_count": null,
      "id": "dc2627f1-ccf1-4918-abf4-9d1fed4a1f93",
      "metadata": {
        "id": "dc2627f1-ccf1-4918-abf4-9d1fed4a1f93"
      },
      "outputs": [],
      "source": [
        "from sklearn.linear_model import LinearRegression"
      ]
    },
    {
      "cell_type": "code",
      "execution_count": null,
      "id": "0a9ac111-23de-4adf-a41d-5aab37b49399",
      "metadata": {
        "colab": {
          "base_uri": "https://localhost:8080/",
          "height": 80
        },
        "id": "0a9ac111-23de-4adf-a41d-5aab37b49399",
        "outputId": "20b663c2-ce66-4822-b3e4-8d4c0de6330d"
      },
      "outputs": [],
      "source": [
        "lr = LinearRegression()\n",
        "lr.fit(train_x, train_y)"
      ]
    },
    {
      "cell_type": "code",
      "execution_count": null,
      "id": "01f5187f-d38e-4d6b-bce6-beb8adfc7239",
      "metadata": {
        "id": "01f5187f-d38e-4d6b-bce6-beb8adfc7239"
      },
      "outputs": [],
      "source": [
        "train_predicts = lr.predict(train_x)\n",
        "test_predicts = lr.predict(test_x)"
      ]
    },
    {
      "cell_type": "code",
      "execution_count": null,
      "id": "835f7751-4b98-4ae1-ade5-f1cc76b32a45",
      "metadata": {
        "colab": {
          "base_uri": "https://localhost:8080/",
          "height": 446
        },
        "id": "835f7751-4b98-4ae1-ade5-f1cc76b32a45",
        "outputId": "24e2eac9-7acf-44d1-fe6f-ff68742f5383"
      },
      "outputs": [],
      "source": [
        "plt.plot(train_x, train_predicts, color='r', label='lr predict')\n",
        "\n",
        "plt.scatter(train_x, train_y, color='b', s=10, alpha=0.5, label='fact')\n",
        "plt.legend()\n",
        "\n",
        "plt.show()"
      ]
    },
    {
      "cell_type": "markdown",
      "id": "3Owx6WmkJEav",
      "metadata": {
        "id": "3Owx6WmkJEav"
      },
      "source": [
        "Ожидаемо получили недообученную модель"
      ]
    },
    {
      "cell_type": "code",
      "execution_count": null,
      "id": "3befcab8-9b69-46be-9f80-56f7a57b634e",
      "metadata": {
        "id": "3befcab8-9b69-46be-9f80-56f7a57b634e"
      },
      "outputs": [],
      "source": [
        "from sklearn.tree import DecisionTreeRegressor"
      ]
    },
    {
      "cell_type": "code",
      "execution_count": null,
      "id": "56db4005-a49c-4691-b2bb-582ae2633279",
      "metadata": {
        "id": "56db4005-a49c-4691-b2bb-582ae2633279"
      },
      "outputs": [],
      "source": [
        "def run_dt(params):\n",
        "    dt = DecisionTreeRegressor(**params)\n",
        "    dt.fit(train_x, train_y)\n",
        "\n",
        "    train_predicts = dt.predict(train_x)\n",
        "    test_predicts = dt.predict(test_x)\n",
        "\n",
        "    sorted_train_x, train_predicts = zip(*sorted(zip(train_x, train_predicts)))\n",
        "    sorted_test_x, test_predicts = zip(*sorted(zip(test_x, test_predicts)))\n",
        "\n",
        "    # plt.figure(figsize=(16, 9))\n",
        "\n",
        "    plt.plot(sorted_train_x, train_predicts, color='r', label='dt predict')\n",
        "    # plt.plot(sorted_test_x, test_predicts, color='r')\n",
        "\n",
        "    plt.scatter(train_x, train_y, color='b', s=10, alpha=0.5, label='fact')\n",
        "    # plt.scatter(test_x, test_y, color='r', s=10, alpha=0.5)\n",
        "    plt.legend()\n",
        "    plt.show()\n",
        "    return dt"
      ]
    },
    {
      "cell_type": "code",
      "execution_count": null,
      "id": "66a2732b-a74e-4c12-87c0-72e7765aa1c0",
      "metadata": {
        "id": "66a2732b-a74e-4c12-87c0-72e7765aa1c0"
      },
      "outputs": [],
      "source": [
        "from sklearn.tree import plot_tree"
      ]
    },
    {
      "cell_type": "code",
      "execution_count": null,
      "id": "dHYYNQA88hJM",
      "metadata": {
        "colab": {
          "base_uri": "https://localhost:8080/",
          "height": 446
        },
        "id": "dHYYNQA88hJM",
        "outputId": "bf7209f7-644f-4e8f-d14b-8a571086a570"
      },
      "outputs": [],
      "source": [
        "dt = run_dt({'max_depth': 6})"
      ]
    },
    {
      "cell_type": "code",
      "execution_count": null,
      "id": "1faaccd8-ae64-4aba-8073-96b77dd8e2b2",
      "metadata": {
        "colab": {
          "base_uri": "https://localhost:8080/",
          "height": 653
        },
        "id": "1faaccd8-ae64-4aba-8073-96b77dd8e2b2",
        "outputId": "11912f5b-3054-42a4-baf5-c6b55aa21570"
      },
      "outputs": [],
      "source": [
        "plt.figure(figsize=(16, 9))\n",
        "plot_tree(dt)\n",
        "plt.savefig('tree.png', dpi=600)\n",
        "plt.show()"
      ]
    },
    {
      "cell_type": "code",
      "execution_count": null,
      "id": "5eb4f06c-e54e-4a19-80f2-b16648f1d1c7",
      "metadata": {
        "colab": {
          "base_uri": "https://localhost:8080/"
        },
        "id": "5eb4f06c-e54e-4a19-80f2-b16648f1d1c7",
        "outputId": "915db05e-1354-43c5-9f18-5d6db79a730f"
      },
      "outputs": [],
      "source": [
        "train_y[train_x <= 0.3].shape, train_y[train_x <= 0.3].mean()"
      ]
    },
    {
      "cell_type": "code",
      "execution_count": null,
      "id": "83a6174c-d4a7-4c39-8da7-b1e70d61dcfd",
      "metadata": {
        "id": "83a6174c-d4a7-4c39-8da7-b1e70d61dcfd"
      },
      "outputs": [],
      "source": [
        "oot_x = np.arange(10, 15, 0.1).reshape(-1, 1)"
      ]
    },
    {
      "cell_type": "code",
      "execution_count": null,
      "id": "d3c0b975-2c52-4807-b508-0848472d2dab",
      "metadata": {
        "id": "d3c0b975-2c52-4807-b508-0848472d2dab"
      },
      "outputs": [],
      "source": [
        "oot_predicts = dt.predict(oot_x)"
      ]
    },
    {
      "cell_type": "code",
      "execution_count": null,
      "id": "f3009d29-2fbc-48f6-ae16-67dd24ba2b60",
      "metadata": {
        "colab": {
          "base_uri": "https://localhost:8080/",
          "height": 446
        },
        "id": "f3009d29-2fbc-48f6-ae16-67dd24ba2b60",
        "outputId": "c4cde1c5-6b72-4ea7-b014-dd1972da4b55"
      },
      "outputs": [],
      "source": [
        "plt.scatter(oot_x, np.sin(oot_x), color='b', s=10)\n",
        "\n",
        "\n",
        "plt.plot(oot_x, oot_predicts, color='r', label='dt')\n",
        "plt.plot(oot_x, lr.predict(oot_x), color='g', label='lr')\n",
        "plt.legend()\n",
        "plt.show()"
      ]
    },
    {
      "cell_type": "markdown",
      "id": "UKzrOfAqhMvN",
      "metadata": {
        "id": "UKzrOfAqhMvN"
      },
      "source": [
        "## Применим к задаче"
      ]
    },
    {
      "cell_type": "code",
      "execution_count": null,
      "id": "VKlmaNYTk1JQ",
      "metadata": {
        "colab": {
          "base_uri": "https://localhost:8080/"
        },
        "id": "VKlmaNYTk1JQ",
        "outputId": "25dddfe6-c095-4598-995a-518256ec254b"
      },
      "outputs": [],
      "source": [
        "# Качаем данные\n",
        "# !gdown 1nCHCT5XWio5fSN0mYNwRbEzTGL_sIcN4"
      ]
    },
    {
      "cell_type": "code",
      "execution_count": null,
      "id": "fcd80844-db43-4a8d-b398-9c4624c70a1a",
      "metadata": {
        "id": "fcd80844-db43-4a8d-b398-9c4624c70a1a"
      },
      "outputs": [],
      "source": [
        "#Считываем скачанный csv файл\n",
        "df = pd.read_csv('loan_data.csv')"
      ]
    },
    {
      "cell_type": "code",
      "execution_count": null,
      "id": "ae5ebbd8-acc8-46ba-a01d-52869f22eab4",
      "metadata": {
        "colab": {
          "base_uri": "https://localhost:8080/",
          "height": 383
        },
        "id": "ae5ebbd8-acc8-46ba-a01d-52869f22eab4",
        "outputId": "f46c47e4-af91-43fe-ff4c-b3612a3be9ad"
      },
      "outputs": [],
      "source": [
        "df.head(10)"
      ]
    },
    {
      "cell_type": "code",
      "execution_count": null,
      "id": "0d660f2c-9f71-41bb-b32d-11f07ef9f4bd",
      "metadata": {
        "colab": {
          "base_uri": "https://localhost:8080/"
        },
        "id": "0d660f2c-9f71-41bb-b32d-11f07ef9f4bd",
        "outputId": "ad9a6f38-8059-458e-9a55-203129987ee2"
      },
      "outputs": [],
      "source": [
        "df.info()"
      ]
    },
    {
      "cell_type": "code",
      "execution_count": null,
      "id": "0024f28f-1b20-4f03-b703-825beb819eb8",
      "metadata": {
        "colab": {
          "base_uri": "https://localhost:8080/",
          "height": 523
        },
        "id": "0024f28f-1b20-4f03-b703-825beb819eb8",
        "outputId": "c8b0993b-d494-451d-b4d7-85a7e1931aae"
      },
      "outputs": [],
      "source": [
        "df.isna().sum()"
      ]
    },
    {
      "cell_type": "code",
      "execution_count": null,
      "id": "d59e0f27-248d-46ce-877b-d48050567b56",
      "metadata": {
        "colab": {
          "base_uri": "https://localhost:8080/",
          "height": 320
        },
        "id": "d59e0f27-248d-46ce-877b-d48050567b56",
        "outputId": "2445a63b-2960-428b-fe9d-53e1cdcbe74d"
      },
      "outputs": [],
      "source": [
        "df.describe()"
      ]
    },
    {
      "cell_type": "markdown",
      "id": "HK1U6M-poWeZ",
      "metadata": {
        "id": "HK1U6M-poWeZ"
      },
      "source": [
        "Заменим категориальные переменные"
      ]
    },
    {
      "cell_type": "code",
      "execution_count": null,
      "id": "HWLpBWNvoWTI",
      "metadata": {
        "id": "HWLpBWNvoWTI"
      },
      "outputs": [],
      "source": [
        "for col in df.select_dtypes(include='object').columns:\n",
        "  df[col] = df[col].astype('category').cat.codes"
      ]
    },
    {
      "cell_type": "code",
      "execution_count": null,
      "id": "iLMWOi8iofXO",
      "metadata": {
        "colab": {
          "base_uri": "https://localhost:8080/",
          "height": 523
        },
        "id": "iLMWOi8iofXO",
        "outputId": "e250fdd6-bd1e-42b0-bd82-e6d6835ca387"
      },
      "outputs": [],
      "source": [
        "df.dtypes"
      ]
    },
    {
      "cell_type": "code",
      "execution_count": null,
      "id": "NFeqJVpTojti",
      "metadata": {
        "id": "NFeqJVpTojti"
      },
      "outputs": [],
      "source": [
        "target_col = 'loan_status'"
      ]
    },
    {
      "cell_type": "code",
      "execution_count": null,
      "id": "508f9b79-af42-4bd7-984d-0a3893a33c30",
      "metadata": {
        "id": "508f9b79-af42-4bd7-984d-0a3893a33c30"
      },
      "outputs": [],
      "source": [
        "train, test = train_test_split(df, test_size = 0.3, random_state=42)"
      ]
    },
    {
      "cell_type": "code",
      "execution_count": null,
      "id": "041efbcd-1e09-4496-875f-bd3b47b8432b",
      "metadata": {
        "colab": {
          "base_uri": "https://localhost:8080/",
          "height": 443
        },
        "id": "041efbcd-1e09-4496-875f-bd3b47b8432b",
        "outputId": "b9d4db5d-ab90-40e3-d91c-6986561477d8"
      },
      "outputs": [],
      "source": [
        "display(train)"
      ]
    },
    {
      "cell_type": "code",
      "execution_count": null,
      "id": "b54c7a03-febf-4dda-836c-d417de48ea5c",
      "metadata": {
        "id": "b54c7a03-febf-4dda-836c-d417de48ea5c"
      },
      "outputs": [],
      "source": [
        "def entropy(p):\n",
        "    try:\n",
        "        return -p * np.log2(p) - (1-p) * np.log2(1-p)\n",
        "    except:\n",
        "        return 1"
      ]
    },
    {
      "cell_type": "code",
      "execution_count": null,
      "id": "f3c69dcf-459b-4fbe-a42f-cdedd8abc9ad",
      "metadata": {
        "id": "f3c69dcf-459b-4fbe-a42f-cdedd8abc9ad"
      },
      "outputs": [],
      "source": [
        "def gini_impurity(p):\n",
        "    return 1 - (p**2 + (1-p)**2)"
      ]
    },
    {
      "cell_type": "code",
      "execution_count": null,
      "id": "ab0fe9e0-1ea4-4010-8ca7-b580ce6c3ad6",
      "metadata": {
        "id": "ab0fe9e0-1ea4-4010-8ca7-b580ce6c3ad6"
      },
      "outputs": [],
      "source": [
        "def best_continious_split(values, targets, criterion, plot=False):\n",
        "    sorted_pairs = sorted(list(zip(values, targets)), key = lambda x: x[0])\n",
        "\n",
        "    n = len(sorted_pairs)\n",
        "    p = sum(targets) / n\n",
        "    node_criterion = criterion(p)\n",
        "\n",
        "    best_criterion = node_criterion\n",
        "    best_split = None\n",
        "\n",
        "    split_vals = []\n",
        "    criterion_vals = []\n",
        "\n",
        "    ones = 0\n",
        "    total_ones = sum(targets)\n",
        "\n",
        "    for i in tqdm(range(1, len(sorted_pairs))):\n",
        "        split_val = (sorted_pairs[i-1][0] + sorted_pairs[i][0]) / 2\n",
        "        ones += sorted_pairs[i-1][1]\n",
        "\n",
        "        p_left = ones / i\n",
        "        p_right = (total_ones - ones) / (n-i)\n",
        "\n",
        "        split_criterion = i / n * criterion(p_left) + (n-i) / n * criterion(p_right)\n",
        "\n",
        "        split_vals.append(split_val)\n",
        "        criterion_vals.append(split_criterion)\n",
        "\n",
        "        if split_criterion < best_criterion:\n",
        "            best_criterion = split_criterion\n",
        "            best_split = split_val\n",
        "\n",
        "    if plot:\n",
        "        plt.plot(split_vals, criterion_vals)\n",
        "\n",
        "    return (best_split, best_criterion)"
      ]
    },
    {
      "cell_type": "code",
      "execution_count": null,
      "id": "91ae3d7a-a87b-41c6-92f1-acc16f899bcd",
      "metadata": {
        "id": "91ae3d7a-a87b-41c6-92f1-acc16f899bcd"
      },
      "outputs": [],
      "source": [
        "def find_best_split(df, feature_col, target_col):\n",
        "    print('Entropy:')\n",
        "    display(best_continious_split(df[feature_col], df[target_col], entropy, plot=True))\n",
        "    plt.show()\n",
        "    print('Gini Impurity:')\n",
        "    display(best_continious_split(df[feature_col], df[target_col], gini_impurity, plot=True))\n",
        "    plt.show()"
      ]
    },
    {
      "cell_type": "code",
      "execution_count": null,
      "id": "0bb25b10-16a8-4d0b-9db3-5ed83d01cf4e",
      "metadata": {
        "colab": {
          "base_uri": "https://localhost:8080/",
          "height": 1000,
          "referenced_widgets": [
            "ef2ec49f25ac49a19347dc62881fd126",
            "248062adb1934c58bb795a893225573a",
            "fceb3e61640e48ccbce154b6e38b06fc",
            "aacb71a61d494b67a4bb418b82547771",
            "7797d0f53a1142faa3e874ff3522c93e",
            "904ee0a1a95c452ba9dc6b6f5a48a53b",
            "2abd13815b064ebb87bae376343ff80e",
            "767019ba03d04d40939a91ee96f9d1f3",
            "78537233a28b446ab48077e7a9a146c6",
            "7e699fc50c744929b31ee8b5af0685ff",
            "46f794f8006144c7b75a5c7f94d6e7e3",
            "9b5c0b76ccf04df395044c134067fe7a",
            "dcbd4921fa3b45cea30f5791e931eefc",
            "8841a7aff18d429898bf428b73fa9937",
            "9550cf00e7914fb4a7233b61bf2125b9",
            "3e3b0b7ca50c4f5e92531d727baafd92",
            "1d15359476244fe6af68131bb5111854",
            "29fa6acf0bab4374b26e3e14fd360b76",
            "3e5c46593bc24d6d897711b06dd4a7c7",
            "992ff61e617e4da389c05e9ef1b2283f",
            "c4202db11b074ecfad405c3441a6208e",
            "c4cd76756d2f4550aedfb0c01f0ea6a5"
          ]
        },
        "id": "0bb25b10-16a8-4d0b-9db3-5ed83d01cf4e",
        "outputId": "24687d92-3302-41a8-8fd4-1507b0c70053"
      },
      "outputs": [],
      "source": [
        "find_best_split(train, 'person_income', target_col)"
      ]
    },
    {
      "cell_type": "code",
      "execution_count": null,
      "id": "wHjQbkfwmQJc",
      "metadata": {
        "colab": {
          "base_uri": "https://localhost:8080/",
          "height": 1000,
          "referenced_widgets": [
            "bc5f17c4efbb4e0bbf4e8ce44b416d85",
            "8f138e8bc22b40548eb198b9de29c490",
            "8b10d3a51a39451aba2d59904e67f0cb",
            "af256a47431545ec8bfd1de5cc79bf63",
            "04f28c9400fd4802bd196626a68b3485",
            "f2796f45caac4e97b2909142d3be698c",
            "33cc7250e4fa4c42b1341a919066631c",
            "0cd8b49130ad42ae8739fab46d2bc905",
            "d7b1571b962e4169a664d0ef6a2e2dcc",
            "5fc8e46c248d4eb6b4c68d4ffbe84657",
            "e65f7d9651914345803f3fb04af9c060",
            "63e98e3270674169891b462447251d01",
            "d8f6b002fce74d4ab320bddea5822835",
            "7e5d49859495461b8abb8111eae1995c",
            "35be63ca70b1456fa6307870b1c97bbe",
            "7d197e2360b243a6b08ad5c3e05aa485",
            "197fd42a27824ae58e04a1a654514a92",
            "38a63dc34e834d9a926d6ce31012958d",
            "79f74346195a4f7c851aab6fa0576dee",
            "c68ca835ed014367b62fa7b589365fdc",
            "f2265f08074b4805828e11523c791a09",
            "a5665e73e4484b708336ddc5542035c9"
          ]
        },
        "id": "wHjQbkfwmQJc",
        "outputId": "24819aa3-6ad5-4c21-9473-9cf98a01b44d"
      },
      "outputs": [],
      "source": [
        "find_best_split(train[(train['person_income'] < 72652.0) & (train['person_income'] >= 42609.5)], 'person_income', target_col)"
      ]
    },
    {
      "cell_type": "code",
      "execution_count": null,
      "id": "abf370ff-4696-47f3-9d09-a7996ef17dbe",
      "metadata": {
        "id": "abf370ff-4696-47f3-9d09-a7996ef17dbe"
      },
      "outputs": [],
      "source": [
        "x_cols = train.drop(target_col, axis=1).columns\n",
        "y_col = target_col"
      ]
    },
    {
      "cell_type": "code",
      "execution_count": null,
      "id": "bdd04466-14a4-48fc-a5f5-417c164d9b38",
      "metadata": {
        "id": "bdd04466-14a4-48fc-a5f5-417c164d9b38"
      },
      "outputs": [],
      "source": [
        "X_train = train[x_cols]\n",
        "y_train = train[y_col]\n",
        "\n",
        "X_test = test[x_cols]\n",
        "y_test = test[y_col]"
      ]
    },
    {
      "cell_type": "code",
      "execution_count": null,
      "id": "ceacdda1-2ab7-4f6b-975f-09ec1a6dc561",
      "metadata": {
        "id": "ceacdda1-2ab7-4f6b-975f-09ec1a6dc561"
      },
      "outputs": [],
      "source": [
        "from sklearn.tree import DecisionTreeClassifier"
      ]
    },
    {
      "cell_type": "code",
      "execution_count": null,
      "id": "4a779d58-37f7-429a-80d6-da5b99c3b1e7",
      "metadata": {
        "colab": {
          "base_uri": "https://localhost:8080/",
          "height": 80
        },
        "id": "4a779d58-37f7-429a-80d6-da5b99c3b1e7",
        "outputId": "db29981e-ae32-4117-b0b3-cf68626e381b"
      },
      "outputs": [],
      "source": [
        "dt = DecisionTreeClassifier()\n",
        "dt.fit(X_train, y_train)"
      ]
    },
    {
      "cell_type": "code",
      "execution_count": null,
      "id": "78dea39e-d1ad-4843-a861-98491d3c3650",
      "metadata": {
        "id": "78dea39e-d1ad-4843-a861-98491d3c3650"
      },
      "outputs": [],
      "source": [
        "from sklearn.metrics import roc_auc_score, \\\n",
        "                            confusion_matrix,\\\n",
        "                            ConfusionMatrixDisplay, \\\n",
        "                            accuracy_score, \\\n",
        "                            precision_score, \\\n",
        "                            recall_score, \\\n",
        "                            f1_score"
      ]
    },
    {
      "cell_type": "code",
      "execution_count": null,
      "id": "bdd0c5bc-c94f-4e15-98de-308fda64e5b6",
      "metadata": {
        "id": "bdd0c5bc-c94f-4e15-98de-308fda64e5b6"
      },
      "outputs": [],
      "source": [
        "train_preds = dt.predict(X_train)\n",
        "test_preds = dt.predict(X_test)"
      ]
    },
    {
      "cell_type": "code",
      "execution_count": null,
      "id": "0067e926-464b-46af-a14d-ecbfc06694b3",
      "metadata": {
        "id": "0067e926-464b-46af-a14d-ecbfc06694b3"
      },
      "outputs": [],
      "source": [
        "train_probas = dt.predict_proba(X_train)[:, 1]\n",
        "test_probas = dt.predict_proba(X_test)[:, 1]"
      ]
    },
    {
      "cell_type": "code",
      "execution_count": null,
      "id": "97525030-8bc0-45e7-9d09-f203913c5fc9",
      "metadata": {
        "id": "97525030-8bc0-45e7-9d09-f203913c5fc9"
      },
      "outputs": [],
      "source": [
        "def show_metrics(true, preds, probas=None):\n",
        "\n",
        "    print(f\"Accuracy: {accuracy_score(true, preds):.2}\")\n",
        "    print(f\"Precision: {precision_score(true, preds):.2}\")\n",
        "    print(f\"Recall: {recall_score(true, preds):.2}\")\n",
        "    print(f\"F1 score: {f1_score(true, preds):.2}\")\n",
        "    print(f\"ROC AUC score (predict): {roc_auc_score(true, preds):.2}\")\n",
        "\n",
        "    if probas is not None:\n",
        "        print(f\"ROC AUC score (predict_proba): {roc_auc_score(true, probas):.2}\")\n",
        "\n",
        "    ConfusionMatrixDisplay.from_predictions(true, preds)"
      ]
    },
    {
      "cell_type": "code",
      "execution_count": null,
      "id": "1d184fe6-4633-46e2-8f6a-98539d2c7da5",
      "metadata": {
        "colab": {
          "base_uri": "https://localhost:8080/",
          "height": 583
        },
        "id": "1d184fe6-4633-46e2-8f6a-98539d2c7da5",
        "outputId": "699349f1-1902-4e61-bd4d-aad1346c9dce"
      },
      "outputs": [],
      "source": [
        "show_metrics(y_train, train_preds, train_probas)"
      ]
    },
    {
      "cell_type": "code",
      "execution_count": null,
      "id": "6af3f2e9-eebd-4bf8-865b-f13793baa11a",
      "metadata": {
        "colab": {
          "base_uri": "https://localhost:8080/",
          "height": 583
        },
        "id": "6af3f2e9-eebd-4bf8-865b-f13793baa11a",
        "outputId": "c2a7f781-ae25-4c1f-f9b1-e8848e3c9353"
      },
      "outputs": [],
      "source": [
        "show_metrics(y_test, test_preds, test_probas)"
      ]
    },
    {
      "cell_type": "code",
      "execution_count": null,
      "id": "73ded626-26c8-4313-a34a-6bcee9c693aa",
      "metadata": {
        "colab": {
          "base_uri": "https://localhost:8080/"
        },
        "id": "73ded626-26c8-4313-a34a-6bcee9c693aa",
        "outputId": "30d8afd7-b553-45b2-b2dc-e3d5fa3223f5"
      },
      "outputs": [],
      "source": [
        "print('Количество листьев:', dt.get_n_leaves())\n",
        "print('Глубина:', dt.get_depth())"
      ]
    },
    {
      "cell_type": "code",
      "execution_count": null,
      "id": "088d6ef1-4797-45b2-ad35-6f3e3cffdda8",
      "metadata": {
        "colab": {
          "base_uri": "https://localhost:8080/"
        },
        "id": "088d6ef1-4797-45b2-ad35-6f3e3cffdda8",
        "outputId": "44eba1ca-dd8f-42e7-87db-a8fabf1d7790"
      },
      "outputs": [],
      "source": [
        "print('Уникальные ответы:')\n",
        "print(set(dt.predict_proba(X_test)[:, 1]))"
      ]
    },
    {
      "cell_type": "code",
      "execution_count": null,
      "id": "d891225d-e949-443b-8908-07c5b9f04885",
      "metadata": {
        "id": "d891225d-e949-443b-8908-07c5b9f04885"
      },
      "outputs": [],
      "source": [
        "from tqdm.notebook import tqdm"
      ]
    },
    {
      "cell_type": "markdown",
      "id": "dkIS4MdhfwYg",
      "metadata": {
        "id": "dkIS4MdhfwYg"
      },
      "source": [
        "Переберём параметр - количество листьев и посмотрим на изменение метрик качества"
      ]
    },
    {
      "cell_type": "code",
      "execution_count": null,
      "id": "ca404513-8d16-48f2-a8ca-9ea4b49676ac",
      "metadata": {
        "colab": {
          "base_uri": "https://localhost:8080/",
          "height": 536,
          "referenced_widgets": [
            "df278393f4644461823e4c43a17a6bd8",
            "a0a195ca0ac240b587d9b67c99480120",
            "f6742d27f5e7476fa17412855527d01e",
            "1014c3808ac14831beae4d6e717d1096",
            "da379f39d28b429a8c89e1e18d60e339",
            "567e0e21f3794d159910fa3a5df6ef35",
            "3bcd10b3c56a47a784b147647f3b11b1",
            "90a83fa98dc64b63acb64802b5a8517b",
            "a70af0d9cc7d4d83bb2066f4f41b914c",
            "603cf891692f44989f4cf33aee75b4b0",
            "a0abb007a0f44c6a985bc83d1f64bdb8"
          ]
        },
        "id": "ca404513-8d16-48f2-a8ca-9ea4b49676ac",
        "outputId": "9a2cdbc6-f68b-4b58-b977-fb3bd9acccc8"
      },
      "outputs": [],
      "source": [
        "n_leaves = []\n",
        "train_roc_auc_scores = []\n",
        "test_roc_auc_scores = []\n",
        "\n",
        "for n in tqdm(range(2, 200, 2)):\n",
        "    dt = DecisionTreeClassifier(max_leaf_nodes=n)\n",
        "    dt.fit(X_train, y_train)\n",
        "\n",
        "    n_leaves.append(n)\n",
        "    train_roc_auc_scores.append(roc_auc_score(y_train, dt.predict_proba(X_train)[:, 1]))\n",
        "    test_roc_auc_scores.append(roc_auc_score(y_test, dt.predict_proba(X_test)[:, 1]))\n",
        "\n",
        "plt.plot(n_leaves, train_roc_auc_scores, label='Train')\n",
        "plt.plot(n_leaves, test_roc_auc_scores, label='Test')\n",
        "plt.xlabel('Максимальное количество листов в дереве')\n",
        "plt.ylabel('ROC AUC ')\n",
        "plt.title('Зависимость ROC AUC от сложности дерева на Train и Test выборках')\n",
        "plt.legend();"
      ]
    },
    {
      "cell_type": "code",
      "execution_count": null,
      "id": "c0146837-2f69-4ffd-bc88-3f018220145b",
      "metadata": {
        "id": "c0146837-2f69-4ffd-bc88-3f018220145b"
      },
      "outputs": [],
      "source": [
        "# Выберим то количество листов, которое соответствует максмимальной метрике на test\n",
        "max_index = test_roc_auc_scores.index(max(test_roc_auc_scores))\n",
        "best_n_leaves = n_leaves[max_index]"
      ]
    },
    {
      "cell_type": "code",
      "execution_count": null,
      "id": "ia42Li5mBwx9",
      "metadata": {
        "colab": {
          "base_uri": "https://localhost:8080/"
        },
        "id": "ia42Li5mBwx9",
        "outputId": "f08d9940-46ec-4bae-c168-ea96cd5d190d"
      },
      "outputs": [],
      "source": [
        "best_n_leaves"
      ]
    },
    {
      "cell_type": "code",
      "execution_count": null,
      "id": "9622af9b-04a0-409f-8c52-cbb173d0a73c",
      "metadata": {
        "colab": {
          "base_uri": "https://localhost:8080/",
          "height": 80
        },
        "id": "9622af9b-04a0-409f-8c52-cbb173d0a73c",
        "outputId": "1bcfcb93-2231-4491-c08e-ccdc5246411f"
      },
      "outputs": [],
      "source": [
        "dt = DecisionTreeClassifier(max_leaf_nodes=best_n_leaves)\n",
        "dt.fit(X_train, y_train)"
      ]
    },
    {
      "cell_type": "code",
      "execution_count": null,
      "id": "6efaeb2e-31b7-4610-a8c6-304fca607cdd",
      "metadata": {
        "id": "6efaeb2e-31b7-4610-a8c6-304fca607cdd"
      },
      "outputs": [],
      "source": [
        "train_preds = dt.predict(X_train)\n",
        "test_preds = dt.predict(X_test)"
      ]
    },
    {
      "cell_type": "code",
      "execution_count": null,
      "id": "a2ffe58a-12ad-490a-9b15-0088d648bf98",
      "metadata": {
        "id": "a2ffe58a-12ad-490a-9b15-0088d648bf98"
      },
      "outputs": [],
      "source": [
        "train_probas = dt.predict_proba(X_train)[:, 1]\n",
        "test_probas = dt.predict_proba(X_test)[:, 1]"
      ]
    },
    {
      "cell_type": "code",
      "execution_count": null,
      "id": "38139919-6347-41b3-9561-6d9d58fc9a46",
      "metadata": {
        "colab": {
          "base_uri": "https://localhost:8080/",
          "height": 583
        },
        "id": "38139919-6347-41b3-9561-6d9d58fc9a46",
        "outputId": "e7f9ea20-9d97-4223-979a-86b42f4b5b24"
      },
      "outputs": [],
      "source": [
        "show_metrics(y_train, train_preds, train_probas)"
      ]
    },
    {
      "cell_type": "code",
      "execution_count": null,
      "id": "f89ab3f2-4a2b-46ae-b846-5534f928b8cf",
      "metadata": {
        "colab": {
          "base_uri": "https://localhost:8080/",
          "height": 589
        },
        "id": "f89ab3f2-4a2b-46ae-b846-5534f928b8cf",
        "outputId": "9c21f87c-9273-4c60-e642-0a4c8c9851e6"
      },
      "outputs": [],
      "source": [
        "show_metrics(y_test, test_preds, test_probas)"
      ]
    },
    {
      "cell_type": "markdown",
      "id": "c2703213-1833-4f76-babd-1bf2b6fad180",
      "metadata": {
        "id": "c2703213-1833-4f76-babd-1bf2b6fad180"
      },
      "source": [
        "# Прунинг"
      ]
    },
    {
      "cell_type": "code",
      "execution_count": null,
      "id": "d7883548-c5c0-4390-ba3e-6baaf56fb5fa",
      "metadata": {
        "id": "d7883548-c5c0-4390-ba3e-6baaf56fb5fa"
      },
      "outputs": [],
      "source": [
        "path = dt.cost_complexity_pruning_path(X_train, y_train)\n",
        "ccp_alphas, impurities = path.ccp_alphas, path.impurities"
      ]
    },
    {
      "cell_type": "code",
      "execution_count": null,
      "id": "2bcdbf7f-f27a-43a0-ab19-a40805eab522",
      "metadata": {
        "colab": {
          "base_uri": "https://localhost:8080/",
          "height": 521
        },
        "id": "2bcdbf7f-f27a-43a0-ab19-a40805eab522",
        "outputId": "f67d8ac5-beda-4c75-bdeb-b009913804c1"
      },
      "outputs": [],
      "source": [
        "fig, ax = plt.subplots()\n",
        "ax.plot(ccp_alphas[:-1], impurities[:-1], marker=\"o\", drawstyle=\"steps-post\")\n",
        "ax.set_xlabel(\"effective alpha\")\n",
        "ax.set_ylabel(\"total impurity of leaves\")\n",
        "ax.set_title(\"Total Impurity vs effective alpha for training set\")"
      ]
    },
    {
      "cell_type": "code",
      "execution_count": null,
      "id": "9fc6c1e1-625d-40b8-b1a2-3a122cb4ee4f",
      "metadata": {
        "colab": {
          "base_uri": "https://localhost:8080/"
        },
        "id": "9fc6c1e1-625d-40b8-b1a2-3a122cb4ee4f",
        "outputId": "b8e17a32-804d-4136-e5b0-ad4fae8c9c82"
      },
      "outputs": [],
      "source": [
        "clfs = []\n",
        "for ccp_alpha in ccp_alphas:\n",
        "    clf = DecisionTreeClassifier(random_state=0, ccp_alpha=ccp_alpha)\n",
        "    clf.fit(X_train, y_train)\n",
        "    clfs.append(clf)\n",
        "print(\n",
        "    \"Number of nodes in the last tree is: {} with ccp_alpha: {}\".format(\n",
        "        clfs[-1].tree_.node_count, ccp_alphas[-1]\n",
        "    )\n",
        ")"
      ]
    },
    {
      "cell_type": "code",
      "execution_count": null,
      "id": "83913e57-2731-4ab5-b9a7-21625c203d40",
      "metadata": {
        "colab": {
          "base_uri": "https://localhost:8080/",
          "height": 462
        },
        "id": "83913e57-2731-4ab5-b9a7-21625c203d40",
        "outputId": "9b3e4644-08d0-41d4-eef1-f7b39db4d9c0"
      },
      "outputs": [],
      "source": [
        "clfs = clfs[:-1]\n",
        "ccp_alphas = ccp_alphas[:-1]\n",
        "\n",
        "node_counts = [clf.tree_.node_count for clf in clfs]\n",
        "depth = [clf.tree_.max_depth for clf in clfs]\n",
        "fig, ax = plt.subplots(2, 1)\n",
        "ax[0].plot(ccp_alphas, node_counts, marker=\"o\", drawstyle=\"steps-post\")\n",
        "ax[0].set_xlabel(\"alpha\")\n",
        "ax[0].set_ylabel(\"number of nodes\")\n",
        "ax[0].set_title(\"Number of nodes vs alpha\")\n",
        "ax[1].plot(ccp_alphas, depth, marker=\"o\", drawstyle=\"steps-post\")\n",
        "ax[1].set_xlabel(\"alpha\")\n",
        "ax[1].set_ylabel(\"depth of tree\")\n",
        "ax[1].set_title(\"Depth vs alpha\")\n",
        "fig.tight_layout()"
      ]
    },
    {
      "cell_type": "code",
      "execution_count": null,
      "id": "c7f40f8c-23be-49ba-b763-54b2664e58f3",
      "metadata": {
        "colab": {
          "base_uri": "https://localhost:8080/",
          "height": 503
        },
        "id": "c7f40f8c-23be-49ba-b763-54b2664e58f3",
        "outputId": "27e8dc1c-e5aa-4d1a-9297-4504beb6cb16"
      },
      "outputs": [],
      "source": [
        "train_scores = [clf.score(X_train, y_train) for clf in clfs]\n",
        "test_scores = [clf.score(X_test, y_test) for clf in clfs]\n",
        "\n",
        "fig, ax = plt.subplots()\n",
        "ax.set_xlabel(\"alpha\")\n",
        "ax.set_ylabel(\"accuracy\")\n",
        "ax.set_title(\"Accuracy vs alpha for training and testing sets\")\n",
        "ax.plot(ccp_alphas, train_scores, marker=\"o\", label=\"train\", drawstyle=\"steps-post\")\n",
        "ax.plot(ccp_alphas, test_scores, marker=\"o\", label=\"test\", drawstyle=\"steps-post\")\n",
        "ax.legend()\n",
        "plt.show()"
      ]
    },
    {
      "cell_type": "markdown",
      "id": "LVpw2ZkRiZXj",
      "metadata": {
        "id": "LVpw2ZkRiZXj"
      },
      "source": [
        "### Домашка\n",
        "\n",
        "1) По аналогии с функцией best_continious_split, напишите функцию best_categorical_split (которая перебирает все возможные комбинации категорий для сплита), если количество категорий больше 5, то использует стратегию one vs rest\n",
        "\n",
        "P.S Возможно best_continious_split придётся переписать, убрав предположение о том, что все значения в фиче разные\n",
        "\n",
        "2) Реализовать собственный класс дерева решения для бинарной классификации\n",
        "\n",
        "3) Протестировать его на датасете одобрения кредита (approval rate)\n",
        "\n",
        "4) Сравнить качество работы модели при разных критериях разбиения (gini vs entropy)\n",
        "\n",
        "5) Сравнить качество с sklearn деревом"
      ]
    },
    {
      "cell_type": "code",
      "execution_count": null,
      "id": "94ae8a4f-bc45-4e05-98c1-6d47332db944",
      "metadata": {
        "id": "94ae8a4f-bc45-4e05-98c1-6d47332db944"
      },
      "outputs": [],
      "source": [
        "# Используя функции нахождения сплита, реализуйте свой класс MyDecisionTreeClassifier\n",
        "# Для бинарной классификации, который может использовать в качестве критерия\n",
        "# gini impurity и entropy на выбор\n",
        "\n",
        "class MyDecisionTreeClassifier:\n",
        "    def __init__(self, criterion='gini', max_leaves=None, min_samples_leaf=1):\n",
        "        '''\n",
        "        Конструктор класса\n",
        "        criterion -- критерий может быть либо 'gini', либо 'entropy'\n",
        "        max_leaves -- максимальное количество листо в дереве, если None -- то дерево не ограничено\n",
        "        min_samples_leaf -- минимальное количество объектов в листе\n",
        "        '''\n",
        "        self.criterion = criterion\n",
        "        self.max_leaves = max_leaves\n",
        "        self.min_samples_leaf = min_samples_leaf\n",
        "        self.root = {\n",
        "            'feature_name': None,\n",
        "            'threshold ': None,\n",
        "            'left_child': None,\n",
        "            'right_child': None,\n",
        "            'answer': None\n",
        "        } # корневой узел\n",
        "\n",
        "    def fit(X_train, y_train):\n",
        "        '''\n",
        "        Функция обучения -- рекурсивно проводит разбиения и выбирает наилучшее\n",
        "        '''\n",
        "        pass\n",
        "\n",
        "    def predict(X):\n",
        "        '''\n",
        "        Функция предсказания класса, для каждого наблюдения проходит по дереву, пока не попадёт в лист\n",
        "        В зависимости от листа, в который попало наблюдение делается предсказание (наиболее часто встречающийся класс)\n",
        "        '''\n",
        "        pass\n",
        "\n",
        "    def predict_proba(X):\n",
        "        '''\n",
        "        Функция предсказания вероятности класса, для каждого наблюдения проходит по дереву, пока не попадёт в лист\n",
        "        В зависимости от листа, в который попало наблюдение делается предсказание для каждого класса:\n",
        "        Его доля в листе\n",
        "        '''\n",
        "        pass\n",
        "\n",
        "# P.S. При ограничении на количество листьев, возможно нужно подумать над стратегией отбора листьев. Наивный вариант рекурсивно идти в порядке обхода дерева возможно не самый оптимальный"
      ]
    },
    {
      "cell_type": "code",
      "execution_count": null,
      "id": "MymCwqxvjA9h",
      "metadata": {
        "id": "MymCwqxvjA9h"
      },
      "outputs": [],
      "source": []
    }
  ],
  "metadata": {
    "colab": {
      "provenance": []
    },
    "kernelspec": {
      "display_name": "base",
      "language": "python",
      "name": "python3"
    },
    "language_info": {
      "codemirror_mode": {
        "name": "ipython",
        "version": 3
      },
      "file_extension": ".py",
      "mimetype": "text/x-python",
      "name": "python",
      "nbconvert_exporter": "python",
      "pygments_lexer": "ipython3",
      "version": "3.12.7"
    },
    "widgets": {
      "application/vnd.jupyter.widget-state+json": {
        "04f28c9400fd4802bd196626a68b3485": {
          "model_module": "@jupyter-widgets/base",
          "model_module_version": "1.2.0",
          "model_name": "LayoutModel",
          "state": {
            "_model_module": "@jupyter-widgets/base",
            "_model_module_version": "1.2.0",
            "_model_name": "LayoutModel",
            "_view_count": null,
            "_view_module": "@jupyter-widgets/base",
            "_view_module_version": "1.2.0",
            "_view_name": "LayoutView",
            "align_content": null,
            "align_items": null,
            "align_self": null,
            "border": null,
            "bottom": null,
            "display": null,
            "flex": null,
            "flex_flow": null,
            "grid_area": null,
            "grid_auto_columns": null,
            "grid_auto_flow": null,
            "grid_auto_rows": null,
            "grid_column": null,
            "grid_gap": null,
            "grid_row": null,
            "grid_template_areas": null,
            "grid_template_columns": null,
            "grid_template_rows": null,
            "height": null,
            "justify_content": null,
            "justify_items": null,
            "left": null,
            "margin": null,
            "max_height": null,
            "max_width": null,
            "min_height": null,
            "min_width": null,
            "object_fit": null,
            "object_position": null,
            "order": null,
            "overflow": null,
            "overflow_x": null,
            "overflow_y": null,
            "padding": null,
            "right": null,
            "top": null,
            "visibility": null,
            "width": null
          }
        },
        "0cd8b49130ad42ae8739fab46d2bc905": {
          "model_module": "@jupyter-widgets/base",
          "model_module_version": "1.2.0",
          "model_name": "LayoutModel",
          "state": {
            "_model_module": "@jupyter-widgets/base",
            "_model_module_version": "1.2.0",
            "_model_name": "LayoutModel",
            "_view_count": null,
            "_view_module": "@jupyter-widgets/base",
            "_view_module_version": "1.2.0",
            "_view_name": "LayoutView",
            "align_content": null,
            "align_items": null,
            "align_self": null,
            "border": null,
            "bottom": null,
            "display": null,
            "flex": null,
            "flex_flow": null,
            "grid_area": null,
            "grid_auto_columns": null,
            "grid_auto_flow": null,
            "grid_auto_rows": null,
            "grid_column": null,
            "grid_gap": null,
            "grid_row": null,
            "grid_template_areas": null,
            "grid_template_columns": null,
            "grid_template_rows": null,
            "height": null,
            "justify_content": null,
            "justify_items": null,
            "left": null,
            "margin": null,
            "max_height": null,
            "max_width": null,
            "min_height": null,
            "min_width": null,
            "object_fit": null,
            "object_position": null,
            "order": null,
            "overflow": null,
            "overflow_x": null,
            "overflow_y": null,
            "padding": null,
            "right": null,
            "top": null,
            "visibility": null,
            "width": null
          }
        },
        "1014c3808ac14831beae4d6e717d1096": {
          "model_module": "@jupyter-widgets/controls",
          "model_module_version": "1.5.0",
          "model_name": "HTMLModel",
          "state": {
            "_dom_classes": [],
            "_model_module": "@jupyter-widgets/controls",
            "_model_module_version": "1.5.0",
            "_model_name": "HTMLModel",
            "_view_count": null,
            "_view_module": "@jupyter-widgets/controls",
            "_view_module_version": "1.5.0",
            "_view_name": "HTMLView",
            "description": "",
            "description_tooltip": null,
            "layout": "IPY_MODEL_603cf891692f44989f4cf33aee75b4b0",
            "placeholder": "​",
            "style": "IPY_MODEL_a0abb007a0f44c6a985bc83d1f64bdb8",
            "value": " 99/99 [00:18&lt;00:00,  6.52it/s]"
          }
        },
        "197fd42a27824ae58e04a1a654514a92": {
          "model_module": "@jupyter-widgets/base",
          "model_module_version": "1.2.0",
          "model_name": "LayoutModel",
          "state": {
            "_model_module": "@jupyter-widgets/base",
            "_model_module_version": "1.2.0",
            "_model_name": "LayoutModel",
            "_view_count": null,
            "_view_module": "@jupyter-widgets/base",
            "_view_module_version": "1.2.0",
            "_view_name": "LayoutView",
            "align_content": null,
            "align_items": null,
            "align_self": null,
            "border": null,
            "bottom": null,
            "display": null,
            "flex": null,
            "flex_flow": null,
            "grid_area": null,
            "grid_auto_columns": null,
            "grid_auto_flow": null,
            "grid_auto_rows": null,
            "grid_column": null,
            "grid_gap": null,
            "grid_row": null,
            "grid_template_areas": null,
            "grid_template_columns": null,
            "grid_template_rows": null,
            "height": null,
            "justify_content": null,
            "justify_items": null,
            "left": null,
            "margin": null,
            "max_height": null,
            "max_width": null,
            "min_height": null,
            "min_width": null,
            "object_fit": null,
            "object_position": null,
            "order": null,
            "overflow": null,
            "overflow_x": null,
            "overflow_y": null,
            "padding": null,
            "right": null,
            "top": null,
            "visibility": null,
            "width": null
          }
        },
        "1d15359476244fe6af68131bb5111854": {
          "model_module": "@jupyter-widgets/base",
          "model_module_version": "1.2.0",
          "model_name": "LayoutModel",
          "state": {
            "_model_module": "@jupyter-widgets/base",
            "_model_module_version": "1.2.0",
            "_model_name": "LayoutModel",
            "_view_count": null,
            "_view_module": "@jupyter-widgets/base",
            "_view_module_version": "1.2.0",
            "_view_name": "LayoutView",
            "align_content": null,
            "align_items": null,
            "align_self": null,
            "border": null,
            "bottom": null,
            "display": null,
            "flex": null,
            "flex_flow": null,
            "grid_area": null,
            "grid_auto_columns": null,
            "grid_auto_flow": null,
            "grid_auto_rows": null,
            "grid_column": null,
            "grid_gap": null,
            "grid_row": null,
            "grid_template_areas": null,
            "grid_template_columns": null,
            "grid_template_rows": null,
            "height": null,
            "justify_content": null,
            "justify_items": null,
            "left": null,
            "margin": null,
            "max_height": null,
            "max_width": null,
            "min_height": null,
            "min_width": null,
            "object_fit": null,
            "object_position": null,
            "order": null,
            "overflow": null,
            "overflow_x": null,
            "overflow_y": null,
            "padding": null,
            "right": null,
            "top": null,
            "visibility": null,
            "width": null
          }
        },
        "248062adb1934c58bb795a893225573a": {
          "model_module": "@jupyter-widgets/controls",
          "model_module_version": "1.5.0",
          "model_name": "HTMLModel",
          "state": {
            "_dom_classes": [],
            "_model_module": "@jupyter-widgets/controls",
            "_model_module_version": "1.5.0",
            "_model_name": "HTMLModel",
            "_view_count": null,
            "_view_module": "@jupyter-widgets/controls",
            "_view_module_version": "1.5.0",
            "_view_name": "HTMLView",
            "description": "",
            "description_tooltip": null,
            "layout": "IPY_MODEL_904ee0a1a95c452ba9dc6b6f5a48a53b",
            "placeholder": "​",
            "style": "IPY_MODEL_2abd13815b064ebb87bae376343ff80e",
            "value": "100%"
          }
        },
        "29fa6acf0bab4374b26e3e14fd360b76": {
          "model_module": "@jupyter-widgets/controls",
          "model_module_version": "1.5.0",
          "model_name": "DescriptionStyleModel",
          "state": {
            "_model_module": "@jupyter-widgets/controls",
            "_model_module_version": "1.5.0",
            "_model_name": "DescriptionStyleModel",
            "_view_count": null,
            "_view_module": "@jupyter-widgets/base",
            "_view_module_version": "1.2.0",
            "_view_name": "StyleView",
            "description_width": ""
          }
        },
        "2abd13815b064ebb87bae376343ff80e": {
          "model_module": "@jupyter-widgets/controls",
          "model_module_version": "1.5.0",
          "model_name": "DescriptionStyleModel",
          "state": {
            "_model_module": "@jupyter-widgets/controls",
            "_model_module_version": "1.5.0",
            "_model_name": "DescriptionStyleModel",
            "_view_count": null,
            "_view_module": "@jupyter-widgets/base",
            "_view_module_version": "1.2.0",
            "_view_name": "StyleView",
            "description_width": ""
          }
        },
        "33cc7250e4fa4c42b1341a919066631c": {
          "model_module": "@jupyter-widgets/controls",
          "model_module_version": "1.5.0",
          "model_name": "DescriptionStyleModel",
          "state": {
            "_model_module": "@jupyter-widgets/controls",
            "_model_module_version": "1.5.0",
            "_model_name": "DescriptionStyleModel",
            "_view_count": null,
            "_view_module": "@jupyter-widgets/base",
            "_view_module_version": "1.2.0",
            "_view_name": "StyleView",
            "description_width": ""
          }
        },
        "35be63ca70b1456fa6307870b1c97bbe": {
          "model_module": "@jupyter-widgets/controls",
          "model_module_version": "1.5.0",
          "model_name": "HTMLModel",
          "state": {
            "_dom_classes": [],
            "_model_module": "@jupyter-widgets/controls",
            "_model_module_version": "1.5.0",
            "_model_name": "HTMLModel",
            "_view_count": null,
            "_view_module": "@jupyter-widgets/controls",
            "_view_module_version": "1.5.0",
            "_view_name": "HTMLView",
            "description": "",
            "description_tooltip": null,
            "layout": "IPY_MODEL_f2265f08074b4805828e11523c791a09",
            "placeholder": "​",
            "style": "IPY_MODEL_a5665e73e4484b708336ddc5542035c9",
            "value": " 11198/11198 [00:00&lt;00:00, 161545.21it/s]"
          }
        },
        "38a63dc34e834d9a926d6ce31012958d": {
          "model_module": "@jupyter-widgets/controls",
          "model_module_version": "1.5.0",
          "model_name": "DescriptionStyleModel",
          "state": {
            "_model_module": "@jupyter-widgets/controls",
            "_model_module_version": "1.5.0",
            "_model_name": "DescriptionStyleModel",
            "_view_count": null,
            "_view_module": "@jupyter-widgets/base",
            "_view_module_version": "1.2.0",
            "_view_name": "StyleView",
            "description_width": ""
          }
        },
        "3bcd10b3c56a47a784b147647f3b11b1": {
          "model_module": "@jupyter-widgets/controls",
          "model_module_version": "1.5.0",
          "model_name": "DescriptionStyleModel",
          "state": {
            "_model_module": "@jupyter-widgets/controls",
            "_model_module_version": "1.5.0",
            "_model_name": "DescriptionStyleModel",
            "_view_count": null,
            "_view_module": "@jupyter-widgets/base",
            "_view_module_version": "1.2.0",
            "_view_name": "StyleView",
            "description_width": ""
          }
        },
        "3e3b0b7ca50c4f5e92531d727baafd92": {
          "model_module": "@jupyter-widgets/base",
          "model_module_version": "1.2.0",
          "model_name": "LayoutModel",
          "state": {
            "_model_module": "@jupyter-widgets/base",
            "_model_module_version": "1.2.0",
            "_model_name": "LayoutModel",
            "_view_count": null,
            "_view_module": "@jupyter-widgets/base",
            "_view_module_version": "1.2.0",
            "_view_name": "LayoutView",
            "align_content": null,
            "align_items": null,
            "align_self": null,
            "border": null,
            "bottom": null,
            "display": null,
            "flex": null,
            "flex_flow": null,
            "grid_area": null,
            "grid_auto_columns": null,
            "grid_auto_flow": null,
            "grid_auto_rows": null,
            "grid_column": null,
            "grid_gap": null,
            "grid_row": null,
            "grid_template_areas": null,
            "grid_template_columns": null,
            "grid_template_rows": null,
            "height": null,
            "justify_content": null,
            "justify_items": null,
            "left": null,
            "margin": null,
            "max_height": null,
            "max_width": null,
            "min_height": null,
            "min_width": null,
            "object_fit": null,
            "object_position": null,
            "order": null,
            "overflow": null,
            "overflow_x": null,
            "overflow_y": null,
            "padding": null,
            "right": null,
            "top": null,
            "visibility": null,
            "width": null
          }
        },
        "3e5c46593bc24d6d897711b06dd4a7c7": {
          "model_module": "@jupyter-widgets/base",
          "model_module_version": "1.2.0",
          "model_name": "LayoutModel",
          "state": {
            "_model_module": "@jupyter-widgets/base",
            "_model_module_version": "1.2.0",
            "_model_name": "LayoutModel",
            "_view_count": null,
            "_view_module": "@jupyter-widgets/base",
            "_view_module_version": "1.2.0",
            "_view_name": "LayoutView",
            "align_content": null,
            "align_items": null,
            "align_self": null,
            "border": null,
            "bottom": null,
            "display": null,
            "flex": null,
            "flex_flow": null,
            "grid_area": null,
            "grid_auto_columns": null,
            "grid_auto_flow": null,
            "grid_auto_rows": null,
            "grid_column": null,
            "grid_gap": null,
            "grid_row": null,
            "grid_template_areas": null,
            "grid_template_columns": null,
            "grid_template_rows": null,
            "height": null,
            "justify_content": null,
            "justify_items": null,
            "left": null,
            "margin": null,
            "max_height": null,
            "max_width": null,
            "min_height": null,
            "min_width": null,
            "object_fit": null,
            "object_position": null,
            "order": null,
            "overflow": null,
            "overflow_x": null,
            "overflow_y": null,
            "padding": null,
            "right": null,
            "top": null,
            "visibility": null,
            "width": null
          }
        },
        "46f794f8006144c7b75a5c7f94d6e7e3": {
          "model_module": "@jupyter-widgets/controls",
          "model_module_version": "1.5.0",
          "model_name": "DescriptionStyleModel",
          "state": {
            "_model_module": "@jupyter-widgets/controls",
            "_model_module_version": "1.5.0",
            "_model_name": "DescriptionStyleModel",
            "_view_count": null,
            "_view_module": "@jupyter-widgets/base",
            "_view_module_version": "1.2.0",
            "_view_name": "StyleView",
            "description_width": ""
          }
        },
        "567e0e21f3794d159910fa3a5df6ef35": {
          "model_module": "@jupyter-widgets/base",
          "model_module_version": "1.2.0",
          "model_name": "LayoutModel",
          "state": {
            "_model_module": "@jupyter-widgets/base",
            "_model_module_version": "1.2.0",
            "_model_name": "LayoutModel",
            "_view_count": null,
            "_view_module": "@jupyter-widgets/base",
            "_view_module_version": "1.2.0",
            "_view_name": "LayoutView",
            "align_content": null,
            "align_items": null,
            "align_self": null,
            "border": null,
            "bottom": null,
            "display": null,
            "flex": null,
            "flex_flow": null,
            "grid_area": null,
            "grid_auto_columns": null,
            "grid_auto_flow": null,
            "grid_auto_rows": null,
            "grid_column": null,
            "grid_gap": null,
            "grid_row": null,
            "grid_template_areas": null,
            "grid_template_columns": null,
            "grid_template_rows": null,
            "height": null,
            "justify_content": null,
            "justify_items": null,
            "left": null,
            "margin": null,
            "max_height": null,
            "max_width": null,
            "min_height": null,
            "min_width": null,
            "object_fit": null,
            "object_position": null,
            "order": null,
            "overflow": null,
            "overflow_x": null,
            "overflow_y": null,
            "padding": null,
            "right": null,
            "top": null,
            "visibility": null,
            "width": null
          }
        },
        "5fc8e46c248d4eb6b4c68d4ffbe84657": {
          "model_module": "@jupyter-widgets/base",
          "model_module_version": "1.2.0",
          "model_name": "LayoutModel",
          "state": {
            "_model_module": "@jupyter-widgets/base",
            "_model_module_version": "1.2.0",
            "_model_name": "LayoutModel",
            "_view_count": null,
            "_view_module": "@jupyter-widgets/base",
            "_view_module_version": "1.2.0",
            "_view_name": "LayoutView",
            "align_content": null,
            "align_items": null,
            "align_self": null,
            "border": null,
            "bottom": null,
            "display": null,
            "flex": null,
            "flex_flow": null,
            "grid_area": null,
            "grid_auto_columns": null,
            "grid_auto_flow": null,
            "grid_auto_rows": null,
            "grid_column": null,
            "grid_gap": null,
            "grid_row": null,
            "grid_template_areas": null,
            "grid_template_columns": null,
            "grid_template_rows": null,
            "height": null,
            "justify_content": null,
            "justify_items": null,
            "left": null,
            "margin": null,
            "max_height": null,
            "max_width": null,
            "min_height": null,
            "min_width": null,
            "object_fit": null,
            "object_position": null,
            "order": null,
            "overflow": null,
            "overflow_x": null,
            "overflow_y": null,
            "padding": null,
            "right": null,
            "top": null,
            "visibility": null,
            "width": null
          }
        },
        "603cf891692f44989f4cf33aee75b4b0": {
          "model_module": "@jupyter-widgets/base",
          "model_module_version": "1.2.0",
          "model_name": "LayoutModel",
          "state": {
            "_model_module": "@jupyter-widgets/base",
            "_model_module_version": "1.2.0",
            "_model_name": "LayoutModel",
            "_view_count": null,
            "_view_module": "@jupyter-widgets/base",
            "_view_module_version": "1.2.0",
            "_view_name": "LayoutView",
            "align_content": null,
            "align_items": null,
            "align_self": null,
            "border": null,
            "bottom": null,
            "display": null,
            "flex": null,
            "flex_flow": null,
            "grid_area": null,
            "grid_auto_columns": null,
            "grid_auto_flow": null,
            "grid_auto_rows": null,
            "grid_column": null,
            "grid_gap": null,
            "grid_row": null,
            "grid_template_areas": null,
            "grid_template_columns": null,
            "grid_template_rows": null,
            "height": null,
            "justify_content": null,
            "justify_items": null,
            "left": null,
            "margin": null,
            "max_height": null,
            "max_width": null,
            "min_height": null,
            "min_width": null,
            "object_fit": null,
            "object_position": null,
            "order": null,
            "overflow": null,
            "overflow_x": null,
            "overflow_y": null,
            "padding": null,
            "right": null,
            "top": null,
            "visibility": null,
            "width": null
          }
        },
        "63e98e3270674169891b462447251d01": {
          "model_module": "@jupyter-widgets/controls",
          "model_module_version": "1.5.0",
          "model_name": "HBoxModel",
          "state": {
            "_dom_classes": [],
            "_model_module": "@jupyter-widgets/controls",
            "_model_module_version": "1.5.0",
            "_model_name": "HBoxModel",
            "_view_count": null,
            "_view_module": "@jupyter-widgets/controls",
            "_view_module_version": "1.5.0",
            "_view_name": "HBoxView",
            "box_style": "",
            "children": [
              "IPY_MODEL_d8f6b002fce74d4ab320bddea5822835",
              "IPY_MODEL_7e5d49859495461b8abb8111eae1995c",
              "IPY_MODEL_35be63ca70b1456fa6307870b1c97bbe"
            ],
            "layout": "IPY_MODEL_7d197e2360b243a6b08ad5c3e05aa485"
          }
        },
        "767019ba03d04d40939a91ee96f9d1f3": {
          "model_module": "@jupyter-widgets/base",
          "model_module_version": "1.2.0",
          "model_name": "LayoutModel",
          "state": {
            "_model_module": "@jupyter-widgets/base",
            "_model_module_version": "1.2.0",
            "_model_name": "LayoutModel",
            "_view_count": null,
            "_view_module": "@jupyter-widgets/base",
            "_view_module_version": "1.2.0",
            "_view_name": "LayoutView",
            "align_content": null,
            "align_items": null,
            "align_self": null,
            "border": null,
            "bottom": null,
            "display": null,
            "flex": null,
            "flex_flow": null,
            "grid_area": null,
            "grid_auto_columns": null,
            "grid_auto_flow": null,
            "grid_auto_rows": null,
            "grid_column": null,
            "grid_gap": null,
            "grid_row": null,
            "grid_template_areas": null,
            "grid_template_columns": null,
            "grid_template_rows": null,
            "height": null,
            "justify_content": null,
            "justify_items": null,
            "left": null,
            "margin": null,
            "max_height": null,
            "max_width": null,
            "min_height": null,
            "min_width": null,
            "object_fit": null,
            "object_position": null,
            "order": null,
            "overflow": null,
            "overflow_x": null,
            "overflow_y": null,
            "padding": null,
            "right": null,
            "top": null,
            "visibility": null,
            "width": null
          }
        },
        "7797d0f53a1142faa3e874ff3522c93e": {
          "model_module": "@jupyter-widgets/base",
          "model_module_version": "1.2.0",
          "model_name": "LayoutModel",
          "state": {
            "_model_module": "@jupyter-widgets/base",
            "_model_module_version": "1.2.0",
            "_model_name": "LayoutModel",
            "_view_count": null,
            "_view_module": "@jupyter-widgets/base",
            "_view_module_version": "1.2.0",
            "_view_name": "LayoutView",
            "align_content": null,
            "align_items": null,
            "align_self": null,
            "border": null,
            "bottom": null,
            "display": null,
            "flex": null,
            "flex_flow": null,
            "grid_area": null,
            "grid_auto_columns": null,
            "grid_auto_flow": null,
            "grid_auto_rows": null,
            "grid_column": null,
            "grid_gap": null,
            "grid_row": null,
            "grid_template_areas": null,
            "grid_template_columns": null,
            "grid_template_rows": null,
            "height": null,
            "justify_content": null,
            "justify_items": null,
            "left": null,
            "margin": null,
            "max_height": null,
            "max_width": null,
            "min_height": null,
            "min_width": null,
            "object_fit": null,
            "object_position": null,
            "order": null,
            "overflow": null,
            "overflow_x": null,
            "overflow_y": null,
            "padding": null,
            "right": null,
            "top": null,
            "visibility": null,
            "width": null
          }
        },
        "78537233a28b446ab48077e7a9a146c6": {
          "model_module": "@jupyter-widgets/controls",
          "model_module_version": "1.5.0",
          "model_name": "ProgressStyleModel",
          "state": {
            "_model_module": "@jupyter-widgets/controls",
            "_model_module_version": "1.5.0",
            "_model_name": "ProgressStyleModel",
            "_view_count": null,
            "_view_module": "@jupyter-widgets/base",
            "_view_module_version": "1.2.0",
            "_view_name": "StyleView",
            "bar_color": null,
            "description_width": ""
          }
        },
        "79f74346195a4f7c851aab6fa0576dee": {
          "model_module": "@jupyter-widgets/base",
          "model_module_version": "1.2.0",
          "model_name": "LayoutModel",
          "state": {
            "_model_module": "@jupyter-widgets/base",
            "_model_module_version": "1.2.0",
            "_model_name": "LayoutModel",
            "_view_count": null,
            "_view_module": "@jupyter-widgets/base",
            "_view_module_version": "1.2.0",
            "_view_name": "LayoutView",
            "align_content": null,
            "align_items": null,
            "align_self": null,
            "border": null,
            "bottom": null,
            "display": null,
            "flex": null,
            "flex_flow": null,
            "grid_area": null,
            "grid_auto_columns": null,
            "grid_auto_flow": null,
            "grid_auto_rows": null,
            "grid_column": null,
            "grid_gap": null,
            "grid_row": null,
            "grid_template_areas": null,
            "grid_template_columns": null,
            "grid_template_rows": null,
            "height": null,
            "justify_content": null,
            "justify_items": null,
            "left": null,
            "margin": null,
            "max_height": null,
            "max_width": null,
            "min_height": null,
            "min_width": null,
            "object_fit": null,
            "object_position": null,
            "order": null,
            "overflow": null,
            "overflow_x": null,
            "overflow_y": null,
            "padding": null,
            "right": null,
            "top": null,
            "visibility": null,
            "width": null
          }
        },
        "7d197e2360b243a6b08ad5c3e05aa485": {
          "model_module": "@jupyter-widgets/base",
          "model_module_version": "1.2.0",
          "model_name": "LayoutModel",
          "state": {
            "_model_module": "@jupyter-widgets/base",
            "_model_module_version": "1.2.0",
            "_model_name": "LayoutModel",
            "_view_count": null,
            "_view_module": "@jupyter-widgets/base",
            "_view_module_version": "1.2.0",
            "_view_name": "LayoutView",
            "align_content": null,
            "align_items": null,
            "align_self": null,
            "border": null,
            "bottom": null,
            "display": null,
            "flex": null,
            "flex_flow": null,
            "grid_area": null,
            "grid_auto_columns": null,
            "grid_auto_flow": null,
            "grid_auto_rows": null,
            "grid_column": null,
            "grid_gap": null,
            "grid_row": null,
            "grid_template_areas": null,
            "grid_template_columns": null,
            "grid_template_rows": null,
            "height": null,
            "justify_content": null,
            "justify_items": null,
            "left": null,
            "margin": null,
            "max_height": null,
            "max_width": null,
            "min_height": null,
            "min_width": null,
            "object_fit": null,
            "object_position": null,
            "order": null,
            "overflow": null,
            "overflow_x": null,
            "overflow_y": null,
            "padding": null,
            "right": null,
            "top": null,
            "visibility": null,
            "width": null
          }
        },
        "7e5d49859495461b8abb8111eae1995c": {
          "model_module": "@jupyter-widgets/controls",
          "model_module_version": "1.5.0",
          "model_name": "FloatProgressModel",
          "state": {
            "_dom_classes": [],
            "_model_module": "@jupyter-widgets/controls",
            "_model_module_version": "1.5.0",
            "_model_name": "FloatProgressModel",
            "_view_count": null,
            "_view_module": "@jupyter-widgets/controls",
            "_view_module_version": "1.5.0",
            "_view_name": "ProgressView",
            "bar_style": "success",
            "description": "",
            "description_tooltip": null,
            "layout": "IPY_MODEL_79f74346195a4f7c851aab6fa0576dee",
            "max": 11198,
            "min": 0,
            "orientation": "horizontal",
            "style": "IPY_MODEL_c68ca835ed014367b62fa7b589365fdc",
            "value": 11198
          }
        },
        "7e699fc50c744929b31ee8b5af0685ff": {
          "model_module": "@jupyter-widgets/base",
          "model_module_version": "1.2.0",
          "model_name": "LayoutModel",
          "state": {
            "_model_module": "@jupyter-widgets/base",
            "_model_module_version": "1.2.0",
            "_model_name": "LayoutModel",
            "_view_count": null,
            "_view_module": "@jupyter-widgets/base",
            "_view_module_version": "1.2.0",
            "_view_name": "LayoutView",
            "align_content": null,
            "align_items": null,
            "align_self": null,
            "border": null,
            "bottom": null,
            "display": null,
            "flex": null,
            "flex_flow": null,
            "grid_area": null,
            "grid_auto_columns": null,
            "grid_auto_flow": null,
            "grid_auto_rows": null,
            "grid_column": null,
            "grid_gap": null,
            "grid_row": null,
            "grid_template_areas": null,
            "grid_template_columns": null,
            "grid_template_rows": null,
            "height": null,
            "justify_content": null,
            "justify_items": null,
            "left": null,
            "margin": null,
            "max_height": null,
            "max_width": null,
            "min_height": null,
            "min_width": null,
            "object_fit": null,
            "object_position": null,
            "order": null,
            "overflow": null,
            "overflow_x": null,
            "overflow_y": null,
            "padding": null,
            "right": null,
            "top": null,
            "visibility": null,
            "width": null
          }
        },
        "8841a7aff18d429898bf428b73fa9937": {
          "model_module": "@jupyter-widgets/controls",
          "model_module_version": "1.5.0",
          "model_name": "FloatProgressModel",
          "state": {
            "_dom_classes": [],
            "_model_module": "@jupyter-widgets/controls",
            "_model_module_version": "1.5.0",
            "_model_name": "FloatProgressModel",
            "_view_count": null,
            "_view_module": "@jupyter-widgets/controls",
            "_view_module_version": "1.5.0",
            "_view_name": "ProgressView",
            "bar_style": "success",
            "description": "",
            "description_tooltip": null,
            "layout": "IPY_MODEL_3e5c46593bc24d6d897711b06dd4a7c7",
            "max": 31499,
            "min": 0,
            "orientation": "horizontal",
            "style": "IPY_MODEL_992ff61e617e4da389c05e9ef1b2283f",
            "value": 31499
          }
        },
        "8b10d3a51a39451aba2d59904e67f0cb": {
          "model_module": "@jupyter-widgets/controls",
          "model_module_version": "1.5.0",
          "model_name": "FloatProgressModel",
          "state": {
            "_dom_classes": [],
            "_model_module": "@jupyter-widgets/controls",
            "_model_module_version": "1.5.0",
            "_model_name": "FloatProgressModel",
            "_view_count": null,
            "_view_module": "@jupyter-widgets/controls",
            "_view_module_version": "1.5.0",
            "_view_name": "ProgressView",
            "bar_style": "success",
            "description": "",
            "description_tooltip": null,
            "layout": "IPY_MODEL_0cd8b49130ad42ae8739fab46d2bc905",
            "max": 11198,
            "min": 0,
            "orientation": "horizontal",
            "style": "IPY_MODEL_d7b1571b962e4169a664d0ef6a2e2dcc",
            "value": 11198
          }
        },
        "8f138e8bc22b40548eb198b9de29c490": {
          "model_module": "@jupyter-widgets/controls",
          "model_module_version": "1.5.0",
          "model_name": "HTMLModel",
          "state": {
            "_dom_classes": [],
            "_model_module": "@jupyter-widgets/controls",
            "_model_module_version": "1.5.0",
            "_model_name": "HTMLModel",
            "_view_count": null,
            "_view_module": "@jupyter-widgets/controls",
            "_view_module_version": "1.5.0",
            "_view_name": "HTMLView",
            "description": "",
            "description_tooltip": null,
            "layout": "IPY_MODEL_f2796f45caac4e97b2909142d3be698c",
            "placeholder": "​",
            "style": "IPY_MODEL_33cc7250e4fa4c42b1341a919066631c",
            "value": "100%"
          }
        },
        "904ee0a1a95c452ba9dc6b6f5a48a53b": {
          "model_module": "@jupyter-widgets/base",
          "model_module_version": "1.2.0",
          "model_name": "LayoutModel",
          "state": {
            "_model_module": "@jupyter-widgets/base",
            "_model_module_version": "1.2.0",
            "_model_name": "LayoutModel",
            "_view_count": null,
            "_view_module": "@jupyter-widgets/base",
            "_view_module_version": "1.2.0",
            "_view_name": "LayoutView",
            "align_content": null,
            "align_items": null,
            "align_self": null,
            "border": null,
            "bottom": null,
            "display": null,
            "flex": null,
            "flex_flow": null,
            "grid_area": null,
            "grid_auto_columns": null,
            "grid_auto_flow": null,
            "grid_auto_rows": null,
            "grid_column": null,
            "grid_gap": null,
            "grid_row": null,
            "grid_template_areas": null,
            "grid_template_columns": null,
            "grid_template_rows": null,
            "height": null,
            "justify_content": null,
            "justify_items": null,
            "left": null,
            "margin": null,
            "max_height": null,
            "max_width": null,
            "min_height": null,
            "min_width": null,
            "object_fit": null,
            "object_position": null,
            "order": null,
            "overflow": null,
            "overflow_x": null,
            "overflow_y": null,
            "padding": null,
            "right": null,
            "top": null,
            "visibility": null,
            "width": null
          }
        },
        "90a83fa98dc64b63acb64802b5a8517b": {
          "model_module": "@jupyter-widgets/base",
          "model_module_version": "1.2.0",
          "model_name": "LayoutModel",
          "state": {
            "_model_module": "@jupyter-widgets/base",
            "_model_module_version": "1.2.0",
            "_model_name": "LayoutModel",
            "_view_count": null,
            "_view_module": "@jupyter-widgets/base",
            "_view_module_version": "1.2.0",
            "_view_name": "LayoutView",
            "align_content": null,
            "align_items": null,
            "align_self": null,
            "border": null,
            "bottom": null,
            "display": null,
            "flex": null,
            "flex_flow": null,
            "grid_area": null,
            "grid_auto_columns": null,
            "grid_auto_flow": null,
            "grid_auto_rows": null,
            "grid_column": null,
            "grid_gap": null,
            "grid_row": null,
            "grid_template_areas": null,
            "grid_template_columns": null,
            "grid_template_rows": null,
            "height": null,
            "justify_content": null,
            "justify_items": null,
            "left": null,
            "margin": null,
            "max_height": null,
            "max_width": null,
            "min_height": null,
            "min_width": null,
            "object_fit": null,
            "object_position": null,
            "order": null,
            "overflow": null,
            "overflow_x": null,
            "overflow_y": null,
            "padding": null,
            "right": null,
            "top": null,
            "visibility": null,
            "width": null
          }
        },
        "9550cf00e7914fb4a7233b61bf2125b9": {
          "model_module": "@jupyter-widgets/controls",
          "model_module_version": "1.5.0",
          "model_name": "HTMLModel",
          "state": {
            "_dom_classes": [],
            "_model_module": "@jupyter-widgets/controls",
            "_model_module_version": "1.5.0",
            "_model_name": "HTMLModel",
            "_view_count": null,
            "_view_module": "@jupyter-widgets/controls",
            "_view_module_version": "1.5.0",
            "_view_name": "HTMLView",
            "description": "",
            "description_tooltip": null,
            "layout": "IPY_MODEL_c4202db11b074ecfad405c3441a6208e",
            "placeholder": "​",
            "style": "IPY_MODEL_c4cd76756d2f4550aedfb0c01f0ea6a5",
            "value": " 31499/31499 [00:00&lt;00:00, 442320.88it/s]"
          }
        },
        "992ff61e617e4da389c05e9ef1b2283f": {
          "model_module": "@jupyter-widgets/controls",
          "model_module_version": "1.5.0",
          "model_name": "ProgressStyleModel",
          "state": {
            "_model_module": "@jupyter-widgets/controls",
            "_model_module_version": "1.5.0",
            "_model_name": "ProgressStyleModel",
            "_view_count": null,
            "_view_module": "@jupyter-widgets/base",
            "_view_module_version": "1.2.0",
            "_view_name": "StyleView",
            "bar_color": null,
            "description_width": ""
          }
        },
        "9b5c0b76ccf04df395044c134067fe7a": {
          "model_module": "@jupyter-widgets/controls",
          "model_module_version": "1.5.0",
          "model_name": "HBoxModel",
          "state": {
            "_dom_classes": [],
            "_model_module": "@jupyter-widgets/controls",
            "_model_module_version": "1.5.0",
            "_model_name": "HBoxModel",
            "_view_count": null,
            "_view_module": "@jupyter-widgets/controls",
            "_view_module_version": "1.5.0",
            "_view_name": "HBoxView",
            "box_style": "",
            "children": [
              "IPY_MODEL_dcbd4921fa3b45cea30f5791e931eefc",
              "IPY_MODEL_8841a7aff18d429898bf428b73fa9937",
              "IPY_MODEL_9550cf00e7914fb4a7233b61bf2125b9"
            ],
            "layout": "IPY_MODEL_3e3b0b7ca50c4f5e92531d727baafd92"
          }
        },
        "a0a195ca0ac240b587d9b67c99480120": {
          "model_module": "@jupyter-widgets/controls",
          "model_module_version": "1.5.0",
          "model_name": "HTMLModel",
          "state": {
            "_dom_classes": [],
            "_model_module": "@jupyter-widgets/controls",
            "_model_module_version": "1.5.0",
            "_model_name": "HTMLModel",
            "_view_count": null,
            "_view_module": "@jupyter-widgets/controls",
            "_view_module_version": "1.5.0",
            "_view_name": "HTMLView",
            "description": "",
            "description_tooltip": null,
            "layout": "IPY_MODEL_567e0e21f3794d159910fa3a5df6ef35",
            "placeholder": "​",
            "style": "IPY_MODEL_3bcd10b3c56a47a784b147647f3b11b1",
            "value": "100%"
          }
        },
        "a0abb007a0f44c6a985bc83d1f64bdb8": {
          "model_module": "@jupyter-widgets/controls",
          "model_module_version": "1.5.0",
          "model_name": "DescriptionStyleModel",
          "state": {
            "_model_module": "@jupyter-widgets/controls",
            "_model_module_version": "1.5.0",
            "_model_name": "DescriptionStyleModel",
            "_view_count": null,
            "_view_module": "@jupyter-widgets/base",
            "_view_module_version": "1.2.0",
            "_view_name": "StyleView",
            "description_width": ""
          }
        },
        "a5665e73e4484b708336ddc5542035c9": {
          "model_module": "@jupyter-widgets/controls",
          "model_module_version": "1.5.0",
          "model_name": "DescriptionStyleModel",
          "state": {
            "_model_module": "@jupyter-widgets/controls",
            "_model_module_version": "1.5.0",
            "_model_name": "DescriptionStyleModel",
            "_view_count": null,
            "_view_module": "@jupyter-widgets/base",
            "_view_module_version": "1.2.0",
            "_view_name": "StyleView",
            "description_width": ""
          }
        },
        "a70af0d9cc7d4d83bb2066f4f41b914c": {
          "model_module": "@jupyter-widgets/controls",
          "model_module_version": "1.5.0",
          "model_name": "ProgressStyleModel",
          "state": {
            "_model_module": "@jupyter-widgets/controls",
            "_model_module_version": "1.5.0",
            "_model_name": "ProgressStyleModel",
            "_view_count": null,
            "_view_module": "@jupyter-widgets/base",
            "_view_module_version": "1.2.0",
            "_view_name": "StyleView",
            "bar_color": null,
            "description_width": ""
          }
        },
        "aacb71a61d494b67a4bb418b82547771": {
          "model_module": "@jupyter-widgets/controls",
          "model_module_version": "1.5.0",
          "model_name": "HTMLModel",
          "state": {
            "_dom_classes": [],
            "_model_module": "@jupyter-widgets/controls",
            "_model_module_version": "1.5.0",
            "_model_name": "HTMLModel",
            "_view_count": null,
            "_view_module": "@jupyter-widgets/controls",
            "_view_module_version": "1.5.0",
            "_view_name": "HTMLView",
            "description": "",
            "description_tooltip": null,
            "layout": "IPY_MODEL_7e699fc50c744929b31ee8b5af0685ff",
            "placeholder": "​",
            "style": "IPY_MODEL_46f794f8006144c7b75a5c7f94d6e7e3",
            "value": " 31499/31499 [00:00&lt;00:00, 141977.79it/s]"
          }
        },
        "af256a47431545ec8bfd1de5cc79bf63": {
          "model_module": "@jupyter-widgets/controls",
          "model_module_version": "1.5.0",
          "model_name": "HTMLModel",
          "state": {
            "_dom_classes": [],
            "_model_module": "@jupyter-widgets/controls",
            "_model_module_version": "1.5.0",
            "_model_name": "HTMLModel",
            "_view_count": null,
            "_view_module": "@jupyter-widgets/controls",
            "_view_module_version": "1.5.0",
            "_view_name": "HTMLView",
            "description": "",
            "description_tooltip": null,
            "layout": "IPY_MODEL_5fc8e46c248d4eb6b4c68d4ffbe84657",
            "placeholder": "​",
            "style": "IPY_MODEL_e65f7d9651914345803f3fb04af9c060",
            "value": " 11198/11198 [00:00&lt;00:00, 49635.16it/s]"
          }
        },
        "bc5f17c4efbb4e0bbf4e8ce44b416d85": {
          "model_module": "@jupyter-widgets/controls",
          "model_module_version": "1.5.0",
          "model_name": "HBoxModel",
          "state": {
            "_dom_classes": [],
            "_model_module": "@jupyter-widgets/controls",
            "_model_module_version": "1.5.0",
            "_model_name": "HBoxModel",
            "_view_count": null,
            "_view_module": "@jupyter-widgets/controls",
            "_view_module_version": "1.5.0",
            "_view_name": "HBoxView",
            "box_style": "",
            "children": [
              "IPY_MODEL_8f138e8bc22b40548eb198b9de29c490",
              "IPY_MODEL_8b10d3a51a39451aba2d59904e67f0cb",
              "IPY_MODEL_af256a47431545ec8bfd1de5cc79bf63"
            ],
            "layout": "IPY_MODEL_04f28c9400fd4802bd196626a68b3485"
          }
        },
        "c4202db11b074ecfad405c3441a6208e": {
          "model_module": "@jupyter-widgets/base",
          "model_module_version": "1.2.0",
          "model_name": "LayoutModel",
          "state": {
            "_model_module": "@jupyter-widgets/base",
            "_model_module_version": "1.2.0",
            "_model_name": "LayoutModel",
            "_view_count": null,
            "_view_module": "@jupyter-widgets/base",
            "_view_module_version": "1.2.0",
            "_view_name": "LayoutView",
            "align_content": null,
            "align_items": null,
            "align_self": null,
            "border": null,
            "bottom": null,
            "display": null,
            "flex": null,
            "flex_flow": null,
            "grid_area": null,
            "grid_auto_columns": null,
            "grid_auto_flow": null,
            "grid_auto_rows": null,
            "grid_column": null,
            "grid_gap": null,
            "grid_row": null,
            "grid_template_areas": null,
            "grid_template_columns": null,
            "grid_template_rows": null,
            "height": null,
            "justify_content": null,
            "justify_items": null,
            "left": null,
            "margin": null,
            "max_height": null,
            "max_width": null,
            "min_height": null,
            "min_width": null,
            "object_fit": null,
            "object_position": null,
            "order": null,
            "overflow": null,
            "overflow_x": null,
            "overflow_y": null,
            "padding": null,
            "right": null,
            "top": null,
            "visibility": null,
            "width": null
          }
        },
        "c4cd76756d2f4550aedfb0c01f0ea6a5": {
          "model_module": "@jupyter-widgets/controls",
          "model_module_version": "1.5.0",
          "model_name": "DescriptionStyleModel",
          "state": {
            "_model_module": "@jupyter-widgets/controls",
            "_model_module_version": "1.5.0",
            "_model_name": "DescriptionStyleModel",
            "_view_count": null,
            "_view_module": "@jupyter-widgets/base",
            "_view_module_version": "1.2.0",
            "_view_name": "StyleView",
            "description_width": ""
          }
        },
        "c68ca835ed014367b62fa7b589365fdc": {
          "model_module": "@jupyter-widgets/controls",
          "model_module_version": "1.5.0",
          "model_name": "ProgressStyleModel",
          "state": {
            "_model_module": "@jupyter-widgets/controls",
            "_model_module_version": "1.5.0",
            "_model_name": "ProgressStyleModel",
            "_view_count": null,
            "_view_module": "@jupyter-widgets/base",
            "_view_module_version": "1.2.0",
            "_view_name": "StyleView",
            "bar_color": null,
            "description_width": ""
          }
        },
        "d7b1571b962e4169a664d0ef6a2e2dcc": {
          "model_module": "@jupyter-widgets/controls",
          "model_module_version": "1.5.0",
          "model_name": "ProgressStyleModel",
          "state": {
            "_model_module": "@jupyter-widgets/controls",
            "_model_module_version": "1.5.0",
            "_model_name": "ProgressStyleModel",
            "_view_count": null,
            "_view_module": "@jupyter-widgets/base",
            "_view_module_version": "1.2.0",
            "_view_name": "StyleView",
            "bar_color": null,
            "description_width": ""
          }
        },
        "d8f6b002fce74d4ab320bddea5822835": {
          "model_module": "@jupyter-widgets/controls",
          "model_module_version": "1.5.0",
          "model_name": "HTMLModel",
          "state": {
            "_dom_classes": [],
            "_model_module": "@jupyter-widgets/controls",
            "_model_module_version": "1.5.0",
            "_model_name": "HTMLModel",
            "_view_count": null,
            "_view_module": "@jupyter-widgets/controls",
            "_view_module_version": "1.5.0",
            "_view_name": "HTMLView",
            "description": "",
            "description_tooltip": null,
            "layout": "IPY_MODEL_197fd42a27824ae58e04a1a654514a92",
            "placeholder": "​",
            "style": "IPY_MODEL_38a63dc34e834d9a926d6ce31012958d",
            "value": "100%"
          }
        },
        "da379f39d28b429a8c89e1e18d60e339": {
          "model_module": "@jupyter-widgets/base",
          "model_module_version": "1.2.0",
          "model_name": "LayoutModel",
          "state": {
            "_model_module": "@jupyter-widgets/base",
            "_model_module_version": "1.2.0",
            "_model_name": "LayoutModel",
            "_view_count": null,
            "_view_module": "@jupyter-widgets/base",
            "_view_module_version": "1.2.0",
            "_view_name": "LayoutView",
            "align_content": null,
            "align_items": null,
            "align_self": null,
            "border": null,
            "bottom": null,
            "display": null,
            "flex": null,
            "flex_flow": null,
            "grid_area": null,
            "grid_auto_columns": null,
            "grid_auto_flow": null,
            "grid_auto_rows": null,
            "grid_column": null,
            "grid_gap": null,
            "grid_row": null,
            "grid_template_areas": null,
            "grid_template_columns": null,
            "grid_template_rows": null,
            "height": null,
            "justify_content": null,
            "justify_items": null,
            "left": null,
            "margin": null,
            "max_height": null,
            "max_width": null,
            "min_height": null,
            "min_width": null,
            "object_fit": null,
            "object_position": null,
            "order": null,
            "overflow": null,
            "overflow_x": null,
            "overflow_y": null,
            "padding": null,
            "right": null,
            "top": null,
            "visibility": null,
            "width": null
          }
        },
        "dcbd4921fa3b45cea30f5791e931eefc": {
          "model_module": "@jupyter-widgets/controls",
          "model_module_version": "1.5.0",
          "model_name": "HTMLModel",
          "state": {
            "_dom_classes": [],
            "_model_module": "@jupyter-widgets/controls",
            "_model_module_version": "1.5.0",
            "_model_name": "HTMLModel",
            "_view_count": null,
            "_view_module": "@jupyter-widgets/controls",
            "_view_module_version": "1.5.0",
            "_view_name": "HTMLView",
            "description": "",
            "description_tooltip": null,
            "layout": "IPY_MODEL_1d15359476244fe6af68131bb5111854",
            "placeholder": "​",
            "style": "IPY_MODEL_29fa6acf0bab4374b26e3e14fd360b76",
            "value": "100%"
          }
        },
        "df278393f4644461823e4c43a17a6bd8": {
          "model_module": "@jupyter-widgets/controls",
          "model_module_version": "1.5.0",
          "model_name": "HBoxModel",
          "state": {
            "_dom_classes": [],
            "_model_module": "@jupyter-widgets/controls",
            "_model_module_version": "1.5.0",
            "_model_name": "HBoxModel",
            "_view_count": null,
            "_view_module": "@jupyter-widgets/controls",
            "_view_module_version": "1.5.0",
            "_view_name": "HBoxView",
            "box_style": "",
            "children": [
              "IPY_MODEL_a0a195ca0ac240b587d9b67c99480120",
              "IPY_MODEL_f6742d27f5e7476fa17412855527d01e",
              "IPY_MODEL_1014c3808ac14831beae4d6e717d1096"
            ],
            "layout": "IPY_MODEL_da379f39d28b429a8c89e1e18d60e339"
          }
        },
        "e65f7d9651914345803f3fb04af9c060": {
          "model_module": "@jupyter-widgets/controls",
          "model_module_version": "1.5.0",
          "model_name": "DescriptionStyleModel",
          "state": {
            "_model_module": "@jupyter-widgets/controls",
            "_model_module_version": "1.5.0",
            "_model_name": "DescriptionStyleModel",
            "_view_count": null,
            "_view_module": "@jupyter-widgets/base",
            "_view_module_version": "1.2.0",
            "_view_name": "StyleView",
            "description_width": ""
          }
        },
        "ef2ec49f25ac49a19347dc62881fd126": {
          "model_module": "@jupyter-widgets/controls",
          "model_module_version": "1.5.0",
          "model_name": "HBoxModel",
          "state": {
            "_dom_classes": [],
            "_model_module": "@jupyter-widgets/controls",
            "_model_module_version": "1.5.0",
            "_model_name": "HBoxModel",
            "_view_count": null,
            "_view_module": "@jupyter-widgets/controls",
            "_view_module_version": "1.5.0",
            "_view_name": "HBoxView",
            "box_style": "",
            "children": [
              "IPY_MODEL_248062adb1934c58bb795a893225573a",
              "IPY_MODEL_fceb3e61640e48ccbce154b6e38b06fc",
              "IPY_MODEL_aacb71a61d494b67a4bb418b82547771"
            ],
            "layout": "IPY_MODEL_7797d0f53a1142faa3e874ff3522c93e"
          }
        },
        "f2265f08074b4805828e11523c791a09": {
          "model_module": "@jupyter-widgets/base",
          "model_module_version": "1.2.0",
          "model_name": "LayoutModel",
          "state": {
            "_model_module": "@jupyter-widgets/base",
            "_model_module_version": "1.2.0",
            "_model_name": "LayoutModel",
            "_view_count": null,
            "_view_module": "@jupyter-widgets/base",
            "_view_module_version": "1.2.0",
            "_view_name": "LayoutView",
            "align_content": null,
            "align_items": null,
            "align_self": null,
            "border": null,
            "bottom": null,
            "display": null,
            "flex": null,
            "flex_flow": null,
            "grid_area": null,
            "grid_auto_columns": null,
            "grid_auto_flow": null,
            "grid_auto_rows": null,
            "grid_column": null,
            "grid_gap": null,
            "grid_row": null,
            "grid_template_areas": null,
            "grid_template_columns": null,
            "grid_template_rows": null,
            "height": null,
            "justify_content": null,
            "justify_items": null,
            "left": null,
            "margin": null,
            "max_height": null,
            "max_width": null,
            "min_height": null,
            "min_width": null,
            "object_fit": null,
            "object_position": null,
            "order": null,
            "overflow": null,
            "overflow_x": null,
            "overflow_y": null,
            "padding": null,
            "right": null,
            "top": null,
            "visibility": null,
            "width": null
          }
        },
        "f2796f45caac4e97b2909142d3be698c": {
          "model_module": "@jupyter-widgets/base",
          "model_module_version": "1.2.0",
          "model_name": "LayoutModel",
          "state": {
            "_model_module": "@jupyter-widgets/base",
            "_model_module_version": "1.2.0",
            "_model_name": "LayoutModel",
            "_view_count": null,
            "_view_module": "@jupyter-widgets/base",
            "_view_module_version": "1.2.0",
            "_view_name": "LayoutView",
            "align_content": null,
            "align_items": null,
            "align_self": null,
            "border": null,
            "bottom": null,
            "display": null,
            "flex": null,
            "flex_flow": null,
            "grid_area": null,
            "grid_auto_columns": null,
            "grid_auto_flow": null,
            "grid_auto_rows": null,
            "grid_column": null,
            "grid_gap": null,
            "grid_row": null,
            "grid_template_areas": null,
            "grid_template_columns": null,
            "grid_template_rows": null,
            "height": null,
            "justify_content": null,
            "justify_items": null,
            "left": null,
            "margin": null,
            "max_height": null,
            "max_width": null,
            "min_height": null,
            "min_width": null,
            "object_fit": null,
            "object_position": null,
            "order": null,
            "overflow": null,
            "overflow_x": null,
            "overflow_y": null,
            "padding": null,
            "right": null,
            "top": null,
            "visibility": null,
            "width": null
          }
        },
        "f6742d27f5e7476fa17412855527d01e": {
          "model_module": "@jupyter-widgets/controls",
          "model_module_version": "1.5.0",
          "model_name": "FloatProgressModel",
          "state": {
            "_dom_classes": [],
            "_model_module": "@jupyter-widgets/controls",
            "_model_module_version": "1.5.0",
            "_model_name": "FloatProgressModel",
            "_view_count": null,
            "_view_module": "@jupyter-widgets/controls",
            "_view_module_version": "1.5.0",
            "_view_name": "ProgressView",
            "bar_style": "success",
            "description": "",
            "description_tooltip": null,
            "layout": "IPY_MODEL_90a83fa98dc64b63acb64802b5a8517b",
            "max": 99,
            "min": 0,
            "orientation": "horizontal",
            "style": "IPY_MODEL_a70af0d9cc7d4d83bb2066f4f41b914c",
            "value": 99
          }
        },
        "fceb3e61640e48ccbce154b6e38b06fc": {
          "model_module": "@jupyter-widgets/controls",
          "model_module_version": "1.5.0",
          "model_name": "FloatProgressModel",
          "state": {
            "_dom_classes": [],
            "_model_module": "@jupyter-widgets/controls",
            "_model_module_version": "1.5.0",
            "_model_name": "FloatProgressModel",
            "_view_count": null,
            "_view_module": "@jupyter-widgets/controls",
            "_view_module_version": "1.5.0",
            "_view_name": "ProgressView",
            "bar_style": "success",
            "description": "",
            "description_tooltip": null,
            "layout": "IPY_MODEL_767019ba03d04d40939a91ee96f9d1f3",
            "max": 31499,
            "min": 0,
            "orientation": "horizontal",
            "style": "IPY_MODEL_78537233a28b446ab48077e7a9a146c6",
            "value": 31499
          }
        }
      }
    }
  },
  "nbformat": 4,
  "nbformat_minor": 5
}
