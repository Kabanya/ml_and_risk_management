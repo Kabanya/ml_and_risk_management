{
  "cells": [
    {
      "cell_type": "markdown",
      "id": "5d49a6c5-d946-4edf-9e87-d9edf8fb8925",
      "metadata": {
        "id": "5d49a6c5-d946-4edf-9e87-d9edf8fb8925"
      },
      "source": [
        "# Интересное про python"
      ]
    },
    {
      "cell_type": "markdown",
      "id": "1b83a3ef-d098-43dd-95b1-24024f98d814",
      "metadata": {
        "id": "1b83a3ef-d098-43dd-95b1-24024f98d814"
      },
      "source": [
        "## Скорость Numpy"
      ]
    },
    {
      "cell_type": "markdown",
      "id": "f101c531-3690-4a18-943e-f22549b079f0",
      "metadata": {
        "id": "f101c531-3690-4a18-943e-f22549b079f0"
      },
      "source": [
        "NDArray работает в разы быстрее благодаря способу хранения информации"
      ]
    },
    {
      "cell_type": "code",
      "execution_count": null,
      "id": "ed7803e6",
      "metadata": {},
      "outputs": [],
      "source": [
        "import pandas as pd"
      ]
    },
    {
      "cell_type": "code",
      "execution_count": null,
      "id": "923607a2-9aff-4e68-88c4-f2360ac72e2b",
      "metadata": {
        "colab": {
          "base_uri": "https://localhost:8080/"
        },
        "id": "923607a2-9aff-4e68-88c4-f2360ac72e2b",
        "outputId": "635a0e38-daf4-4922-fe89-949c65150d8f"
      },
      "outputs": [],
      "source": [
        "a = [1, 2, 3, 300]\n",
        "\n",
        "for i in range(len(a)-1):\n",
        "\n",
        "    print(i, id(a[i]))\n",
        "    print(i+1, id(a[i+1]))\n",
        "    print('delta', id(a[i+1]) - id(a[i]))\n",
        "    print('--')"
      ]
    },
    {
      "cell_type": "markdown",
      "id": "3c092469-1471-4a2d-a345-b4237ce40c99",
      "metadata": {
        "id": "3c092469-1471-4a2d-a345-b4237ce40c99"
      },
      "source": [
        "Python использует хитрые оптимизации и кэширует целые числа от -5 до 256 в **непрерывной** области памяти"
      ]
    },
    {
      "cell_type": "code",
      "execution_count": null,
      "id": "815f80ae-6658-4f6f-acdc-e40da517ae22",
      "metadata": {
        "colab": {
          "base_uri": "https://localhost:8080/"
        },
        "id": "815f80ae-6658-4f6f-acdc-e40da517ae22",
        "outputId": "fed34329-9bd0-40bf-8459-d52562c092d8"
      },
      "outputs": [],
      "source": [
        "id(256) - id(0), id(257) - id(0)"
      ]
    },
    {
      "cell_type": "markdown",
      "id": "ddb9e2b0-94b3-4f4a-a924-33fa13a91ee2",
      "metadata": {
        "id": "ddb9e2b0-94b3-4f4a-a924-33fa13a91ee2"
      },
      "source": [
        "При повторном вызове строчки выше, мы получим другое значение во втором элементе ответа, так как python заново создаст объект 257 где-то в куче и расстояние между ним и объектом 0 уже будет другое"
      ]
    },
    {
      "cell_type": "code",
      "execution_count": null,
      "id": "aa150302-172f-40f5-b240-5f3d9be68aad",
      "metadata": {
        "colab": {
          "base_uri": "https://localhost:8080/"
        },
        "id": "aa150302-172f-40f5-b240-5f3d9be68aad",
        "outputId": "9eeabb6b-3da7-423e-ba56-7d8e5cd2438c"
      },
      "outputs": [],
      "source": [
        "id(256) - id(0), id(257) - id(0)"
      ]
    },
    {
      "cell_type": "markdown",
      "id": "adaf8206-88e7-4aab-ab62-7712a6aeb8a0",
      "metadata": {
        "id": "adaf8206-88e7-4aab-ab62-7712a6aeb8a0"
      },
      "source": [
        "## display()"
      ]
    },
    {
      "cell_type": "code",
      "execution_count": null,
      "id": "f96b5808-03ff-4b5f-914e-993cf353b852",
      "metadata": {
        "colab": {
          "base_uri": "https://localhost:8080/",
          "height": 193
        },
        "id": "f96b5808-03ff-4b5f-914e-993cf353b852",
        "outputId": "c6172a38-e170-473f-be82-1ceb682e3015"
      },
      "outputs": [],
      "source": [
        "a = [1, 2, 3]\n",
        "b = a\n",
        "del a\n",
        "print(b)\n",
        "# print(a)"
      ]
    },
    {
      "cell_type": "code",
      "execution_count": null,
      "id": "d560f384-49a1-4b54-82cf-df6030149425",
      "metadata": {
        "colab": {
          "base_uri": "https://localhost:8080/"
        },
        "id": "d560f384-49a1-4b54-82cf-df6030149425",
        "outputId": "16e7884a-c5cf-44dc-92b9-1af2a64dac20"
      },
      "outputs": [],
      "source": [
        "a = [1, 2, 3]\n",
        "b = a\n",
        "b[0] = 10\n",
        "print(a)"
      ]
    },
    {
      "cell_type": "code",
      "execution_count": null,
      "id": "38d19288-5ded-4122-8669-7905a644ab2d",
      "metadata": {
        "colab": {
          "base_uri": "https://localhost:8080/"
        },
        "id": "38d19288-5ded-4122-8669-7905a644ab2d",
        "outputId": "faf25aa9-63b1-45f2-b79a-4642ea2be0f3"
      },
      "outputs": [],
      "source": [
        "a = [1, 2, 3]\n",
        "b = a[:]\n",
        "b[0] = 10\n",
        "print(a)"
      ]
    },
    {
      "cell_type": "code",
      "execution_count": null,
      "id": "d9b92cbc-8c9b-4633-8633-0f661c0cfb29",
      "metadata": {
        "colab": {
          "base_uri": "https://localhost:8080/"
        },
        "id": "d9b92cbc-8c9b-4633-8633-0f661c0cfb29",
        "outputId": "1257b5f4-743e-42b2-e459-344ded4a3457"
      },
      "outputs": [],
      "source": [
        "a = [2, 4, 6]\n",
        "a"
      ]
    },
    {
      "cell_type": "code",
      "execution_count": null,
      "id": "b04Z7K1Bongp",
      "metadata": {
        "colab": {
          "base_uri": "https://localhost:8080/"
        },
        "id": "b04Z7K1Bongp",
        "outputId": "68bc6bfa-e307-422d-c243-222279530231"
      },
      "outputs": [],
      "source": [
        "a"
      ]
    },
    {
      "cell_type": "code",
      "execution_count": null,
      "id": "1290a3d7-4ea0-4123-a53b-7c60e7683aa0",
      "metadata": {
        "id": "1290a3d7-4ea0-4123-a53b-7c60e7683aa0"
      },
      "outputs": [],
      "source": [
        "# Обновляем куда указывает имя \"a\", по хорошему старые данные должны затереться\n",
        "a = [3, 5, 7]"
      ]
    },
    {
      "cell_type": "code",
      "execution_count": null,
      "id": "749a38f3-4914-469c-9410-84c9e08f4fcc",
      "metadata": {
        "colab": {
          "base_uri": "https://localhost:8080/",
          "height": 176
        },
        "id": "749a38f3-4914-469c-9410-84c9e08f4fcc",
        "outputId": "171d85e8-a60b-499b-fd46-57b2c4fac15a"
      },
      "outputs": [],
      "source": [
        "# Так как в IPython есть специальный массив куда сказываются аутпуты ячеек,\n",
        "# то старое содержимое \"a\" никуда не делось и всё равно весит в памяти\n",
        "# Out[144]"
      ]
    },
    {
      "cell_type": "code",
      "execution_count": null,
      "id": "hzWqtprPu-Gd",
      "metadata": {
        "colab": {
          "base_uri": "https://localhost:8080/",
          "height": 141
        },
        "id": "hzWqtprPu-Gd",
        "outputId": "a00c97c5-b268-4838-a853-8385331a4f6a"
      },
      "outputs": [],
      "source": [
        "df = pd.DataFrame()"
      ]
    },
    {
      "cell_type": "code",
      "execution_count": null,
      "id": "7Qm59MLfx2uI",
      "metadata": {
        "colab": {
          "base_uri": "https://localhost:8080/",
          "height": 141
        },
        "id": "7Qm59MLfx2uI",
        "outputId": "4e124301-62f0-4943-a13a-275fb4b0947f"
      },
      "outputs": [],
      "source": [
        "df"
      ]
    },
    {
      "cell_type": "code",
      "execution_count": null,
      "id": "5Dbo1q10o5dW",
      "metadata": {
        "id": "5Dbo1q10o5dW"
      },
      "outputs": [],
      "source": [
        "# df.drop(colums=['a'], inplace=True)"
      ]
    },
    {
      "cell_type": "code",
      "execution_count": null,
      "id": "OOd-Y9BPx3PL",
      "metadata": {
        "colab": {
          "base_uri": "https://localhost:8080/",
          "height": 34
        },
        "id": "OOd-Y9BPx3PL",
        "outputId": "f0a05140-328c-4f35-cb6e-bc9a89abda0f"
      },
      "outputs": [],
      "source": [
        "display([1, 2, 3])"
      ]
    },
    {
      "cell_type": "markdown",
      "id": "9b4bcfdd-6823-4c21-ac93-a6b6a86a6aca",
      "metadata": {
        "id": "9b4bcfdd-6823-4c21-ac93-a6b6a86a6aca"
      },
      "source": [
        "# Урок 3. Классификация"
      ]
    },
    {
      "cell_type": "code",
      "execution_count": null,
      "id": "807dfea4-00f1-4ca8-bfa1-65f3a80f1ce3",
      "metadata": {
        "id": "807dfea4-00f1-4ca8-bfa1-65f3a80f1ce3"
      },
      "outputs": [],
      "source": [
        "import numpy as np\n",
        "import pandas as pd"
      ]
    },
    {
      "cell_type": "markdown",
      "id": "76496879-4720-408c-af80-b2a32d3936a5",
      "metadata": {
        "id": "76496879-4720-408c-af80-b2a32d3936a5"
      },
      "source": [
        "## Смотрим на данные"
      ]
    },
    {
      "cell_type": "code",
      "execution_count": null,
      "id": "a3e8eeb8-d603-4178-964f-4bf53f024077",
      "metadata": {
        "colab": {
          "base_uri": "https://localhost:8080/"
        },
        "id": "a3e8eeb8-d603-4178-964f-4bf53f024077",
        "outputId": "fdfe44d3-173d-41b1-8fc1-1efe913116fa"
      },
      "outputs": [],
      "source": [
        "# Качаем данные\n",
        "# !gdown 1nCHCT5XWio5fSN0mYNwRbEzTGL_sIcN4"
      ]
    },
    {
      "cell_type": "markdown",
      "id": "94dfcecb-1f26-4bf5-b2e9-a23a4a7ba5c3",
      "metadata": {
        "id": "94dfcecb-1f26-4bf5-b2e9-a23a4a7ba5c3"
      },
      "source": [
        "Датасет заявок на кредит с информацией о клиента и флагом одобрение или отказ по заявке"
      ]
    },
    {
      "cell_type": "code",
      "execution_count": null,
      "id": "912c0907-a17c-46a4-9ab7-416af4a0a1c0",
      "metadata": {
        "id": "912c0907-a17c-46a4-9ab7-416af4a0a1c0"
      },
      "outputs": [],
      "source": [
        "#Считываем скачанный csv файл\n",
        "df = pd.read_csv('loan_data.csv')"
      ]
    },
    {
      "cell_type": "code",
      "execution_count": null,
      "id": "44b6d2dc-0884-46af-b27e-187f00bf3c74",
      "metadata": {
        "colab": {
          "base_uri": "https://localhost:8080/",
          "height": 424
        },
        "id": "44b6d2dc-0884-46af-b27e-187f00bf3c74",
        "outputId": "ff1565b7-ae33-471b-fedb-286d2ee2bd5f"
      },
      "outputs": [],
      "source": [
        "# Посмотрим на него\n",
        "display(df)"
      ]
    },
    {
      "cell_type": "code",
      "execution_count": null,
      "id": "7348c01e-1069-487c-98cd-aca4b9cd40f2",
      "metadata": {
        "id": "7348c01e-1069-487c-98cd-aca4b9cd40f2"
      },
      "outputs": [],
      "source": [
        "import seaborn as sns\n",
        "import matplotlib.pyplot as plt"
      ]
    },
    {
      "cell_type": "code",
      "execution_count": null,
      "id": "f94d63ee-e032-4cc8-88c7-efe1c56ebde7",
      "metadata": {
        "id": "f94d63ee-e032-4cc8-88c7-efe1c56ebde7"
      },
      "outputs": [],
      "source": [
        "# Заведём константу, чтобы каждый раз не вспоминать как называется колонка с таргетом\n",
        "TARGET = 'loan_status'"
      ]
    },
    {
      "cell_type": "code",
      "execution_count": null,
      "id": "90099179-7ea9-443e-900c-2a682b9d158f",
      "metadata": {
        "colab": {
          "base_uri": "https://localhost:8080/",
          "height": 523
        },
        "id": "90099179-7ea9-443e-900c-2a682b9d158f",
        "outputId": "deab72f9-2c60-4eac-e185-8991ec2896f0"
      },
      "outputs": [],
      "source": [
        "# Посмотрим на пропуски\n",
        "df.isna().sum()"
      ]
    },
    {
      "cell_type": "code",
      "execution_count": null,
      "id": "XL7D0f6GbRwl",
      "metadata": {
        "id": "XL7D0f6GbRwl"
      },
      "outputs": [],
      "source": [
        "df['age_bin'] = df['person_age'] #//6"
      ]
    },
    {
      "cell_type": "code",
      "execution_count": null,
      "id": "M0gWyjlWakzi",
      "metadata": {
        "colab": {
          "base_uri": "https://localhost:8080/",
          "height": 467
        },
        "id": "M0gWyjlWakzi",
        "outputId": "a4585518-4ef6-4011-bf77-0a9274244f17"
      },
      "outputs": [],
      "source": [
        "# Посмотрим на распределение среднего дохода в зависимости от возраста\n",
        "df[df['person_age'] < 80].groupby('age_bin')['person_income'].mean().plot()"
      ]
    },
    {
      "cell_type": "code",
      "execution_count": null,
      "id": "lCAG5HGabRfa",
      "metadata": {
        "id": "lCAG5HGabRfa"
      },
      "outputs": [],
      "source": [
        "df['age_bin'] = df['person_age'] // 6\n",
        "df[df['person_age'] < 80].groupby('age_bin')['person_income'].mean().plot()"
      ]
    },
    {
      "cell_type": "markdown",
      "id": "7f99d144-9f01-48b9-b8ce-adf83efc6c5b",
      "metadata": {
        "id": "7f99d144-9f01-48b9-b8ce-adf83efc6c5b"
      },
      "source": [
        "Пропусков нет - скучно :("
      ]
    },
    {
      "cell_type": "code",
      "execution_count": null,
      "id": "776447c7-cbe6-4a1f-8825-da0818fb0ed5",
      "metadata": {
        "id": "776447c7-cbe6-4a1f-8825-da0818fb0ed5"
      },
      "outputs": [],
      "source": [
        "from numpy import random\n",
        "# зашумим часть данных для дальнейшего интереса :-)\n",
        "\n",
        "# Зашумим случаный 1000 возрастов (может быть меньше с учетом коллизий индексов)\n",
        "# Это даст нам случайное распределение пустот\n",
        "df.loc[random.choice(range(df.shape[0]), 1000), 'person_age'] = np.nan\n",
        "\n",
        "# Уберём значительную часть доходов у людей, которые хотят взять кредит на образование\n",
        "# Это зашумление нам даст неслучайное смещение\n",
        "df.loc[df[df['loan_intent'] == 'EDUCATION'].sample(3000).index, 'person_income'] = np.nan"
      ]
    },
    {
      "cell_type": "code",
      "execution_count": null,
      "id": "7614ad81-3563-4548-b784-29eef24e4068",
      "metadata": {
        "colab": {
          "base_uri": "https://localhost:8080/",
          "height": 523
        },
        "id": "7614ad81-3563-4548-b784-29eef24e4068",
        "outputId": "f6530140-2bf5-4f8b-e0c7-9c13778e3f78"
      },
      "outputs": [],
      "source": [
        "df.isna().sum()\n"
      ]
    },
    {
      "cell_type": "code",
      "execution_count": null,
      "id": "10c2e9ff-54d2-4737-ae67-a55b08d2f56e",
      "metadata": {
        "colab": {
          "base_uri": "https://localhost:8080/"
        },
        "id": "10c2e9ff-54d2-4737-ae67-a55b08d2f56e",
        "outputId": "043af58b-e93a-49c7-e537-80e4c84e8a25"
      },
      "outputs": [],
      "source": [
        "# Проверим гипотезы про случайность/неслучайность получившихся пустот\n",
        "\n",
        "print('Target rate all:', df[TARGET].mean())\n",
        "\n",
        "print('--'*20)\n",
        "\n",
        "print('Target rate income null:', df[df['person_income'].isna()][TARGET].mean())\n",
        "print('Target rate income not null:', df[df['person_income'].notna()][TARGET].mean())\n",
        "\n",
        "print('--'*20)\n",
        "\n",
        "print('Target rate age null:', df[df['person_age'].isna()][TARGET].mean())\n",
        "print('Target rate age not null:', df[df['person_age'].notna()][TARGET].mean())"
      ]
    },
    {
      "cell_type": "markdown",
      "id": "aa8d889e-85a7-4126-9484-1da32f953282",
      "metadata": {
        "id": "aa8d889e-85a7-4126-9484-1da32f953282"
      },
      "source": [
        "## Попробуем обучить LogisticRegression"
      ]
    },
    {
      "cell_type": "code",
      "execution_count": null,
      "id": "10c02e3a-74f0-468f-b886-f1153b15f6c4",
      "metadata": {
        "id": "10c02e3a-74f0-468f-b886-f1153b15f6c4"
      },
      "outputs": [],
      "source": [
        "from sklearn.linear_model import LogisticRegression\n",
        "from sklearn.model_selection import train_test_split"
      ]
    },
    {
      "cell_type": "code",
      "execution_count": null,
      "id": "0e7de2b0-1d36-449b-bf90-93773e53ed27",
      "metadata": {
        "id": "0e7de2b0-1d36-449b-bf90-93773e53ed27"
      },
      "outputs": [],
      "source": [
        "# Разобъем на тренировочную и тестовую выборки\n",
        "train, test = train_test_split(df, test_size=0.25, random_state=43)"
      ]
    },
    {
      "cell_type": "code",
      "execution_count": null,
      "id": "224df87b-2269-46a3-a7da-4195d6b8aeef",
      "metadata": {
        "id": "224df87b-2269-46a3-a7da-4195d6b8aeef"
      },
      "outputs": [],
      "source": [
        "# Для простоты возьмём несколько числовых колонок в качестве факторов\n",
        "features = ['loan_amnt', 'loan_int_rate'] # loan_amnt - сумма кредита, loan_int_rate - процентная ставка"
      ]
    },
    {
      "cell_type": "code",
      "execution_count": null,
      "id": "ffc60063-81de-4539-a870-0520126d4d07",
      "metadata": {
        "id": "ffc60063-81de-4539-a870-0520126d4d07"
      },
      "outputs": [],
      "source": [
        "X_train = train[features]\n",
        "y_train = train[TARGET] #loan status - статус кредита (наш таргет)\n",
        "\n",
        "X_test = test[features]\n",
        "y_test = test[TARGET]"
      ]
    },
    {
      "cell_type": "code",
      "execution_count": null,
      "id": "b66b40d4-fc98-42d3-96f5-7a13800b5207",
      "metadata": {
        "colab": {
          "base_uri": "https://localhost:8080/",
          "height": 80
        },
        "id": "b66b40d4-fc98-42d3-96f5-7a13800b5207",
        "outputId": "7dd3e499-37f4-41b2-d955-3892d4985935"
      },
      "outputs": [],
      "source": [
        "lr = LogisticRegression()\n",
        "lr.fit(X_train, y_train)"
      ]
    },
    {
      "cell_type": "code",
      "execution_count": null,
      "id": "0pd0mYAFRDr-",
      "metadata": {
        "id": "0pd0mYAFRDr-"
      },
      "outputs": [],
      "source": [
        "def least_squared_estimator(X, y, learn_intercept=False):\n",
        "  X = np.array(X)\n",
        "  if learn_intercept:\n",
        "    X = np.concatenate([np.ones((X.shape[0], 1), ), X ], axis=1)\n",
        "  coefs = np.linalg.inv(X.T @ X) @ X.T @ y\n",
        "  return coefs"
      ]
    },
    {
      "cell_type": "code",
      "execution_count": null,
      "id": "8f4sN32ARFjV",
      "metadata": {
        "id": "8f4sN32ARFjV"
      },
      "outputs": [],
      "source": [
        "coefs = least_squared_estimator(X_train, y_train, learn_intercept=True)\n",
        "f = lambda x: coefs[0] + coefs[1] * x[:, 0] + coefs[2] * x[:, 1]\n",
        "\n",
        "print(f)"
      ]
    },
    {
      "cell_type": "code",
      "execution_count": null,
      "id": "sfQS9eT9RWxn",
      "metadata": {
        "colab": {
          "base_uri": "https://localhost:8080/"
        },
        "id": "sfQS9eT9RWxn",
        "outputId": "25d115cb-1dc4-4e39-dac8-9f01c7758f18"
      },
      "outputs": [],
      "source": [
        "coefs"
      ]
    },
    {
      "cell_type": "code",
      "execution_count": null,
      "id": "985a1473-0117-4cf6-8078-369cd639a660",
      "metadata": {
        "id": "985a1473-0117-4cf6-8078-369cd639a660"
      },
      "outputs": [],
      "source": [
        "train['predict'] = lr.predict(X_train)\n",
        "test['predict'] = lr.predict(X_test)\n",
        "\n",
        "\n",
        "train['predict_proba'] = lr.predict_proba(X_train)[:, 1]\n",
        "test['predict_proba'] = lr.predict_proba(X_test)[:, 1]"
      ]
    },
    {
      "cell_type": "code",
      "execution_count": null,
      "id": "ki75MtDWRnRk",
      "metadata": {
        "id": "ki75MtDWRnRk"
      },
      "outputs": [],
      "source": [
        "train['predict_naive'] = f(X_train.values)\n",
        "test['predict_naive'] = f(X_test.values)"
      ]
    },
    {
      "cell_type": "code",
      "execution_count": null,
      "id": "aNO6AqkKM4Ea",
      "metadata": {
        "id": "aNO6AqkKM4Ea"
      },
      "outputs": [],
      "source": [
        "import matplotlib as mpl\n",
        "\n",
        "train_sample = train.sample(2500)\n",
        "test_sample = test.sample(2500)\n",
        "\n",
        "print(train_sample)"
      ]
    },
    {
      "cell_type": "markdown",
      "id": "-9ctDk5bZeQk",
      "metadata": {
        "id": "-9ctDk5bZeQk"
      },
      "source": [
        "Посмотрим как мы попали на Train"
      ]
    },
    {
      "cell_type": "code",
      "execution_count": null,
      "id": "udzGZvE_ZKGo",
      "metadata": {
        "colab": {
          "base_uri": "https://localhost:8080/",
          "height": 455
        },
        "id": "udzGZvE_ZKGo",
        "outputId": "1a09f32d-2eda-4079-a78b-ad7d544129ec"
      },
      "outputs": [
        {
          "data": {
            "image/png": "[encoded data removed]",
            "text/plain": [
              "<Figure size 640x480 with 2 Axes>"
            ]
          },
          "metadata": {},
          "output_type": "display_data"
        }
      ],
      "source": [
        "cmap = sns.color_palette('ch:', as_cmap= True)\n",
        "sm = plt.cm.ScalarMappable(cmap=cmap, norm=mpl.colors.Normalize())\n",
        "scatter = sns.scatterplot(data=train_sample, x='loan_amnt', y='loan_int_rate', hue=TARGET, hue_norm=sm.norm, palette= cmap, legend= False)\n",
        "cbar = plt.colorbar(sm, ax = plt.gca())\n",
        "cbar.set_label('hue')"
      ]
    },
    {
      "cell_type": "code",
      "execution_count": null,
      "id": "9482b65e-81ab-4934-8d07-24ac7115d43c",
      "metadata": {
        "colab": {
          "base_uri": "https://localhost:8080/",
          "height": 455
        },
        "id": "9482b65e-81ab-4934-8d07-24ac7115d43c",
        "outputId": "4c9d8b84-8c38-46af-be9f-2d4d8156d762"
      },
      "outputs": [],
      "source": [
        "#плохой способ, predict 0,5\n",
        "cmap= sns.color_palette('ch:', as_cmap= True)\n",
        "sm = plt.cm.ScalarMappable(cmap=cmap, norm=mpl.colors.Normalize())\n",
        "scatter = sns.scatterplot(data=train_sample, x='loan_amnt', y='loan_int_rate', hue='predict', hue_norm=sm.norm, palette= cmap, legend= False);\n",
        "cbar = plt.colorbar(sm, ax = plt.gca())\n",
        "cbar.set_label('hue')"
      ]
    },
    {
      "cell_type": "code",
      "execution_count": null,
      "id": "BqMgyDZwDjvs",
      "metadata": {
        "colab": {
          "base_uri": "https://localhost:8080/",
          "height": 455
        },
        "id": "BqMgyDZwDjvs",
        "outputId": "7b0e08d8-f774-4d31-bb14-5aff02a4b723"
      },
      "outputs": [],
      "source": [
        "#хороший способ, порог настраиваем сами\n",
        "train_sample['new_predict'] = (train_sample['predict_proba'] > 0.44).astype(int)\n",
        "cmap= sns.color_palette('ch:', as_cmap= True)\n",
        "sm = plt.cm.ScalarMappable(cmap=cmap, norm=mpl.colors.Normalize())\n",
        "scatter = sns.scatterplot(data=train_sample, x='loan_amnt', y='loan_int_rate', hue='new_predict', hue_norm=sm.norm, palette= cmap, legend= False)\n",
        "cbar = plt.colorbar(sm, ax = plt.gca())\n",
        "cbar.set_label('hue')"
      ]
    },
    {
      "cell_type": "code",
      "execution_count": null,
      "id": "73fAzeykZZoS",
      "metadata": {
        "colab": {
          "base_uri": "https://localhost:8080/",
          "height": 450
        },
        "id": "73fAzeykZZoS",
        "outputId": "5adc1262-195c-4ff4-e21e-007cd8d7874d"
      },
      "outputs": [],
      "source": [
        "#градиент цвета, норм подход\n",
        "cmap= sns.color_palette('ch:', as_cmap= True)\n",
        "sm = plt.cm.ScalarMappable(cmap=cmap, norm=mpl.colors.Normalize())\n",
        "scatter = sns.scatterplot(data=train_sample, x='loan_amnt', y='loan_int_rate', hue='predict_proba', hue_norm=sm.norm, palette= cmap, legend= False);\n",
        "cbar = plt.colorbar(sm, ax = plt.gca())\n",
        "cbar.set_label('hue')"
      ]
    },
    {
      "cell_type": "code",
      "execution_count": null,
      "id": "J3338AzlRwY-",
      "metadata": {
        "colab": {
          "base_uri": "https://localhost:8080/",
          "height": 455
        },
        "id": "J3338AzlRwY-",
        "outputId": "3de34d5c-7140-40c5-c79e-4dd42f02d768"
      },
      "outputs": [],
      "source": [
        "#наивный подход \n",
        "train_sample['new_predict'] = (train_sample['predict_naive'] > 0.1).astype(int)\n",
        "cmap= sns.color_palette('ch:', as_cmap= True)\n",
        "sm = plt.cm.ScalarMappable(cmap=cmap, norm=mpl.colors.Normalize())\n",
        "scatter = sns.scatterplot(data=train_sample, x='loan_amnt', y='loan_int_rate', hue='new_predict', hue_norm=sm.norm, palette= cmap, legend= False);\n",
        "cbar = plt.colorbar(sm, ax = plt.gca())\n",
        "cbar.set_label('hue')"
      ]
    },
    {
      "cell_type": "markdown",
      "id": "9kcW6Fr5Zhi3",
      "metadata": {
        "id": "9kcW6Fr5Zhi3"
      },
      "source": [
        "Посмотрим как мы попали на Test"
      ]
    },
    {
      "cell_type": "code",
      "execution_count": null,
      "id": "ppe7aPriZkIm",
      "metadata": {
        "id": "ppe7aPriZkIm"
      },
      "outputs": [],
      "source": [
        "cmap = sns.color_palette('ch:', as_cmap= True)\n",
        "sm = plt.cm.ScalarMappable(cmap=cmap, norm=mpl.colors.Normalize())\n",
        "scatter = sns.scatterplot(data=test_sample, x='loan_amnt', y='loan_int_rate', hue=TARGET, hue_norm=sm.norm, palette= cmap, legend= False);\n",
        "cbar = plt.colorbar(sm, ax = plt.gca())\n",
        "cbar.set_label('hue')"
      ]
    },
    {
      "cell_type": "code",
      "execution_count": null,
      "id": "EcGs2S4XZFRr",
      "metadata": {
        "id": "EcGs2S4XZFRr"
      },
      "outputs": [],
      "source": [
        "cmap= sns.color_palette('ch:', as_cmap= True)\n",
        "sm = plt.cm.ScalarMappable(cmap=cmap, norm=mpl.colors.Normalize())\n",
        "scatter = sns.scatterplot(data=test_sample, x='loan_amnt', y='loan_int_rate', hue='predict', hue_norm=sm.norm, palette= cmap, legend= False);\n",
        "cbar = plt.colorbar(sm, ax = plt.gca())\n",
        "cbar.set_label('hue')"
      ]
    },
    {
      "cell_type": "code",
      "execution_count": null,
      "id": "BDsHbDUQZqME",
      "metadata": {
        "id": "BDsHbDUQZqME"
      },
      "outputs": [],
      "source": [
        "cmap= sns.color_palette('ch:', as_cmap= True)\n",
        "sm = plt.cm.ScalarMappable(cmap=cmap, norm=mpl.colors.Normalize())\n",
        "scatter = sns.scatterplot(data=test_sample, x='loan_amnt', y='loan_int_rate', hue='predict_proba', hue_norm=sm.norm, palette= cmap, legend= False);\n",
        "cbar = plt.colorbar(sm, ax = plt.gca())\n",
        "cbar.set_label('hue')"
      ]
    },
    {
      "cell_type": "markdown",
      "id": "KbY5r0_gZuKs",
      "metadata": {
        "id": "KbY5r0_gZuKs"
      },
      "source": [
        "### Посчитаем Метрики"
      ]
    },
    {
      "cell_type": "code",
      "execution_count": null,
      "id": "ekz3Kh9XNDqF",
      "metadata": {
        "id": "ekz3Kh9XNDqF"
      },
      "outputs": [],
      "source": [
        "# Для начала заимпортим их\n",
        "from sklearn.metrics import accuracy_score, roc_auc_score, recall_score, precision_score, confusion_matrix, ConfusionMatrixDisplay"
      ]
    },
    {
      "cell_type": "code",
      "execution_count": null,
      "id": "YS9Rffgyay30",
      "metadata": {
        "colab": {
          "base_uri": "https://localhost:8080/",
          "height": 466
        },
        "id": "YS9Rffgyay30",
        "outputId": "46f4eed4-540b-4cdd-fc7c-d33ca7a1cb5a"
      },
      "outputs": [],
      "source": [
        "# Нарисуем Confusion Matrix\n",
        "ConfusionMatrixDisplay(confusion_matrix(train[TARGET], train['predict'])).plot()"
      ]
    },
    {
      "cell_type": "markdown",
      "id": "f4ea6847",
      "metadata": {},
      "source": [
        "Верхняя левая (25494):\n",
        "Истинный класс: 0\n",
        "Предсказанный класс: 0\n",
        "Значение: Это количество объектов, которые на самом деле относятся к классу 0, и модель правильно предсказала их как класс 0. Это Истинно Отрицательные (True Negatives, TN). Модель молодец.\n",
        "\n",
        "Верхняя правая (717):\n",
        "Истинный класс: 0\n",
        "Предсказанный класс: 1\n",
        "Значение: Это количество объектов, которые на самом деле относятся к классу 0, но модель ошибочно предсказала их как класс 1. Это Ложно Положительные (False Positives, FP), или \"ошибка I рода\". Модель ошиблась.\n",
        "\n",
        "Нижняя левая (6300):\n",
        "Истинный класс: 1\n",
        "Предсказанный класс: 0\n",
        "Значение: Это количество объектов, которые на самом деле относятся к классу 1, но модель ошибочно предсказала их как класс 0. Это Ложно Отрицательные (False Negatives, FN), или \"ошибка II рода\". Модель ошиблась (возможно, это самая критичная ошибка, если класс 1 - это что-то важное, например, болезнь).\n",
        "\n",
        "Нижняя правая (1239):\n",
        "Истинный класс: 1\n",
        "Предсказанный класс: 1\n",
        "Значение: Это количество объектов, которые на самом деле относятся к классу 1, и модель правильно предсказала их как класс 1. Это Истинно Положительные (True Positives, TP). Модель молодец."
      ]
    },
    {
      "cell_type": "code",
      "execution_count": null,
      "id": "7mAf7OeNNDuC",
      "metadata": {
        "colab": {
          "base_uri": "https://localhost:8080/"
        },
        "id": "7mAf7OeNNDuC",
        "outputId": "4cd56fef-fe78-45ce-d44b-1c6ca87161d7"
      },
      "outputs": [],
      "source": [
        "# train\n",
        "accuracy_score(train[TARGET], train['predict'])"
      ]
    },
    {
      "cell_type": "code",
      "execution_count": null,
      "id": "m5bIkbFTZ-np",
      "metadata": {
        "colab": {
          "base_uri": "https://localhost:8080/"
        },
        "id": "m5bIkbFTZ-np",
        "outputId": "347cc156-11ee-4673-da91-6f42fab51aa2"
      },
      "outputs": [],
      "source": [
        "# train\n",
        "accuracy_score(train[TARGET], [0] * train.shape[0])"
      ]
    },
    {
      "cell_type": "code",
      "execution_count": null,
      "id": "AgzFsigmagWN",
      "metadata": {
        "colab": {
          "base_uri": "https://localhost:8080/"
        },
        "id": "AgzFsigmagWN",
        "outputId": "353ff36a-a7cf-4372-c174-36fb5e0d2f37"
      },
      "outputs": [],
      "source": [
        "# test\n",
        "accuracy_score(test[TARGET], test['predict'])"
      ]
    },
    {
      "cell_type": "code",
      "execution_count": null,
      "id": "_fxW1e6caE25",
      "metadata": {
        "colab": {
          "base_uri": "https://localhost:8080/"
        },
        "id": "_fxW1e6caE25",
        "outputId": "279caea0-e676-46e1-e297-49c93311d350"
      },
      "outputs": [],
      "source": [
        "accuracy_score(train[TARGET], (train['predict_proba'] > 0.44).astype(int))"
      ]
    },
    {
      "cell_type": "code",
      "execution_count": null,
      "id": "D9xPn_DXaY2Z",
      "metadata": {
        "colab": {
          "base_uri": "https://localhost:8080/"
        },
        "id": "D9xPn_DXaY2Z",
        "outputId": "99e6d34c-dfc5-4216-ac26-8965b2279a1a"
      },
      "outputs": [],
      "source": [
        "# train\n",
        "precision_score(train[TARGET], train['predict'])"
      ]
    },
    {
      "cell_type": "code",
      "execution_count": null,
      "id": "OETy-R7yaY7l",
      "metadata": {
        "colab": {
          "base_uri": "https://localhost:8080/"
        },
        "id": "OETy-R7yaY7l",
        "outputId": "75fd4eb6-3d22-4433-b4a1-e27d9fe4e878"
      },
      "outputs": [],
      "source": [
        "# test\n",
        "precision_score(test[TARGET], test['predict'])"
      ]
    },
    {
      "cell_type": "code",
      "execution_count": null,
      "id": "EEhZeVijaE51",
      "metadata": {
        "colab": {
          "base_uri": "https://localhost:8080/"
        },
        "id": "EEhZeVijaE51",
        "outputId": "85d301d0-b339-485c-e9bc-f4687fb73b53"
      },
      "outputs": [],
      "source": [
        "# train\n",
        "recall_score(train[TARGET], train['predict'])"
      ]
    },
    {
      "cell_type": "code",
      "execution_count": null,
      "id": "K01MvSZwap7J",
      "metadata": {
        "colab": {
          "base_uri": "https://localhost:8080/"
        },
        "id": "K01MvSZwap7J",
        "outputId": "c8e743bf-151f-4271-8473-74cafc8b7b0c"
      },
      "outputs": [],
      "source": [
        "# test\n",
        "recall_score(test[TARGET], test['predict'])"
      ]
    },
    {
      "cell_type": "code",
      "execution_count": null,
      "id": "yk1LERHwcHV3",
      "metadata": {
        "colab": {
          "base_uri": "https://localhost:8080/"
        },
        "id": "yk1LERHwcHV3",
        "outputId": "0443d9a4-703b-48e3-d505-ac0d36a3577c"
      },
      "outputs": [],
      "source": [
        "# train\n",
        "roc_auc_score(train[TARGET], train['predict'])"
      ]
    },
    {
      "cell_type": "code",
      "execution_count": null,
      "id": "yM225FAzcHZA",
      "metadata": {
        "colab": {
          "base_uri": "https://localhost:8080/"
        },
        "id": "yM225FAzcHZA",
        "outputId": "1f9c9b04-2db2-4ad9-c9e5-e24893e9830f"
      },
      "outputs": [],
      "source": [
        "# test\n",
        "roc_auc_score(test[TARGET], test['predict'])"
      ]
    },
    {
      "cell_type": "code",
      "execution_count": null,
      "id": "RC3WZuKJcMq7",
      "metadata": {
        "colab": {
          "base_uri": "https://localhost:8080/"
        },
        "id": "RC3WZuKJcMq7",
        "outputId": "dffd2203-da6d-4068-8910-f5f5848b627d"
      },
      "outputs": [],
      "source": [
        "# train\n",
        "roc_auc_score(train[TARGET], train['predict_proba'])"
      ]
    },
    {
      "cell_type": "code",
      "execution_count": null,
      "id": "gNpJDBzncMt0",
      "metadata": {
        "colab": {
          "base_uri": "https://localhost:8080/"
        },
        "id": "gNpJDBzncMt0",
        "outputId": "704ab3b8-b439-43dd-e410-28769ffd75f4"
      },
      "outputs": [],
      "source": [
        "# test\n",
        "roc_auc_score(test[TARGET], test['predict_proba'])"
      ]
    },
    {
      "cell_type": "code",
      "execution_count": null,
      "id": "PPNZ_bBfcQ9q",
      "metadata": {
        "colab": {
          "base_uri": "https://localhost:8080/"
        },
        "id": "PPNZ_bBfcQ9q",
        "outputId": "9094376d-1637-4ede-fe4c-26cc91b598e2"
      },
      "outputs": [],
      "source": [
        "roc_auc_score(train[TARGET], train['predict_naive'])"
      ]
    },
    {
      "cell_type": "code",
      "execution_count": null,
      "id": "worCRkUjUW3A",
      "metadata": {
        "colab": {
          "base_uri": "https://localhost:8080/"
        },
        "id": "worCRkUjUW3A",
        "outputId": "be7d8a43-d02e-4e8c-91dd-ea5e889313bc"
      },
      "outputs": [],
      "source": [
        "roc_auc_score(test[TARGET], test['predict_naive'])"
      ]
    },
    {
      "cell_type": "code",
      "execution_count": null,
      "id": "j0l9HsPnVxDd",
      "metadata": {
        "colab": {
          "base_uri": "https://localhost:8080/",
          "height": 1000,
          "referenced_widgets": [
            "0100837e6bcb403da1e333a98d1ead50",
            "29937285e3714dc1b8724c7679742d5b",
            "b81f4be356834d4d8cc5cf958b831553",
            "94453e9d3a79404889237ccd7bcf06a8",
            "bcae43374b774a619cb675ff346d41e4",
            "e5f619db4dbe4e37a6d229abeae032e5",
            "d915c3255e344d408d4f6caa03386e22",
            "c9e72a3ae3a3446d91fd544fdfdcae5a",
            "a05e3557bde8430eaae652f390552a1c",
            "fef91b72384942cfbda103a6317573a6",
            "32fec8ddb4a04f4184a14a9889aa6cbd"
          ]
        },
        "id": "j0l9HsPnVxDd",
        "outputId": "291a1ba6-8f37-4fa0-8cc0-91413e3bd83b"
      },
      "outputs": [],
      "source": [
        "from tqdm.auto import tqdm\n",
        "stats = []\n",
        "for threshold in tqdm(np.linspace(0.01, 1, 100)):\n",
        "    stats.append({\n",
        "        'threshold': threshold,\n",
        "        'accuracy': accuracy_score(train[TARGET], (train['predict_proba'] > threshold).astype(int)),\n",
        "        'accuracy_naive': accuracy_score(train[TARGET], (train['predict_naive'] > threshold).astype(int)),\n",
        "        'precision': precision_score(train[TARGET], (train['predict_proba'] > threshold).astype(int), zero_division=0),\n",
        "        'precision_naive': precision_score(train[TARGET], (train['predict_naive'] > threshold).astype(int), zero_division=0),\n",
        "        'recall': recall_score(train[TARGET], (train['predict_proba'] > threshold).astype(int), zero_division=0),\n",
        "        'recall_naive': recall_score(train[TARGET], (train['predict_naive'] > threshold).astype(int), zero_division=0),\n",
        "    })\n",
        "stats = pd.DataFrame(stats)"
      ]
    },
    {
      "cell_type": "code",
      "execution_count": null,
      "id": "CO0o855ejlCa",
      "metadata": {
        "colab": {
          "base_uri": "https://localhost:8080/",
          "height": 466
        },
        "id": "CO0o855ejlCa",
        "outputId": "6f54aef5-7515-40e3-e99e-e9c8d17a3f4f"
      },
      "outputs": [],
      "source": [
        "sns.lineplot(data=stats, x='threshold', y='accuracy', label='accuracy')\n",
        "sns.lineplot(data=stats, x='threshold', y='accuracy_naive',  label='accuracy_naive')"
      ]
    },
    {
      "cell_type": "code",
      "execution_count": null,
      "id": "yLSssA8bjymy",
      "metadata": {
        "colab": {
          "base_uri": "https://localhost:8080/",
          "height": 466
        },
        "id": "yLSssA8bjymy",
        "outputId": "ea00b549-dd5d-4c17-ba0a-7acf7328c9ef"
      },
      "outputs": [],
      "source": [
        "sns.lineplot(data=stats, x='threshold', y='precision', label='precision')\n",
        "sns.lineplot(data=stats, x='threshold', y='precision_naive',  label='precision_naive')"
      ]
    },
    {
      "cell_type": "code",
      "execution_count": null,
      "id": "1K07JIa3jyhh",
      "metadata": {
        "colab": {
          "base_uri": "https://localhost:8080/",
          "height": 466
        },
        "id": "1K07JIa3jyhh",
        "outputId": "0200bbf0-5e2f-4f10-b1da-259a64fec557"
      },
      "outputs": [],
      "source": [
        "sns.lineplot(data=stats, x='threshold', y='recall', label='recall')\n",
        "sns.lineplot(data=stats, x='threshold', y='recall_naive',  label='recall_naive')"
      ]
    },
    {
      "cell_type": "markdown",
      "id": "MGaRoFcwcTP8",
      "metadata": {
        "id": "MGaRoFcwcTP8"
      },
      "source": [
        "### Таргет рейт в бинах скоров модели (калибровка)"
      ]
    },
    {
      "cell_type": "code",
      "execution_count": null,
      "id": "BTUBCQPGcRCE",
      "metadata": {
        "id": "BTUBCQPGcRCE"
      },
      "outputs": [],
      "source": [
        "# Посчитаем равномерные бины по скору на train\n",
        "_, bins = pd.qcut(train['predict_proba'], q=20, retbins=True)\n",
        "\n",
        "# Пременим их к train и test\n",
        "train['proba_bin'] = pd.cut(train['predict_proba'], bins=bins)\n",
        "test['proba_bin'] = pd.cut(test['predict_proba'], bins=bins)"
      ]
    },
    {
      "cell_type": "code",
      "execution_count": null,
      "id": "j4BjgNlwcREs",
      "metadata": {
        "colab": {
          "base_uri": "https://localhost:8080/",
          "height": 763
        },
        "id": "j4BjgNlwcREs",
        "outputId": "3f6ac182-9fe8-47d4-c3d8-c02c11eedcc4"
      },
      "outputs": [],
      "source": [
        "# Внутри бинов посчитаем средний таргет и среднюю predict_proba\n",
        "train_stats = train.groupby(['proba_bin'])[['predict_proba', TARGET]].mean()\n",
        "display(train_stats)"
      ]
    },
    {
      "cell_type": "code",
      "execution_count": null,
      "id": "YR4RbX-UWr42",
      "metadata": {
        "id": "YR4RbX-UWr42"
      },
      "outputs": [],
      "source": [
        "from sklearn.calibration import CalibratedClassifierCV\n",
        "from sklearn.linear_model import LogisticRegression\n",
        "\n",
        "# Create a base model and fit it first\n",
        "base_model = LogisticRegression()\n",
        "base_model.fit(train[['predict_proba']], train[TARGET])\n",
        "\n",
        "# Create a calibration model with the fitted estimator\n",
        "calibration = CalibratedClassifierCV(estimator=base_model, cv='prefit')\n",
        "# Fit the calibration model\n",
        "calibration.fit(train[['predict_proba']], train[TARGET])\n",
        "\n",
        "# Use the calibrated model to predict probabilities\n",
        "train['predict_proba_calib'] = calibration.predict_proba(train[['predict_proba']])[:, 1]\n",
        "test['predict_proba_calib'] = calibration.predict_proba(test[['predict_proba']])[:, 1]"
      ]
    },
    {
      "cell_type": "code",
      "execution_count": null,
      "id": "NcrtTrI0c4ln",
      "metadata": {
        "colab": {
          "base_uri": "https://localhost:8080/",
          "height": 719
        },
        "id": "NcrtTrI0c4ln",
        "outputId": "ba34829e-5477-4cd5-e031-e166ab161e3e"
      },
      "outputs": [],
      "source": [
        "train_stats.plot()\n",
        "plt.xticks(rotation=45)"
      ]
    },
    {
      "cell_type": "code",
      "execution_count": null,
      "id": "3TBW2EWkcobU",
      "metadata": {
        "colab": {
          "base_uri": "https://localhost:8080/",
          "height": 774
        },
        "id": "3TBW2EWkcobU",
        "outputId": "ba0129d3-5de5-4889-8ee3-66a4100cc3f7"
      },
      "outputs": [],
      "source": [
        "valid_stats = test.groupby(['proba_bin'])[['predict_proba', TARGET]].mean()\n",
        "valid_stats.plot()\n",
        "plt.xticks(rotation=45)"
      ]
    },
    {
      "cell_type": "markdown",
      "id": "NVMmop6FMe2j",
      "metadata": {
        "id": "NVMmop6FMe2j"
      },
      "source": [
        "# Домашнее Задание"
      ]
    },
    {
      "cell_type": "code",
      "execution_count": null,
      "id": "1HH8joSWbiiJ",
      "metadata": {
        "id": "1HH8joSWbiiJ"
      },
      "outputs": [],
      "source": [
        "from sklearn.linear_model import LogisticRegression\n",
        "import numpy as np\n",
        "import pandas as pd"
      ]
    },
    {
      "cell_type": "markdown",
      "id": "q9F6n3Z4MbdC",
      "metadata": {
        "id": "q9F6n3Z4MbdC"
      },
      "source": [
        "## Logistic Regression (Своими Силами)\n",
        "\n",
        "1. Дописать код градиентного спуска ниже\n",
        "2. Поиграться с датасетом, предложеннным выше\n",
        "3. Построить свою версию Логистической регресии (на каком-то одном числовом факторе без пропусков), сравнить результаты с LogisticRegression из SKlearn (Оценить метрики - ROC AUC, подобрать порог и Построить Confusion Matrix, а так же производные метрики от неё )\n",
        "4. Заполнить пропуски, обработать категориальные переменные, обучить свою версию модели и Logistic Regression, сравнить качество между ними (см п.3) + с моделями из п.3 (как добавление бОльшего количества факторов влияет на качество модели)\n",
        "5. *Поиграться с нормировкой данных (sklearn.model_selection.StandardScaler) оценить эффект на веса модели и её качество\n",
        "6. Разбить факторы на Клиентские/Продуктовые/Кредитная История и построить по одной модели на каждом факторе. Затем построить мета-модель (интегральная модель) на трёх факторах - скорах метамоделях (дрейверы) - Сравнить результаты по каждому из драйеров + интегральной модели с одной моделью на всём факторном прстранстве.\n",
        "7. *Привести график качества (ROC AUC) модели на фиксированной тренировочной выборке в зависимости от количества наблюдений, которые используются при обучении (train выборка). Например: 100, 500, 1000 и тд.\n",
        "\n",
        "*- задания со звёздочкой, не обязательно, но довольно интересные"
      ]
    },
    {
      "cell_type": "code",
      "execution_count": null,
      "id": "NKM2JBDvMaiW",
      "metadata": {
        "id": "NKM2JBDvMaiW"
      },
      "outputs": [],
      "source": [
        "def sigmoid(z):\n",
        "  return (1+np.exp(-z))**-1\n",
        "\n",
        "def logloss(w, X, y):\n",
        "    return np.log2(1 + np.exp(-(X @ w)*y)).mean()"
      ]
    },
    {
      "cell_type": "code",
      "execution_count": null,
      "id": "pvyopnqQMjvj",
      "metadata": {
        "id": "pvyopnqQMjvj"
      },
      "outputs": [],
      "source": [
        "# Реализуем собственный класс логистической регрессии\n",
        "class MyLogisticRegression:\n",
        "    def __init__(self, lr=1e-4, bias=True):\n",
        "      self.bias = bool(bias)\n",
        "      self.weights = None\n",
        "      self.lr = lr\n",
        "\n",
        "    def preproc_x(self, X):\n",
        "      # Добавляем bias если требуется\n",
        "      return np.hstack([np.ones((X.shape[0], 1)), X]) if self.bias else X\n",
        "\n",
        "    def fit(self, X, y, c_epoch=1000):\n",
        "      # Инициализируем веса\n",
        "      self.weights = np.ones(X.shape[1]+self.bias)\n",
        "\n",
        "      self.X = self.preproc_x(X)\n",
        "      self.y = y\n",
        "\n",
        "      # Стохастический градиентный спуск\n",
        "      # Итерируемся по количеству эпох\n",
        "      for i in range(c_epoch):\n",
        "        # Перешмешиваем наблюдения случайным образом\n",
        "        ids = list(range(self.X.shape[0]))\n",
        "        np.random.shuffle(ids)\n",
        "\n",
        "        # итерируемся по наблюдениям\n",
        "        for j in ids:\n",
        "          p = sigmoid(np.dot(self.X[j], self.weights))\n",
        "          # !TODO: Реализовать самостоятельно\n",
        "          self.weights += self.lr * (p - self.y[j]) * self.X[j] # <производная dL по dW> (БЫЛА В СЛАЙДАХ)\n",
        "\n",
        "        print(i , ':', logloss(self.weights, self.X, self.y))\n",
        "\n",
        "    def predict_proba(self, X):\n",
        "      X = self.preproc_x(X)\n",
        "      return sigmoid((X @ self.weights)*1)\n",
        "\n",
        "    def predict(self, X):\n",
        "      X = self.preproc_x(X)\n",
        "      preds = (sigmoid((X @ self.weights)*1) > 0.5).astype(int)\n",
        "      preds[preds == 0] = -1\n",
        "      return preds"
      ]
    },
    {
      "cell_type": "code",
      "execution_count": null,
      "id": "Hag9CGTTbR1i",
      "metadata": {
        "id": "Hag9CGTTbR1i"
      },
      "outputs": [],
      "source": [
        "# Считываем скачанный csv файл\n",
        "df = pd.read_csv('loan_data.csv')"
      ]
    },
    {
      "cell_type": "code",
      "execution_count": null,
      "id": "PK9kP4xnbR5v",
      "metadata": {
        "id": "PK9kP4xnbR5v"
      },
      "outputs": [],
      "source": [
        "from numpy import random\n",
        "# зашумим часть данных для дальнейшего интереса :-)\n",
        "\n",
        "# Зашумим случаный 1000 возрастов (может быть меньше с учетом коллизий индексов)\n",
        "# Это даст нам случайное распределение пустот\n",
        "df.loc[random.choice(range(df.shape[0]), 1000), 'person_age'] = np.nan\n",
        "\n",
        "# Уберём значительную часть доходов у людей, которые хотят взять кредит на образование\n",
        "# Это зашумление нам даст неслучайное смещение\n",
        "df.loc[df[df['loan_intent'] == 'EDUCATION'].sample(3000).index, 'person_income'] = np.nan"
      ]
    },
    {
      "cell_type": "code",
      "execution_count": null,
      "id": "UyTOT--6bR82",
      "metadata": {
        "id": "UyTOT--6bR82"
      },
      "outputs": [],
      "source": [
        "# Разбить на train и test выборки\n",
        "train, test = train_test_split(df , test_size=0.25, random_state=43)\n",
        "\n",
        "features_income_crsc = ['person_income', 'credit_score']\n",
        "\n",
        "my_X_train = train[features_income_crsc]\n",
        "my_Y_train = train[TARGET]\n",
        "my_X_test = test[features_income_crsc]\n",
        "Y_test = test[TARGET]\n"
      ]
    },
    {
      "cell_type": "code",
      "execution_count": null,
      "id": "c12be08c",
      "metadata": {},
      "outputs": [],
      "source": [
        "my_lr = MyLogisticRegression(lr=1e-6)\n",
        "sk_lr = LogisticRegression()\n",
        "\n",
        "my_lr.fit(my_X_train.values, my_Y_train.values * 2 - 1, c_epoch=100)\n"
      ]
    },
    {
      "cell_type": "code",
      "execution_count": null,
      "id": "4a8354d7",
      "metadata": {},
      "outputs": [],
      "source": [
        "\n",
        "train['my_predict'] = my_lr.predict(my_X_train.values)\n",
        "train['my_predict_proba'] = my_lr.predict_proba(my_X_train.values) "
      ]
    },
    {
      "cell_type": "code",
      "execution_count": null,
      "id": "a2cf6877",
      "metadata": {},
      "outputs": [],
      "source": [
        "my_train_sample = train.sample(2500)\n",
        "my_test_sample = test.sample(2500)\n",
        "\n",
        "print(my_train_sample)"
      ]
    },
    {
      "cell_type": "code",
      "execution_count": 112,
      "id": "2a2d0e81",
      "metadata": {},
      "outputs": [
        {
          "data": {
            "image/png": "[encoded data removed]",
            "text/plain": [
              "<Figure size 640x480 with 2 Axes>"
            ]
          },
          "metadata": {},
          "output_type": "display_data"
        }
      ],
      "source": [
        "cmap = sns.color_palette('ch:', as_cmap= True)\n",
        "sm = plt.cm.ScalarMappable(cmap=cmap, norm=mpl.colors.Normalize())\n",
        "my_scatter = sns.scatterplot(data=train_sample, x='person_income', y='credit_score', hue=TARGET, hue_norm=sm.norm, palette= cmap, legend=True)\n",
        "cbar = plt.colorbar(sm, ax = plt.gca())\n",
        "# cbar.set_label('hue')"
      ]
    },
    {
      "cell_type": "code",
      "execution_count": null,
      "id": "G5gTi2x3bSmk",
      "metadata": {
        "id": "G5gTi2x3bSmk"
      },
      "outputs": [],
      "source": []
    },
    {
      "cell_type": "code",
      "execution_count": null,
      "id": "Nc_RoErCbs7b",
      "metadata": {
        "id": "Nc_RoErCbs7b"
      },
      "outputs": [],
      "source": []
    },
    {
      "cell_type": "code",
      "execution_count": null,
      "id": "SOhlw_Ylbs_H",
      "metadata": {
        "id": "SOhlw_Ylbs_H"
      },
      "outputs": [],
      "source": []
    }
  ],
  "metadata": {
    "colab": {
      "provenance": []
    },
    "kernelspec": {
      "display_name": "base",
      "language": "python",
      "name": "python3"
    },
    "language_info": {
      "codemirror_mode": {
        "name": "ipython",
        "version": 3
      },
      "file_extension": ".py",
      "mimetype": "text/x-python",
      "name": "python",
      "nbconvert_exporter": "python",
      "pygments_lexer": "ipython3",
      "version": "3.12.7"
    },
    "widgets": {
      "application/vnd.jupyter.widget-state+json": {
        "0100837e6bcb403da1e333a98d1ead50": {
          "model_module": "@jupyter-widgets/controls",
          "model_module_version": "1.5.0",
          "model_name": "HBoxModel",
          "state": {
            "_dom_classes": [],
            "_model_module": "@jupyter-widgets/controls",
            "_model_module_version": "1.5.0",
            "_model_name": "HBoxModel",
            "_view_count": null,
            "_view_module": "@jupyter-widgets/controls",
            "_view_module_version": "1.5.0",
            "_view_name": "HBoxView",
            "box_style": "",
            "children": [
              "IPY_MODEL_29937285e3714dc1b8724c7679742d5b",
              "IPY_MODEL_b81f4be356834d4d8cc5cf958b831553",
              "IPY_MODEL_94453e9d3a79404889237ccd7bcf06a8"
            ],
            "layout": "IPY_MODEL_bcae43374b774a619cb675ff346d41e4"
          }
        },
        "29937285e3714dc1b8724c7679742d5b": {
          "model_module": "@jupyter-widgets/controls",
          "model_module_version": "1.5.0",
          "model_name": "HTMLModel",
          "state": {
            "_dom_classes": [],
            "_model_module": "@jupyter-widgets/controls",
            "_model_module_version": "1.5.0",
            "_model_name": "HTMLModel",
            "_view_count": null,
            "_view_module": "@jupyter-widgets/controls",
            "_view_module_version": "1.5.0",
            "_view_name": "HTMLView",
            "description": "",
            "description_tooltip": null,
            "layout": "IPY_MODEL_e5f619db4dbe4e37a6d229abeae032e5",
            "placeholder": "​",
            "style": "IPY_MODEL_d915c3255e344d408d4f6caa03386e22",
            "value": "100%"
          }
        },
        "32fec8ddb4a04f4184a14a9889aa6cbd": {
          "model_module": "@jupyter-widgets/controls",
          "model_module_version": "1.5.0",
          "model_name": "DescriptionStyleModel",
          "state": {
            "_model_module": "@jupyter-widgets/controls",
            "_model_module_version": "1.5.0",
            "_model_name": "DescriptionStyleModel",
            "_view_count": null,
            "_view_module": "@jupyter-widgets/base",
            "_view_module_version": "1.2.0",
            "_view_name": "StyleView",
            "description_width": ""
          }
        },
        "94453e9d3a79404889237ccd7bcf06a8": {
          "model_module": "@jupyter-widgets/controls",
          "model_module_version": "1.5.0",
          "model_name": "HTMLModel",
          "state": {
            "_dom_classes": [],
            "_model_module": "@jupyter-widgets/controls",
            "_model_module_version": "1.5.0",
            "_model_name": "HTMLModel",
            "_view_count": null,
            "_view_module": "@jupyter-widgets/controls",
            "_view_module_version": "1.5.0",
            "_view_name": "HTMLView",
            "description": "",
            "description_tooltip": null,
            "layout": "IPY_MODEL_fef91b72384942cfbda103a6317573a6",
            "placeholder": "​",
            "style": "IPY_MODEL_32fec8ddb4a04f4184a14a9889aa6cbd",
            "value": " 100/100 [00:07&lt;00:00, 16.32it/s]"
          }
        },
        "a05e3557bde8430eaae652f390552a1c": {
          "model_module": "@jupyter-widgets/controls",
          "model_module_version": "1.5.0",
          "model_name": "ProgressStyleModel",
          "state": {
            "_model_module": "@jupyter-widgets/controls",
            "_model_module_version": "1.5.0",
            "_model_name": "ProgressStyleModel",
            "_view_count": null,
            "_view_module": "@jupyter-widgets/base",
            "_view_module_version": "1.2.0",
            "_view_name": "StyleView",
            "bar_color": null,
            "description_width": ""
          }
        },
        "b81f4be356834d4d8cc5cf958b831553": {
          "model_module": "@jupyter-widgets/controls",
          "model_module_version": "1.5.0",
          "model_name": "FloatProgressModel",
          "state": {
            "_dom_classes": [],
            "_model_module": "@jupyter-widgets/controls",
            "_model_module_version": "1.5.0",
            "_model_name": "FloatProgressModel",
            "_view_count": null,
            "_view_module": "@jupyter-widgets/controls",
            "_view_module_version": "1.5.0",
            "_view_name": "ProgressView",
            "bar_style": "success",
            "description": "",
            "description_tooltip": null,
            "layout": "IPY_MODEL_c9e72a3ae3a3446d91fd544fdfdcae5a",
            "max": 100,
            "min": 0,
            "orientation": "horizontal",
            "style": "IPY_MODEL_a05e3557bde8430eaae652f390552a1c",
            "value": 100
          }
        },
        "bcae43374b774a619cb675ff346d41e4": {
          "model_module": "@jupyter-widgets/base",
          "model_module_version": "1.2.0",
          "model_name": "LayoutModel",
          "state": {
            "_model_module": "@jupyter-widgets/base",
            "_model_module_version": "1.2.0",
            "_model_name": "LayoutModel",
            "_view_count": null,
            "_view_module": "@jupyter-widgets/base",
            "_view_module_version": "1.2.0",
            "_view_name": "LayoutView",
            "align_content": null,
            "align_items": null,
            "align_self": null,
            "border": null,
            "bottom": null,
            "display": null,
            "flex": null,
            "flex_flow": null,
            "grid_area": null,
            "grid_auto_columns": null,
            "grid_auto_flow": null,
            "grid_auto_rows": null,
            "grid_column": null,
            "grid_gap": null,
            "grid_row": null,
            "grid_template_areas": null,
            "grid_template_columns": null,
            "grid_template_rows": null,
            "height": null,
            "justify_content": null,
            "justify_items": null,
            "left": null,
            "margin": null,
            "max_height": null,
            "max_width": null,
            "min_height": null,
            "min_width": null,
            "object_fit": null,
            "object_position": null,
            "order": null,
            "overflow": null,
            "overflow_x": null,
            "overflow_y": null,
            "padding": null,
            "right": null,
            "top": null,
            "visibility": null,
            "width": null
          }
        },
        "c9e72a3ae3a3446d91fd544fdfdcae5a": {
          "model_module": "@jupyter-widgets/base",
          "model_module_version": "1.2.0",
          "model_name": "LayoutModel",
          "state": {
            "_model_module": "@jupyter-widgets/base",
            "_model_module_version": "1.2.0",
            "_model_name": "LayoutModel",
            "_view_count": null,
            "_view_module": "@jupyter-widgets/base",
            "_view_module_version": "1.2.0",
            "_view_name": "LayoutView",
            "align_content": null,
            "align_items": null,
            "align_self": null,
            "border": null,
            "bottom": null,
            "display": null,
            "flex": null,
            "flex_flow": null,
            "grid_area": null,
            "grid_auto_columns": null,
            "grid_auto_flow": null,
            "grid_auto_rows": null,
            "grid_column": null,
            "grid_gap": null,
            "grid_row": null,
            "grid_template_areas": null,
            "grid_template_columns": null,
            "grid_template_rows": null,
            "height": null,
            "justify_content": null,
            "justify_items": null,
            "left": null,
            "margin": null,
            "max_height": null,
            "max_width": null,
            "min_height": null,
            "min_width": null,
            "object_fit": null,
            "object_position": null,
            "order": null,
            "overflow": null,
            "overflow_x": null,
            "overflow_y": null,
            "padding": null,
            "right": null,
            "top": null,
            "visibility": null,
            "width": null
          }
        },
        "d915c3255e344d408d4f6caa03386e22": {
          "model_module": "@jupyter-widgets/controls",
          "model_module_version": "1.5.0",
          "model_name": "DescriptionStyleModel",
          "state": {
            "_model_module": "@jupyter-widgets/controls",
            "_model_module_version": "1.5.0",
            "_model_name": "DescriptionStyleModel",
            "_view_count": null,
            "_view_module": "@jupyter-widgets/base",
            "_view_module_version": "1.2.0",
            "_view_name": "StyleView",
            "description_width": ""
          }
        },
        "e5f619db4dbe4e37a6d229abeae032e5": {
          "model_module": "@jupyter-widgets/base",
          "model_module_version": "1.2.0",
          "model_name": "LayoutModel",
          "state": {
            "_model_module": "@jupyter-widgets/base",
            "_model_module_version": "1.2.0",
            "_model_name": "LayoutModel",
            "_view_count": null,
            "_view_module": "@jupyter-widgets/base",
            "_view_module_version": "1.2.0",
            "_view_name": "LayoutView",
            "align_content": null,
            "align_items": null,
            "align_self": null,
            "border": null,
            "bottom": null,
            "display": null,
            "flex": null,
            "flex_flow": null,
            "grid_area": null,
            "grid_auto_columns": null,
            "grid_auto_flow": null,
            "grid_auto_rows": null,
            "grid_column": null,
            "grid_gap": null,
            "grid_row": null,
            "grid_template_areas": null,
            "grid_template_columns": null,
            "grid_template_rows": null,
            "height": null,
            "justify_content": null,
            "justify_items": null,
            "left": null,
            "margin": null,
            "max_height": null,
            "max_width": null,
            "min_height": null,
            "min_width": null,
            "object_fit": null,
            "object_position": null,
            "order": null,
            "overflow": null,
            "overflow_x": null,
            "overflow_y": null,
            "padding": null,
            "right": null,
            "top": null,
            "visibility": null,
            "width": null
          }
        },
        "fef91b72384942cfbda103a6317573a6": {
          "model_module": "@jupyter-widgets/base",
          "model_module_version": "1.2.0",
          "model_name": "LayoutModel",
          "state": {
            "_model_module": "@jupyter-widgets/base",
            "_model_module_version": "1.2.0",
            "_model_name": "LayoutModel",
            "_view_count": null,
            "_view_module": "@jupyter-widgets/base",
            "_view_module_version": "1.2.0",
            "_view_name": "LayoutView",
            "align_content": null,
            "align_items": null,
            "align_self": null,
            "border": null,
            "bottom": null,
            "display": null,
            "flex": null,
            "flex_flow": null,
            "grid_area": null,
            "grid_auto_columns": null,
            "grid_auto_flow": null,
            "grid_auto_rows": null,
            "grid_column": null,
            "grid_gap": null,
            "grid_row": null,
            "grid_template_areas": null,
            "grid_template_columns": null,
            "grid_template_rows": null,
            "height": null,
            "justify_content": null,
            "justify_items": null,
            "left": null,
            "margin": null,
            "max_height": null,
            "max_width": null,
            "min_height": null,
            "min_width": null,
            "object_fit": null,
            "object_position": null,
            "order": null,
            "overflow": null,
            "overflow_x": null,
            "overflow_y": null,
            "padding": null,
            "right": null,
            "top": null,
            "visibility": null,
            "width": null
          }
        }
      }
    }
  },
  "nbformat": 4,
  "nbformat_minor": 5
}
